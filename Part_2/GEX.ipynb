{
 "cells": [
  {
   "cell_type": "code",
   "execution_count": 51,
   "metadata": {},
   "outputs": [
    {
     "name": "stdout",
     "output_type": "stream",
     "text": [
      "Requirement already satisfied: great_expectations in /Users/anamikabharali/Documents/UNI/.venv/lib/python3.10/site-packages (0.17.19)\n",
      "Requirement already satisfied: altair<5.0.0,>=4.2.1 in /Users/anamikabharali/Documents/UNI/.venv/lib/python3.10/site-packages (from great_expectations) (4.2.2)\n",
      "Requirement already satisfied: Click!=8.1.4,>=7.1.2 in /Users/anamikabharali/Documents/UNI/.venv/lib/python3.10/site-packages (from great_expectations) (8.1.7)\n",
      "Requirement already satisfied: colorama>=0.4.3 in /Users/anamikabharali/Documents/UNI/.venv/lib/python3.10/site-packages (from great_expectations) (0.4.6)\n",
      "Requirement already satisfied: cryptography>=3.2 in /Users/anamikabharali/Documents/UNI/.venv/lib/python3.10/site-packages (from great_expectations) (41.0.4)\n",
      "Requirement already satisfied: Ipython>=7.16.3 in /Users/anamikabharali/Documents/UNI/.venv/lib/python3.10/site-packages (from great_expectations) (8.16.1)\n",
      "Requirement already satisfied: ipywidgets>=7.5.1 in /Users/anamikabharali/Documents/UNI/.venv/lib/python3.10/site-packages (from great_expectations) (8.1.1)\n",
      "Requirement already satisfied: jinja2>=2.10 in /Users/anamikabharali/Documents/UNI/.venv/lib/python3.10/site-packages (from great_expectations) (3.1.2)\n",
      "Requirement already satisfied: jsonpatch>=1.22 in /Users/anamikabharali/Documents/UNI/.venv/lib/python3.10/site-packages (from great_expectations) (1.33)\n",
      "Requirement already satisfied: jsonschema>=2.5.1 in /Users/anamikabharali/Documents/UNI/.venv/lib/python3.10/site-packages (from great_expectations) (4.19.1)\n",
      "Requirement already satisfied: makefun<2,>=1.7.0 in /Users/anamikabharali/Documents/UNI/.venv/lib/python3.10/site-packages (from great_expectations) (1.15.1)\n",
      "Requirement already satisfied: marshmallow<4.0.0,>=3.7.1 in /Users/anamikabharali/Documents/UNI/.venv/lib/python3.10/site-packages (from great_expectations) (3.20.1)\n",
      "Requirement already satisfied: mistune>=0.8.4 in /Users/anamikabharali/Documents/UNI/.venv/lib/python3.10/site-packages (from great_expectations) (3.0.2)\n",
      "Requirement already satisfied: nbformat>=5.0 in /Users/anamikabharali/Documents/UNI/.venv/lib/python3.10/site-packages (from great_expectations) (5.9.2)\n",
      "Requirement already satisfied: notebook>=6.4.10 in /Users/anamikabharali/Documents/UNI/.venv/lib/python3.10/site-packages (from great_expectations) (7.0.4)\n",
      "Requirement already satisfied: packaging in /Users/anamikabharali/Documents/UNI/.venv/lib/python3.10/site-packages (from great_expectations) (23.2)\n",
      "Requirement already satisfied: pydantic>=1.9.2 in /Users/anamikabharali/Documents/UNI/.venv/lib/python3.10/site-packages (from great_expectations) (2.4.2)\n",
      "Requirement already satisfied: pyparsing>=2.4 in /Users/anamikabharali/Documents/UNI/.venv/lib/python3.10/site-packages (from great_expectations) (3.1.1)\n",
      "Requirement already satisfied: python-dateutil>=2.8.1 in /Users/anamikabharali/Documents/UNI/.venv/lib/python3.10/site-packages (from great_expectations) (2.8.2)\n",
      "Requirement already satisfied: pytz>=2021.3 in /Users/anamikabharali/Documents/UNI/.venv/lib/python3.10/site-packages (from great_expectations) (2023.3.post1)\n",
      "Requirement already satisfied: requests>=2.20 in /Users/anamikabharali/Documents/UNI/.venv/lib/python3.10/site-packages (from great_expectations) (2.31.0)\n",
      "Requirement already satisfied: ruamel.yaml<0.17.18,>=0.16 in /Users/anamikabharali/Documents/UNI/.venv/lib/python3.10/site-packages (from great_expectations) (0.17.17)\n",
      "Requirement already satisfied: scipy>=1.6.0 in /Users/anamikabharali/Documents/UNI/.venv/lib/python3.10/site-packages (from great_expectations) (1.11.3)\n",
      "Requirement already satisfied: tqdm>=4.59.0 in /Users/anamikabharali/Documents/UNI/.venv/lib/python3.10/site-packages (from great_expectations) (4.66.1)\n",
      "Requirement already satisfied: typing-extensions>=3.10.0.0 in /Users/anamikabharali/Documents/UNI/.venv/lib/python3.10/site-packages (from great_expectations) (4.8.0)\n",
      "Requirement already satisfied: tzlocal>=1.2 in /Users/anamikabharali/Documents/UNI/.venv/lib/python3.10/site-packages (from great_expectations) (5.0.1)\n",
      "Requirement already satisfied: urllib3>=1.26 in /Users/anamikabharali/Documents/UNI/.venv/lib/python3.10/site-packages (from great_expectations) (1.26.17)\n",
      "Requirement already satisfied: numpy>=1.22.4 in /Users/anamikabharali/Documents/UNI/.venv/lib/python3.10/site-packages (from great_expectations) (1.26.0)\n",
      "Requirement already satisfied: pandas>=1.3.0 in /Users/anamikabharali/Documents/UNI/.venv/lib/python3.10/site-packages (from great_expectations) (2.1.1)\n",
      "Requirement already satisfied: entrypoints in /Users/anamikabharali/Documents/UNI/.venv/lib/python3.10/site-packages (from altair<5.0.0,>=4.2.1->great_expectations) (0.4)\n",
      "Requirement already satisfied: toolz in /Users/anamikabharali/Documents/UNI/.venv/lib/python3.10/site-packages (from altair<5.0.0,>=4.2.1->great_expectations) (0.12.0)\n",
      "Requirement already satisfied: cffi>=1.12 in /Users/anamikabharali/Documents/UNI/.venv/lib/python3.10/site-packages (from cryptography>=3.2->great_expectations) (1.16.0)\n",
      "Requirement already satisfied: backcall in /Users/anamikabharali/Documents/UNI/.venv/lib/python3.10/site-packages (from Ipython>=7.16.3->great_expectations) (0.2.0)\n",
      "Requirement already satisfied: decorator in /Users/anamikabharali/Documents/UNI/.venv/lib/python3.10/site-packages (from Ipython>=7.16.3->great_expectations) (5.1.1)\n",
      "Requirement already satisfied: jedi>=0.16 in /Users/anamikabharali/Documents/UNI/.venv/lib/python3.10/site-packages (from Ipython>=7.16.3->great_expectations) (0.19.1)\n",
      "Requirement already satisfied: matplotlib-inline in /Users/anamikabharali/Documents/UNI/.venv/lib/python3.10/site-packages (from Ipython>=7.16.3->great_expectations) (0.1.6)\n",
      "Requirement already satisfied: pickleshare in /Users/anamikabharali/Documents/UNI/.venv/lib/python3.10/site-packages (from Ipython>=7.16.3->great_expectations) (0.7.5)\n",
      "Requirement already satisfied: prompt-toolkit!=3.0.37,<3.1.0,>=3.0.30 in /Users/anamikabharali/Documents/UNI/.venv/lib/python3.10/site-packages (from Ipython>=7.16.3->great_expectations) (3.0.39)\n",
      "Requirement already satisfied: pygments>=2.4.0 in /Users/anamikabharali/Documents/UNI/.venv/lib/python3.10/site-packages (from Ipython>=7.16.3->great_expectations) (2.16.1)\n",
      "Requirement already satisfied: stack-data in /Users/anamikabharali/Documents/UNI/.venv/lib/python3.10/site-packages (from Ipython>=7.16.3->great_expectations) (0.6.3)\n",
      "Requirement already satisfied: traitlets>=5 in /Users/anamikabharali/Documents/UNI/.venv/lib/python3.10/site-packages (from Ipython>=7.16.3->great_expectations) (5.11.2)\n",
      "Requirement already satisfied: exceptiongroup in /Users/anamikabharali/Documents/UNI/.venv/lib/python3.10/site-packages (from Ipython>=7.16.3->great_expectations) (1.1.3)\n",
      "Requirement already satisfied: pexpect>4.3 in /Users/anamikabharali/Documents/UNI/.venv/lib/python3.10/site-packages (from Ipython>=7.16.3->great_expectations) (4.8.0)\n",
      "Requirement already satisfied: appnope in /Users/anamikabharali/Documents/UNI/.venv/lib/python3.10/site-packages (from Ipython>=7.16.3->great_expectations) (0.1.3)\n",
      "Requirement already satisfied: comm>=0.1.3 in /Users/anamikabharali/Documents/UNI/.venv/lib/python3.10/site-packages (from ipywidgets>=7.5.1->great_expectations) (0.1.4)\n",
      "Requirement already satisfied: widgetsnbextension~=4.0.9 in /Users/anamikabharali/Documents/UNI/.venv/lib/python3.10/site-packages (from ipywidgets>=7.5.1->great_expectations) (4.0.9)\n",
      "Requirement already satisfied: jupyterlab-widgets~=3.0.9 in /Users/anamikabharali/Documents/UNI/.venv/lib/python3.10/site-packages (from ipywidgets>=7.5.1->great_expectations) (3.0.9)\n",
      "Requirement already satisfied: MarkupSafe>=2.0 in /Users/anamikabharali/Documents/UNI/.venv/lib/python3.10/site-packages (from jinja2>=2.10->great_expectations) (2.1.3)\n",
      "Requirement already satisfied: jsonpointer>=1.9 in /Users/anamikabharali/Documents/UNI/.venv/lib/python3.10/site-packages (from jsonpatch>=1.22->great_expectations) (2.4)\n",
      "Requirement already satisfied: attrs>=22.2.0 in /Users/anamikabharali/Documents/UNI/.venv/lib/python3.10/site-packages (from jsonschema>=2.5.1->great_expectations) (23.1.0)\n",
      "Requirement already satisfied: jsonschema-specifications>=2023.03.6 in /Users/anamikabharali/Documents/UNI/.venv/lib/python3.10/site-packages (from jsonschema>=2.5.1->great_expectations) (2023.7.1)\n",
      "Requirement already satisfied: referencing>=0.28.4 in /Users/anamikabharali/Documents/UNI/.venv/lib/python3.10/site-packages (from jsonschema>=2.5.1->great_expectations) (0.30.2)\n",
      "Requirement already satisfied: rpds-py>=0.7.1 in /Users/anamikabharali/Documents/UNI/.venv/lib/python3.10/site-packages (from jsonschema>=2.5.1->great_expectations) (0.10.3)\n",
      "Requirement already satisfied: fastjsonschema in /Users/anamikabharali/Documents/UNI/.venv/lib/python3.10/site-packages (from nbformat>=5.0->great_expectations) (2.18.1)\n",
      "Requirement already satisfied: jupyter-core in /Users/anamikabharali/Documents/UNI/.venv/lib/python3.10/site-packages (from nbformat>=5.0->great_expectations) (5.3.2)\n",
      "Requirement already satisfied: jupyter-server<3,>=2.4.0 in /Users/anamikabharali/Documents/UNI/.venv/lib/python3.10/site-packages (from notebook>=6.4.10->great_expectations) (2.7.3)\n",
      "Requirement already satisfied: jupyterlab-server<3,>=2.22.1 in /Users/anamikabharali/Documents/UNI/.venv/lib/python3.10/site-packages (from notebook>=6.4.10->great_expectations) (2.25.0)\n",
      "Requirement already satisfied: jupyterlab<5,>=4.0.2 in /Users/anamikabharali/Documents/UNI/.venv/lib/python3.10/site-packages (from notebook>=6.4.10->great_expectations) (4.0.6)\n",
      "Requirement already satisfied: notebook-shim<0.3,>=0.2 in /Users/anamikabharali/Documents/UNI/.venv/lib/python3.10/site-packages (from notebook>=6.4.10->great_expectations) (0.2.3)\n",
      "Requirement already satisfied: tornado>=6.2.0 in /Users/anamikabharali/Documents/UNI/.venv/lib/python3.10/site-packages (from notebook>=6.4.10->great_expectations) (6.3.3)\n",
      "Requirement already satisfied: tzdata>=2022.1 in /Users/anamikabharali/Documents/UNI/.venv/lib/python3.10/site-packages (from pandas>=1.3.0->great_expectations) (2023.3)\n",
      "Requirement already satisfied: annotated-types>=0.4.0 in /Users/anamikabharali/Documents/UNI/.venv/lib/python3.10/site-packages (from pydantic>=1.9.2->great_expectations) (0.5.0)\n",
      "Requirement already satisfied: pydantic-core==2.10.1 in /Users/anamikabharali/Documents/UNI/.venv/lib/python3.10/site-packages (from pydantic>=1.9.2->great_expectations) (2.10.1)\n",
      "Requirement already satisfied: six>=1.5 in /Users/anamikabharali/Documents/UNI/.venv/lib/python3.10/site-packages (from python-dateutil>=2.8.1->great_expectations) (1.16.0)\n",
      "Requirement already satisfied: charset-normalizer<4,>=2 in /Users/anamikabharali/Documents/UNI/.venv/lib/python3.10/site-packages (from requests>=2.20->great_expectations) (3.3.0)\n",
      "Requirement already satisfied: idna<4,>=2.5 in /Users/anamikabharali/Documents/UNI/.venv/lib/python3.10/site-packages (from requests>=2.20->great_expectations) (3.4)\n",
      "Requirement already satisfied: certifi>=2017.4.17 in /Users/anamikabharali/Documents/UNI/.venv/lib/python3.10/site-packages (from requests>=2.20->great_expectations) (2023.7.22)\n",
      "Requirement already satisfied: pycparser in /Users/anamikabharali/Documents/UNI/.venv/lib/python3.10/site-packages (from cffi>=1.12->cryptography>=3.2->great_expectations) (2.21)\n",
      "Requirement already satisfied: parso<0.9.0,>=0.8.3 in /Users/anamikabharali/Documents/UNI/.venv/lib/python3.10/site-packages (from jedi>=0.16->Ipython>=7.16.3->great_expectations) (0.8.3)\n",
      "Requirement already satisfied: anyio>=3.1.0 in /Users/anamikabharali/Documents/UNI/.venv/lib/python3.10/site-packages (from jupyter-server<3,>=2.4.0->notebook>=6.4.10->great_expectations) (4.0.0)\n",
      "Requirement already satisfied: argon2-cffi in /Users/anamikabharali/Documents/UNI/.venv/lib/python3.10/site-packages (from jupyter-server<3,>=2.4.0->notebook>=6.4.10->great_expectations) (23.1.0)\n",
      "Requirement already satisfied: jupyter-client>=7.4.4 in /Users/anamikabharali/Documents/UNI/.venv/lib/python3.10/site-packages (from jupyter-server<3,>=2.4.0->notebook>=6.4.10->great_expectations) (8.3.1)\n",
      "Requirement already satisfied: jupyter-events>=0.6.0 in /Users/anamikabharali/Documents/UNI/.venv/lib/python3.10/site-packages (from jupyter-server<3,>=2.4.0->notebook>=6.4.10->great_expectations) (0.7.0)\n",
      "Requirement already satisfied: jupyter-server-terminals in /Users/anamikabharali/Documents/UNI/.venv/lib/python3.10/site-packages (from jupyter-server<3,>=2.4.0->notebook>=6.4.10->great_expectations) (0.4.4)\n",
      "Requirement already satisfied: nbconvert>=6.4.4 in /Users/anamikabharali/Documents/UNI/.venv/lib/python3.10/site-packages (from jupyter-server<3,>=2.4.0->notebook>=6.4.10->great_expectations) (7.8.0)\n",
      "Requirement already satisfied: overrides in /Users/anamikabharali/Documents/UNI/.venv/lib/python3.10/site-packages (from jupyter-server<3,>=2.4.0->notebook>=6.4.10->great_expectations) (7.4.0)\n",
      "Requirement already satisfied: prometheus-client in /Users/anamikabharali/Documents/UNI/.venv/lib/python3.10/site-packages (from jupyter-server<3,>=2.4.0->notebook>=6.4.10->great_expectations) (0.17.1)\n",
      "Requirement already satisfied: pyzmq>=24 in /Users/anamikabharali/Documents/UNI/.venv/lib/python3.10/site-packages (from jupyter-server<3,>=2.4.0->notebook>=6.4.10->great_expectations) (25.1.1)\n",
      "Requirement already satisfied: send2trash>=1.8.2 in /Users/anamikabharali/Documents/UNI/.venv/lib/python3.10/site-packages (from jupyter-server<3,>=2.4.0->notebook>=6.4.10->great_expectations) (1.8.2)\n",
      "Requirement already satisfied: terminado>=0.8.3 in /Users/anamikabharali/Documents/UNI/.venv/lib/python3.10/site-packages (from jupyter-server<3,>=2.4.0->notebook>=6.4.10->great_expectations) (0.17.1)\n",
      "Requirement already satisfied: websocket-client in /Users/anamikabharali/Documents/UNI/.venv/lib/python3.10/site-packages (from jupyter-server<3,>=2.4.0->notebook>=6.4.10->great_expectations) (1.6.3)\n",
      "Requirement already satisfied: platformdirs>=2.5 in /Users/anamikabharali/Documents/UNI/.venv/lib/python3.10/site-packages (from jupyter-core->nbformat>=5.0->great_expectations) (3.11.0)\n",
      "Requirement already satisfied: async-lru>=1.0.0 in /Users/anamikabharali/Documents/UNI/.venv/lib/python3.10/site-packages (from jupyterlab<5,>=4.0.2->notebook>=6.4.10->great_expectations) (2.0.4)\n",
      "Requirement already satisfied: ipykernel in /Users/anamikabharali/Documents/UNI/.venv/lib/python3.10/site-packages (from jupyterlab<5,>=4.0.2->notebook>=6.4.10->great_expectations) (6.25.2)\n",
      "Requirement already satisfied: jupyter-lsp>=2.0.0 in /Users/anamikabharali/Documents/UNI/.venv/lib/python3.10/site-packages (from jupyterlab<5,>=4.0.2->notebook>=6.4.10->great_expectations) (2.2.0)\n",
      "Requirement already satisfied: tomli in /Users/anamikabharali/Documents/UNI/.venv/lib/python3.10/site-packages (from jupyterlab<5,>=4.0.2->notebook>=6.4.10->great_expectations) (2.0.1)\n",
      "Requirement already satisfied: babel>=2.10 in /Users/anamikabharali/Documents/UNI/.venv/lib/python3.10/site-packages (from jupyterlab-server<3,>=2.22.1->notebook>=6.4.10->great_expectations) (2.13.0)\n",
      "Requirement already satisfied: json5>=0.9.0 in /Users/anamikabharali/Documents/UNI/.venv/lib/python3.10/site-packages (from jupyterlab-server<3,>=2.22.1->notebook>=6.4.10->great_expectations) (0.9.14)\n",
      "Requirement already satisfied: ptyprocess>=0.5 in /Users/anamikabharali/Documents/UNI/.venv/lib/python3.10/site-packages (from pexpect>4.3->Ipython>=7.16.3->great_expectations) (0.7.0)\n",
      "Requirement already satisfied: wcwidth in /Users/anamikabharali/Documents/UNI/.venv/lib/python3.10/site-packages (from prompt-toolkit!=3.0.37,<3.1.0,>=3.0.30->Ipython>=7.16.3->great_expectations) (0.2.8)\n",
      "Requirement already satisfied: executing>=1.2.0 in /Users/anamikabharali/Documents/UNI/.venv/lib/python3.10/site-packages (from stack-data->Ipython>=7.16.3->great_expectations) (2.0.0)\n",
      "Requirement already satisfied: asttokens>=2.1.0 in /Users/anamikabharali/Documents/UNI/.venv/lib/python3.10/site-packages (from stack-data->Ipython>=7.16.3->great_expectations) (2.4.0)\n",
      "Requirement already satisfied: pure-eval in /Users/anamikabharali/Documents/UNI/.venv/lib/python3.10/site-packages (from stack-data->Ipython>=7.16.3->great_expectations) (0.2.2)\n",
      "Requirement already satisfied: sniffio>=1.1 in /Users/anamikabharali/Documents/UNI/.venv/lib/python3.10/site-packages (from anyio>=3.1.0->jupyter-server<3,>=2.4.0->notebook>=6.4.10->great_expectations) (1.3.0)\n",
      "Requirement already satisfied: python-json-logger>=2.0.4 in /Users/anamikabharali/Documents/UNI/.venv/lib/python3.10/site-packages (from jupyter-events>=0.6.0->jupyter-server<3,>=2.4.0->notebook>=6.4.10->great_expectations) (2.0.7)\n",
      "Requirement already satisfied: pyyaml>=5.3 in /Users/anamikabharali/Documents/UNI/.venv/lib/python3.10/site-packages (from jupyter-events>=0.6.0->jupyter-server<3,>=2.4.0->notebook>=6.4.10->great_expectations) (6.0.1)\n",
      "Requirement already satisfied: rfc3339-validator in /Users/anamikabharali/Documents/UNI/.venv/lib/python3.10/site-packages (from jupyter-events>=0.6.0->jupyter-server<3,>=2.4.0->notebook>=6.4.10->great_expectations) (0.1.4)\n",
      "Requirement already satisfied: rfc3986-validator>=0.1.1 in /Users/anamikabharali/Documents/UNI/.venv/lib/python3.10/site-packages (from jupyter-events>=0.6.0->jupyter-server<3,>=2.4.0->notebook>=6.4.10->great_expectations) (0.1.1)\n",
      "Requirement already satisfied: beautifulsoup4 in /Users/anamikabharali/Documents/UNI/.venv/lib/python3.10/site-packages (from nbconvert>=6.4.4->jupyter-server<3,>=2.4.0->notebook>=6.4.10->great_expectations) (4.12.2)\n",
      "Requirement already satisfied: bleach!=5.0.0 in /Users/anamikabharali/Documents/UNI/.venv/lib/python3.10/site-packages (from nbconvert>=6.4.4->jupyter-server<3,>=2.4.0->notebook>=6.4.10->great_expectations) (6.0.0)\n",
      "Requirement already satisfied: defusedxml in /Users/anamikabharali/Documents/UNI/.venv/lib/python3.10/site-packages (from nbconvert>=6.4.4->jupyter-server<3,>=2.4.0->notebook>=6.4.10->great_expectations) (0.7.1)\n",
      "Requirement already satisfied: jupyterlab-pygments in /Users/anamikabharali/Documents/UNI/.venv/lib/python3.10/site-packages (from nbconvert>=6.4.4->jupyter-server<3,>=2.4.0->notebook>=6.4.10->great_expectations) (0.2.2)\n",
      "Requirement already satisfied: nbclient>=0.5.0 in /Users/anamikabharali/Documents/UNI/.venv/lib/python3.10/site-packages (from nbconvert>=6.4.4->jupyter-server<3,>=2.4.0->notebook>=6.4.10->great_expectations) (0.8.0)\n",
      "Requirement already satisfied: pandocfilters>=1.4.1 in /Users/anamikabharali/Documents/UNI/.venv/lib/python3.10/site-packages (from nbconvert>=6.4.4->jupyter-server<3,>=2.4.0->notebook>=6.4.10->great_expectations) (1.5.0)\n",
      "Requirement already satisfied: tinycss2 in /Users/anamikabharali/Documents/UNI/.venv/lib/python3.10/site-packages (from nbconvert>=6.4.4->jupyter-server<3,>=2.4.0->notebook>=6.4.10->great_expectations) (1.2.1)\n",
      "Requirement already satisfied: argon2-cffi-bindings in /Users/anamikabharali/Documents/UNI/.venv/lib/python3.10/site-packages (from argon2-cffi->jupyter-server<3,>=2.4.0->notebook>=6.4.10->great_expectations) (21.2.0)\n",
      "Requirement already satisfied: debugpy>=1.6.5 in /Users/anamikabharali/Documents/UNI/.venv/lib/python3.10/site-packages (from ipykernel->jupyterlab<5,>=4.0.2->notebook>=6.4.10->great_expectations) (1.8.0)\n",
      "Requirement already satisfied: nest-asyncio in /Users/anamikabharali/Documents/UNI/.venv/lib/python3.10/site-packages (from ipykernel->jupyterlab<5,>=4.0.2->notebook>=6.4.10->great_expectations) (1.5.8)\n",
      "Requirement already satisfied: psutil in /Users/anamikabharali/Documents/UNI/.venv/lib/python3.10/site-packages (from ipykernel->jupyterlab<5,>=4.0.2->notebook>=6.4.10->great_expectations) (5.9.5)\n",
      "Requirement already satisfied: webencodings in /Users/anamikabharali/Documents/UNI/.venv/lib/python3.10/site-packages (from bleach!=5.0.0->nbconvert>=6.4.4->jupyter-server<3,>=2.4.0->notebook>=6.4.10->great_expectations) (0.5.1)\n",
      "Requirement already satisfied: fqdn in /Users/anamikabharali/Documents/UNI/.venv/lib/python3.10/site-packages (from jsonschema>=2.5.1->great_expectations) (1.5.1)\n",
      "Requirement already satisfied: isoduration in /Users/anamikabharali/Documents/UNI/.venv/lib/python3.10/site-packages (from jsonschema>=2.5.1->great_expectations) (20.11.0)\n",
      "Requirement already satisfied: uri-template in /Users/anamikabharali/Documents/UNI/.venv/lib/python3.10/site-packages (from jsonschema>=2.5.1->great_expectations) (1.3.0)\n",
      "Requirement already satisfied: webcolors>=1.11 in /Users/anamikabharali/Documents/UNI/.venv/lib/python3.10/site-packages (from jsonschema>=2.5.1->great_expectations) (1.13)\n",
      "Requirement already satisfied: soupsieve>1.2 in /Users/anamikabharali/Documents/UNI/.venv/lib/python3.10/site-packages (from beautifulsoup4->nbconvert>=6.4.4->jupyter-server<3,>=2.4.0->notebook>=6.4.10->great_expectations) (2.5)\n",
      "Requirement already satisfied: arrow>=0.15.0 in /Users/anamikabharali/Documents/UNI/.venv/lib/python3.10/site-packages (from isoduration->jsonschema>=2.5.1->great_expectations) (1.3.0)\n",
      "Requirement already satisfied: types-python-dateutil>=2.8.10 in /Users/anamikabharali/Documents/UNI/.venv/lib/python3.10/site-packages (from arrow>=0.15.0->isoduration->jsonschema>=2.5.1->great_expectations) (2.8.19.14)\n"
     ]
    }
   ],
   "source": [
    "%%bash\n",
    "pip install 'great_expectations'"
   ]
  },
  {
   "cell_type": "code",
   "execution_count": 52,
   "id": "14634814",
   "metadata": {},
   "outputs": [],
   "source": [
    "import os\n",
    "import pandas as pd\n",
    "import great_expectations as gx\n",
    "from great_expectations.data_context import FileDataContext"
   ]
  },
  {
   "cell_type": "code",
   "execution_count": null,
   "id": "aba760bc",
   "metadata": {},
   "outputs": [],
   "source": [
    "%%bash\n",
    "pip install streamlit"
   ]
  },
  {
   "cell_type": "code",
   "execution_count": null,
   "id": "c12a7301",
   "metadata": {},
   "outputs": [],
   "source": [
    "import streamlit as st\n",
    "import numpy as np\n",
    "from io import StringIO"
   ]
  },
  {
   "cell_type": "code",
   "execution_count": null,
   "id": "72724aff",
   "metadata": {},
   "outputs": [],
   "source": [
    "st.title(\"Freddie Mac Dataset Quality Assessment App\")\n",
    "\n",
    "# File upload\n",
    "uploaded_file = st.file_uploader(\"Upload a CSV or XLS file\", type=[\"csv\", \"xls\"])\n",
    "\n",
    "# User selects data type\n",
    "data_type = st.radio(\"Select Data Type:\", (\"Origination Data\", \"Monthly Performance Data\"))\n",
    "\n",
    "if uploaded_file is not None:\n",
    "    # Load data into Pandas DataFrame\n",
    "    if data_type == \"Origination Data\":\n",
    "        df = pd.read_csv(uploaded_file)\n",
    "    else:\n",
    "        df = pd.read_excel(uploaded_file)"
   ]
  },
  {
   "cell_type": "code",
   "execution_count": 53,
   "id": "9f84e117",
   "metadata": {},
   "outputs": [],
   "source": [
    "path_to_repo_dir=\"/Users/anamikabharali/Documents/UNI/BD/streamlit\" #local path to csv\n",
    "path_to_data_dir=f\"{path_to_repo_dir}/gx/data\" \n",
    "expectation_suite_name=\"GE_Suite\" "
   ]
  },
  {
   "cell_type": "code",
   "execution_count": 54,
   "id": "5775882d",
   "metadata": {},
   "outputs": [],
   "source": [
    "context = FileDataContext.create(project_root_dir=path_to_repo_dir)"
   ]
  },
  {
   "cell_type": "code",
   "execution_count": 55,
   "id": "3edfabc3",
   "metadata": {},
   "outputs": [],
   "source": [
    "os.mkdir(path_to_data_dir)\n",
    "\n",
    "df = pd.read_csv('/Users/anamikabharali/Documents/UNI/BD/streamlit/historical_data_2022Q1.txt', delimiter=\"|\", header = None)\n",
    "\n"
   ]
  },
  {
   "cell_type": "code",
   "execution_count": 56,
   "id": "de48b47d",
   "metadata": {},
   "outputs": [],
   "source": [
    "if data_type == \"Origination Data\":\n",
    "    df.columns=['Credit_Score', 'First_Payment_Date', 'First_Time_Homebuyer_Flag','Maturity_Date','MSA', 'MI','Number_of_Units','Occupancy_Status','CLTV','DTI','UPB','LTV','Original_Interest_Rate','Channel','PPM','Amortization','Property_State','Property_Type','Postal_Code','Loan_Sequence_Number','Loan_Purpose','Original_Loan_Term','Number_of_Borrowers','Seller_Name','Servicer_Name','Super_Conforming_Flag','HARP','Program_Indicator','HARP_Indicator','Property_Valuation_Method','nterest_Only','Mortgage_Insurance_Cancellation_Indicator']\n",
    "else:\n",
    "    df.columns=['Loan_Sequence_Number','Monthly_Reporting_Period','Current_Actual_UPB','Current_Loan_Delinquency_Status','Loan_Age','Remaining_Months_to_Legal_Maturity','Defect_Settlement_Date','Modification_Flag','Zero_Balance_Code','Zero_Balance_Effective_Date','Current_Interest_Rate','Current_Deferred_UPB','Due_Date_of_Last_Paid_Installment_(DDLPI)','MI_Recoveries','Net_Sales_Proceeds','Non_MI_Recoveries','Expenses','Legal_Costs','Maintenance_and_Preservation_Costs','Taxes_and_Insurance','Miscellaneous_Expenses','Actual_Loss_Calculation','Modification_Cost','Step_Modification_Flag','Deferred_Payment_Plan','Estimated_Loan_to_Value_(ELTV)','Zero_Balance_Removal_UPB','Delinquent_Accrued_Interest','Delinquency_Due_to_Disaster','Borrower_Assistance_Status_Code','Current_Month_Modification_Cost','Interest_Bearing_UPB']\n",
    "\n",
    "# Save the DataFrame as a CSV file\n",
    "df.to_csv(f\"{path_to_repo_dir}/gx/data/historical_data_2022Q1.csv\", index=False)"
   ]
  },
  {
   "cell_type": "code",
   "execution_count": 57,
   "id": "caabc39e",
   "metadata": {},
   "outputs": [
    {
     "data": {
      "text/html": [
       "<div>\n",
       "<style scoped>\n",
       "    .dataframe tbody tr th:only-of-type {\n",
       "        vertical-align: middle;\n",
       "    }\n",
       "\n",
       "    .dataframe tbody tr th {\n",
       "        vertical-align: top;\n",
       "    }\n",
       "\n",
       "    .dataframe thead th {\n",
       "        text-align: right;\n",
       "    }\n",
       "</style>\n",
       "<table border=\"1\" class=\"dataframe\">\n",
       "  <thead>\n",
       "    <tr style=\"text-align: right;\">\n",
       "      <th></th>\n",
       "      <th>Loan_Sequence_Number</th>\n",
       "      <th>Monthly_Reporting_Period</th>\n",
       "      <th>Current_Actual_UPB</th>\n",
       "      <th>Current_Loan_Delinquency_Status</th>\n",
       "      <th>Loan_Age</th>\n",
       "      <th>Remaining_Months_to_Legal_Maturity</th>\n",
       "      <th>Defect_Settlement_Date</th>\n",
       "      <th>Modification_Flag</th>\n",
       "      <th>Zero_Balance_Code</th>\n",
       "      <th>Zero_Balance_Effective_Date</th>\n",
       "      <th>...</th>\n",
       "      <th>Modification_Cost</th>\n",
       "      <th>Step_Modification_Flag</th>\n",
       "      <th>Deferred_Payment_Plan</th>\n",
       "      <th>Estimated_Loan_to_Value_(ELTV)</th>\n",
       "      <th>Zero_Balance_Removal_UPB</th>\n",
       "      <th>Delinquent_Accrued_Interest</th>\n",
       "      <th>Delinquency_Due_to_Disaster</th>\n",
       "      <th>Borrower_Assistance_Status_Code</th>\n",
       "      <th>Current_Month_Modification_Cost</th>\n",
       "      <th>Interest_Bearing_UPB</th>\n",
       "    </tr>\n",
       "  </thead>\n",
       "  <tbody>\n",
       "    <tr>\n",
       "      <th>0</th>\n",
       "      <td>763</td>\n",
       "      <td>202203</td>\n",
       "      <td>N</td>\n",
       "      <td>205202</td>\n",
       "      <td>47664.0</td>\n",
       "      <td>0</td>\n",
       "      <td>1</td>\n",
       "      <td>P</td>\n",
       "      <td>95</td>\n",
       "      <td>47</td>\n",
       "      <td>...</td>\n",
       "      <td>2</td>\n",
       "      <td>Other sellers</td>\n",
       "      <td>Other servicers</td>\n",
       "      <td>NaN</td>\n",
       "      <td>NaN</td>\n",
       "      <td>9</td>\n",
       "      <td>NaN</td>\n",
       "      <td>2</td>\n",
       "      <td>N</td>\n",
       "      <td>7</td>\n",
       "    </tr>\n",
       "    <tr>\n",
       "      <th>1</th>\n",
       "      <td>691</td>\n",
       "      <td>202203</td>\n",
       "      <td>N</td>\n",
       "      <td>203702</td>\n",
       "      <td>47664.0</td>\n",
       "      <td>0</td>\n",
       "      <td>1</td>\n",
       "      <td>P</td>\n",
       "      <td>67</td>\n",
       "      <td>25</td>\n",
       "      <td>...</td>\n",
       "      <td>2</td>\n",
       "      <td>Other sellers</td>\n",
       "      <td>Other servicers</td>\n",
       "      <td>NaN</td>\n",
       "      <td>NaN</td>\n",
       "      <td>9</td>\n",
       "      <td>NaN</td>\n",
       "      <td>2</td>\n",
       "      <td>N</td>\n",
       "      <td>7</td>\n",
       "    </tr>\n",
       "    <tr>\n",
       "      <th>2</th>\n",
       "      <td>678</td>\n",
       "      <td>202203</td>\n",
       "      <td>N</td>\n",
       "      <td>203702</td>\n",
       "      <td>NaN</td>\n",
       "      <td>0</td>\n",
       "      <td>2</td>\n",
       "      <td>P</td>\n",
       "      <td>28</td>\n",
       "      <td>44</td>\n",
       "      <td>...</td>\n",
       "      <td>2</td>\n",
       "      <td>Other sellers</td>\n",
       "      <td>U.S. BANK N.A.</td>\n",
       "      <td>NaN</td>\n",
       "      <td>NaN</td>\n",
       "      <td>9</td>\n",
       "      <td>NaN</td>\n",
       "      <td>2</td>\n",
       "      <td>N</td>\n",
       "      <td>7</td>\n",
       "    </tr>\n",
       "    <tr>\n",
       "      <th>3</th>\n",
       "      <td>802</td>\n",
       "      <td>202203</td>\n",
       "      <td>N</td>\n",
       "      <td>205202</td>\n",
       "      <td>33460.0</td>\n",
       "      <td>0</td>\n",
       "      <td>1</td>\n",
       "      <td>P</td>\n",
       "      <td>75</td>\n",
       "      <td>27</td>\n",
       "      <td>...</td>\n",
       "      <td>1</td>\n",
       "      <td>Other sellers</td>\n",
       "      <td>Other servicers</td>\n",
       "      <td>NaN</td>\n",
       "      <td>NaN</td>\n",
       "      <td>9</td>\n",
       "      <td>NaN</td>\n",
       "      <td>2</td>\n",
       "      <td>N</td>\n",
       "      <td>7</td>\n",
       "    </tr>\n",
       "    <tr>\n",
       "      <th>4</th>\n",
       "      <td>767</td>\n",
       "      <td>202203</td>\n",
       "      <td>N</td>\n",
       "      <td>205202</td>\n",
       "      <td>NaN</td>\n",
       "      <td>0</td>\n",
       "      <td>1</td>\n",
       "      <td>P</td>\n",
       "      <td>55</td>\n",
       "      <td>44</td>\n",
       "      <td>...</td>\n",
       "      <td>1</td>\n",
       "      <td>Other sellers</td>\n",
       "      <td>Other servicers</td>\n",
       "      <td>NaN</td>\n",
       "      <td>NaN</td>\n",
       "      <td>9</td>\n",
       "      <td>NaN</td>\n",
       "      <td>2</td>\n",
       "      <td>N</td>\n",
       "      <td>7</td>\n",
       "    </tr>\n",
       "  </tbody>\n",
       "</table>\n",
       "<p>5 rows × 32 columns</p>\n",
       "</div>"
      ],
      "text/plain": [
       "   Loan_Sequence_Number  Monthly_Reporting_Period Current_Actual_UPB  \\\n",
       "0                   763                    202203                  N   \n",
       "1                   691                    202203                  N   \n",
       "2                   678                    202203                  N   \n",
       "3                   802                    202203                  N   \n",
       "4                   767                    202203                  N   \n",
       "\n",
       "   Current_Loan_Delinquency_Status  Loan_Age  \\\n",
       "0                           205202   47664.0   \n",
       "1                           203702   47664.0   \n",
       "2                           203702       NaN   \n",
       "3                           205202   33460.0   \n",
       "4                           205202       NaN   \n",
       "\n",
       "   Remaining_Months_to_Legal_Maturity  Defect_Settlement_Date  \\\n",
       "0                                   0                       1   \n",
       "1                                   0                       1   \n",
       "2                                   0                       2   \n",
       "3                                   0                       1   \n",
       "4                                   0                       1   \n",
       "\n",
       "  Modification_Flag  Zero_Balance_Code  Zero_Balance_Effective_Date  ...  \\\n",
       "0                 P                 95                           47  ...   \n",
       "1                 P                 67                           25  ...   \n",
       "2                 P                 28                           44  ...   \n",
       "3                 P                 75                           27  ...   \n",
       "4                 P                 55                           44  ...   \n",
       "\n",
       "   Modification_Cost  Step_Modification_Flag  Deferred_Payment_Plan  \\\n",
       "0                  2           Other sellers        Other servicers   \n",
       "1                  2           Other sellers        Other servicers   \n",
       "2                  2           Other sellers         U.S. BANK N.A.   \n",
       "3                  1           Other sellers        Other servicers   \n",
       "4                  1           Other sellers        Other servicers   \n",
       "\n",
       "  Estimated_Loan_to_Value_(ELTV) Zero_Balance_Removal_UPB  \\\n",
       "0                            NaN                      NaN   \n",
       "1                            NaN                      NaN   \n",
       "2                            NaN                      NaN   \n",
       "3                            NaN                      NaN   \n",
       "4                            NaN                      NaN   \n",
       "\n",
       "  Delinquent_Accrued_Interest Delinquency_Due_to_Disaster  \\\n",
       "0                           9                         NaN   \n",
       "1                           9                         NaN   \n",
       "2                           9                         NaN   \n",
       "3                           9                         NaN   \n",
       "4                           9                         NaN   \n",
       "\n",
       "  Borrower_Assistance_Status_Code  Current_Month_Modification_Cost  \\\n",
       "0                               2                                N   \n",
       "1                               2                                N   \n",
       "2                               2                                N   \n",
       "3                               2                                N   \n",
       "4                               2                                N   \n",
       "\n",
       "  Interest_Bearing_UPB  \n",
       "0                    7  \n",
       "1                    7  \n",
       "2                    7  \n",
       "3                    7  \n",
       "4                    7  \n",
       "\n",
       "[5 rows x 32 columns]"
      ]
     },
     "execution_count": 57,
     "metadata": {},
     "output_type": "execute_result"
    }
   ],
   "source": [
    "df.head()"
   ]
  },
  {
   "cell_type": "code",
   "execution_count": null,
   "id": "244a983d",
   "metadata": {},
   "outputs": [],
   "source": [
    "#df = df.drop('ColumnName', axis=1)\n",
    "df.head()"
   ]
  },
  {
   "cell_type": "code",
   "execution_count": 58,
   "id": "6889a27e",
   "metadata": {},
   "outputs": [],
   "source": [
    "# Give your Datasource a name\n",
    "datasource_name = \"Local_FileSystem_Source\"\n",
    "datasource = context.sources.add_pandas_filesystem(name=datasource_name, base_directory=path_to_data_dir)\n",
    "\n",
    "# Give your first Asset a name\n",
    "asset_name = \"Freddie_Mac\"\n",
    "batching_regex = r\"historical_data_\\d{4}Q\\d.csv\" #change this\n",
    "\n",
    "asset = datasource.add_csv_asset(name=asset_name,batching_regex=batching_regex)\n",
    "\n",
    "# Build batch request\n",
    "batch_request = asset.build_batch_request()"
   ]
  },
  {
   "cell_type": "markdown",
   "id": "b9a3404e",
   "metadata": {},
   "source": [
    "Create expectations suite"
   ]
  },
  {
   "cell_type": "code",
   "execution_count": 59,
   "id": "2c89495e",
   "metadata": {},
   "outputs": [],
   "source": [
    "data_asset = context.get_datasource(datasource_name).get_asset(asset_name)\n",
    "batch_request = data_asset.build_batch_request()"
   ]
  },
  {
   "cell_type": "code",
   "execution_count": 60,
   "metadata": {},
   "outputs": [
    {
     "data": {
      "text/plain": [
       "[]"
      ]
     },
     "execution_count": 60,
     "metadata": {},
     "output_type": "execute_result"
    }
   ],
   "source": [
    "context.list_expectation_suite_names()"
   ]
  },
  {
   "cell_type": "code",
   "execution_count": 61,
   "id": "b711dcce",
   "metadata": {},
   "outputs": [
    {
     "data": {
      "text/plain": [
       "{\n",
       "  \"expectation_suite_name\": \"GE_Suite\",\n",
       "  \"ge_cloud_id\": null,\n",
       "  \"expectations\": [],\n",
       "  \"data_asset_type\": null,\n",
       "  \"meta\": {\n",
       "    \"great_expectations_version\": \"0.17.19\"\n",
       "  }\n",
       "}"
      ]
     },
     "execution_count": 61,
     "metadata": {},
     "output_type": "execute_result"
    }
   ],
   "source": [
    "context. add_or_update_expectation_suite(expectation_suite_name)"
   ]
  },
  {
   "cell_type": "code",
   "execution_count": 62,
   "id": "82c9d439",
   "metadata": {},
   "outputs": [
    {
     "data": {
      "application/vnd.jupyter.widget-view+json": {
       "model_id": "ab06a139908d4439b414861150dac4a7",
       "version_major": 2,
       "version_minor": 0
      },
      "text/plain": [
       "Calculating Metrics:   0%|          | 0/1 [00:00<?, ?it/s]"
      ]
     },
     "metadata": {},
     "output_type": "display_data"
    },
    {
     "data": {
      "text/html": [
       "<div>\n",
       "<style scoped>\n",
       "    .dataframe tbody tr th:only-of-type {\n",
       "        vertical-align: middle;\n",
       "    }\n",
       "\n",
       "    .dataframe tbody tr th {\n",
       "        vertical-align: top;\n",
       "    }\n",
       "\n",
       "    .dataframe thead th {\n",
       "        text-align: right;\n",
       "    }\n",
       "</style>\n",
       "<table border=\"1\" class=\"dataframe\">\n",
       "  <thead>\n",
       "    <tr style=\"text-align: right;\">\n",
       "      <th></th>\n",
       "      <th>Loan_Sequence_Number</th>\n",
       "      <th>Monthly_Reporting_Period</th>\n",
       "      <th>Current_Actual_UPB</th>\n",
       "      <th>Current_Loan_Delinquency_Status</th>\n",
       "      <th>Loan_Age</th>\n",
       "      <th>Remaining_Months_to_Legal_Maturity</th>\n",
       "      <th>Defect_Settlement_Date</th>\n",
       "      <th>Modification_Flag</th>\n",
       "      <th>Zero_Balance_Code</th>\n",
       "      <th>Zero_Balance_Effective_Date</th>\n",
       "      <th>...</th>\n",
       "      <th>Modification_Cost</th>\n",
       "      <th>Step_Modification_Flag</th>\n",
       "      <th>Deferred_Payment_Plan</th>\n",
       "      <th>Estimated_Loan_to_Value_(ELTV)</th>\n",
       "      <th>Zero_Balance_Removal_UPB</th>\n",
       "      <th>Delinquent_Accrued_Interest</th>\n",
       "      <th>Delinquency_Due_to_Disaster</th>\n",
       "      <th>Borrower_Assistance_Status_Code</th>\n",
       "      <th>Current_Month_Modification_Cost</th>\n",
       "      <th>Interest_Bearing_UPB</th>\n",
       "    </tr>\n",
       "  </thead>\n",
       "  <tbody>\n",
       "    <tr>\n",
       "      <th>0</th>\n",
       "      <td>763</td>\n",
       "      <td>202203</td>\n",
       "      <td>N</td>\n",
       "      <td>205202</td>\n",
       "      <td>47664.0</td>\n",
       "      <td>0</td>\n",
       "      <td>1</td>\n",
       "      <td>P</td>\n",
       "      <td>95</td>\n",
       "      <td>47</td>\n",
       "      <td>...</td>\n",
       "      <td>2</td>\n",
       "      <td>Other sellers</td>\n",
       "      <td>Other servicers</td>\n",
       "      <td>NaN</td>\n",
       "      <td>NaN</td>\n",
       "      <td>9</td>\n",
       "      <td>NaN</td>\n",
       "      <td>2</td>\n",
       "      <td>N</td>\n",
       "      <td>7</td>\n",
       "    </tr>\n",
       "    <tr>\n",
       "      <th>1</th>\n",
       "      <td>691</td>\n",
       "      <td>202203</td>\n",
       "      <td>N</td>\n",
       "      <td>203702</td>\n",
       "      <td>47664.0</td>\n",
       "      <td>0</td>\n",
       "      <td>1</td>\n",
       "      <td>P</td>\n",
       "      <td>67</td>\n",
       "      <td>25</td>\n",
       "      <td>...</td>\n",
       "      <td>2</td>\n",
       "      <td>Other sellers</td>\n",
       "      <td>Other servicers</td>\n",
       "      <td>NaN</td>\n",
       "      <td>NaN</td>\n",
       "      <td>9</td>\n",
       "      <td>NaN</td>\n",
       "      <td>2</td>\n",
       "      <td>N</td>\n",
       "      <td>7</td>\n",
       "    </tr>\n",
       "    <tr>\n",
       "      <th>2</th>\n",
       "      <td>678</td>\n",
       "      <td>202203</td>\n",
       "      <td>N</td>\n",
       "      <td>203702</td>\n",
       "      <td>NaN</td>\n",
       "      <td>0</td>\n",
       "      <td>2</td>\n",
       "      <td>P</td>\n",
       "      <td>28</td>\n",
       "      <td>44</td>\n",
       "      <td>...</td>\n",
       "      <td>2</td>\n",
       "      <td>Other sellers</td>\n",
       "      <td>U.S. BANK N.A.</td>\n",
       "      <td>NaN</td>\n",
       "      <td>NaN</td>\n",
       "      <td>9</td>\n",
       "      <td>NaN</td>\n",
       "      <td>2</td>\n",
       "      <td>N</td>\n",
       "      <td>7</td>\n",
       "    </tr>\n",
       "    <tr>\n",
       "      <th>3</th>\n",
       "      <td>802</td>\n",
       "      <td>202203</td>\n",
       "      <td>N</td>\n",
       "      <td>205202</td>\n",
       "      <td>33460.0</td>\n",
       "      <td>0</td>\n",
       "      <td>1</td>\n",
       "      <td>P</td>\n",
       "      <td>75</td>\n",
       "      <td>27</td>\n",
       "      <td>...</td>\n",
       "      <td>1</td>\n",
       "      <td>Other sellers</td>\n",
       "      <td>Other servicers</td>\n",
       "      <td>NaN</td>\n",
       "      <td>NaN</td>\n",
       "      <td>9</td>\n",
       "      <td>NaN</td>\n",
       "      <td>2</td>\n",
       "      <td>N</td>\n",
       "      <td>7</td>\n",
       "    </tr>\n",
       "    <tr>\n",
       "      <th>4</th>\n",
       "      <td>767</td>\n",
       "      <td>202203</td>\n",
       "      <td>N</td>\n",
       "      <td>205202</td>\n",
       "      <td>NaN</td>\n",
       "      <td>0</td>\n",
       "      <td>1</td>\n",
       "      <td>P</td>\n",
       "      <td>55</td>\n",
       "      <td>44</td>\n",
       "      <td>...</td>\n",
       "      <td>1</td>\n",
       "      <td>Other sellers</td>\n",
       "      <td>Other servicers</td>\n",
       "      <td>NaN</td>\n",
       "      <td>NaN</td>\n",
       "      <td>9</td>\n",
       "      <td>NaN</td>\n",
       "      <td>2</td>\n",
       "      <td>N</td>\n",
       "      <td>7</td>\n",
       "    </tr>\n",
       "  </tbody>\n",
       "</table>\n",
       "<p>5 rows × 32 columns</p>\n",
       "</div>"
      ],
      "text/plain": [
       "   Loan_Sequence_Number  Monthly_Reporting_Period Current_Actual_UPB  \\\n",
       "0                   763                    202203                  N   \n",
       "1                   691                    202203                  N   \n",
       "2                   678                    202203                  N   \n",
       "3                   802                    202203                  N   \n",
       "4                   767                    202203                  N   \n",
       "\n",
       "   Current_Loan_Delinquency_Status  Loan_Age  \\\n",
       "0                           205202   47664.0   \n",
       "1                           203702   47664.0   \n",
       "2                           203702       NaN   \n",
       "3                           205202   33460.0   \n",
       "4                           205202       NaN   \n",
       "\n",
       "   Remaining_Months_to_Legal_Maturity  Defect_Settlement_Date  \\\n",
       "0                                   0                       1   \n",
       "1                                   0                       1   \n",
       "2                                   0                       2   \n",
       "3                                   0                       1   \n",
       "4                                   0                       1   \n",
       "\n",
       "  Modification_Flag  Zero_Balance_Code  Zero_Balance_Effective_Date  ...  \\\n",
       "0                 P                 95                           47  ...   \n",
       "1                 P                 67                           25  ...   \n",
       "2                 P                 28                           44  ...   \n",
       "3                 P                 75                           27  ...   \n",
       "4                 P                 55                           44  ...   \n",
       "\n",
       "   Modification_Cost  Step_Modification_Flag  Deferred_Payment_Plan  \\\n",
       "0                  2           Other sellers        Other servicers   \n",
       "1                  2           Other sellers        Other servicers   \n",
       "2                  2           Other sellers         U.S. BANK N.A.   \n",
       "3                  1           Other sellers        Other servicers   \n",
       "4                  1           Other sellers        Other servicers   \n",
       "\n",
       "  Estimated_Loan_to_Value_(ELTV) Zero_Balance_Removal_UPB  \\\n",
       "0                            NaN                      NaN   \n",
       "1                            NaN                      NaN   \n",
       "2                            NaN                      NaN   \n",
       "3                            NaN                      NaN   \n",
       "4                            NaN                      NaN   \n",
       "\n",
       "  Delinquent_Accrued_Interest Delinquency_Due_to_Disaster  \\\n",
       "0                           9                         NaN   \n",
       "1                           9                         NaN   \n",
       "2                           9                         NaN   \n",
       "3                           9                         NaN   \n",
       "4                           9                         NaN   \n",
       "\n",
       "  Borrower_Assistance_Status_Code  Current_Month_Modification_Cost  \\\n",
       "0                               2                                N   \n",
       "1                               2                                N   \n",
       "2                               2                                N   \n",
       "3                               2                                N   \n",
       "4                               2                                N   \n",
       "\n",
       "  Interest_Bearing_UPB  \n",
       "0                    7  \n",
       "1                    7  \n",
       "2                    7  \n",
       "3                    7  \n",
       "4                    7  \n",
       "\n",
       "[5 rows x 32 columns]"
      ]
     },
     "execution_count": 62,
     "metadata": {},
     "output_type": "execute_result"
    }
   ],
   "source": [
    "validator = context.get_validator(batch_request=batch_request, expectation_suite_name=expectation_suite_name)\n",
    "validator.head()"
   ]
  },
  {
   "cell_type": "markdown",
   "id": "9743d367",
   "metadata": {},
   "source": [
    "Validators for schema"
   ]
  },
  {
   "cell_type": "code",
   "execution_count": null,
   "id": "99bf4cb8",
   "metadata": {},
   "outputs": [],
   "source": [
    "def validate_ge_origination():\n",
    "\n",
    "    #schema check\n",
    "\n",
    "    validator.expect_column_values_to_be_of_type(\"First_Payment_Date\", \"datetime\")\n",
    "    validator.expect_column_values_to_be_of_type(\"First_Time_Homebuyer_Flag\", \"str\")\n",
    "    validator.expect_column_values_to_be_of_type(\"Maturity_Date\", \"datetime\")\n",
    "    validator.expect_column_values_to_be_of_type(\"MSA\", \"int\")\n",
    "    validator.expect_column_values_to_be_of_type(\"MI\", \"int\")\n",
    "    validator.expect_column_values_to_be_of_type(\"Number_of_Units\", \"int\")\n",
    "    validator.expect_column_values_to_be_of_type(\"Occupancy_Status\", \"str\")\n",
    "    validator.expect_column_values_to_be_of_type(\"CLTV\", \"float\")\n",
    "    validator.expect_column_values_to_be_of_type(\"DTI\", \"float\")\n",
    "    validator.expect_column_values_to_be_of_type(\"UPB\", \"int\")\n",
    "    validator.expect_column_values_to_be_of_type(\"LTV\", \"float\")\n",
    "    validator.expect_column_values_to_be_of_type(\"Original_Interest_Rate\", \"float\")\n",
    "\n",
    "    validator.expect_column_values_to_be_of_type(\"Channel\", \"str\")\n",
    "\n",
    "    validator.expect_column_values_to_be_of_type(\"PPM\", \"str\")\n",
    "\n",
    "    validator.expect_column_values_to_be_of_type(\"Amortization\", \"str\")\n",
    "\n",
    "    validator.expect_column_values_to_be_of_type(\"Property_State\", \"str\")\n",
    "\n",
    "    validator.expect_column_values_to_be_of_type(\"Property_Type\", \"str\")\n",
    "\n",
    "    validator.expect_column_values_to_be_of_type(\"Postal_Code\", \"int\")\n",
    "\n",
    "    validator.expect_column_values_to_be_of_type(\"Loan_Sequence_Number\", \"str\")\n",
    "\n",
    "    validator.expect_column_values_to_be_of_type(\"Loan_Purpose\", \"str\")\n",
    "\n",
    "    validator.expect_column_values_to_be_of_type(\"Original_Loan_Term\", \"int\")\n",
    "\n",
    "    validator.expect_column_values_to_be_of_type(\"Number_of_Borrowers\", \"int\")\n",
    "\n",
    "    validator.expect_column_values_to_be_of_type(\"Seller_Name\", \"str\")\n",
    "\n",
    "    validator.expect_column_values_to_be_of_type(\"Servicer_Name\", \"str\")\n",
    "\n",
    "    validator.expect_column_values_to_be_of_type(\"Super_Conforming_Flag\", \"str\")\n",
    "\n",
    "    validator.expect_column_values_to_be_of_type(\"HARP\", \"str\")\n",
    "\n",
    "    validator.expect_column_values_to_be_of_type(\"Program_Indicator\", \"str\")\n",
    "\n",
    "    validator.expect_column_values_to_be_of_type(\"HARP_Indicator\", \"str\")\n",
    "\n",
    "    validator.expect_column_values_to_be_of_type(\"Property_Valuation_Method\", \"int\")\n",
    "\n",
    "    validator.expect_column_values_to_be_of_type(\"nterest_Only\", \"str\")\n",
    "\n",
    "    validator.expect_column_values_to_be_of_type(\"Mortgage_Insurance_Cancellation_Indicator\", \"str\")\n",
    "\n",
    " \n",
    "\n",
    " \n",
    "\n",
    "    #Validation\n",
    "\n",
    "    validator.expect_column_values_to_be_in_set (\"First_Time_Homebuyer_Flag\", [\"Y\",\"N\"])\n",
    "\n",
    "    validator.expect_column_values_to_be_in_set(\"Occupancy_Status\", [\"P\", \"I\", \"S\"])\n",
    "\n",
    "    validator.expect_column_values_to_be_in_set(\"Channel\", [\"B\", \"R\", \"C\"])\n",
    "\n",
    "    validator.expect_column_values_to_match_regex(\"Loan_Sequence_Number\", regex=r'^P\\d{2}Qn[a-zA-Z0-9]{7}$')\n",
    "\n",
    "    validator.expect_column_values_to_match_regex(\"HARP_Indicator\", regex=r'^P\\d{2}Qn[a-zA-Z0-9]{7}$')\n",
    "\n",
    "    validator.expect_column_value_lengths_to_be_between(\"Credit_Score\", min_value=1, max_value=4)\n",
    "\n",
    "    validator.expect_column_value_lengths_to_be_between(\"UPB\", min_value=1, max_value=12)\n",
    "\n",
    "    validator.expect_column_values_to_be_in_set(\"Amortization\", [\"FRM\", \"ARM\"])\n",
    "\n",
    "    validator.expect_column_values_to_match_regex(\"Postal_Code\", r\"^\\d{5}$\")\n",
    "\n",
    "    validator.expect_column_values_to_match_regex(\"Original_Interest_Rate\", regex=r'^\\d{3}\\.\\d{3}$')\n",
    "\n",
    "    expected_states = [\"AL\", \"AK\", \"AZ\", \"AR\", \"CA\", \"CO\", \"CT\", \"DE\", \"FL\", \"GA\", \"HI\", \"ID\", \"IL\", \"IN\", \"IA\", \"KS\", \"KY\", \"LA\", \"ME\", \"MD\", \"MA\", \"MI\", \"MN\", \"MS\", \"MO\", \"MT\", \"NE\", \"NV\", \"NH\", \"NJ\", \"NM\", \"NY\", \"NC\", \"ND\", \"OH\", \"OK\", \"OR\", \"PA\", \"RI\", \"SC\", \"SD\", \"TN\", \"TX\", \"UT\", \"VT\", \"VA\", \"WA\", \"WV\", \"WI\", \"WY\"]\n",
    "\n",
    "    validator.expect_column_values_to_be_in_set(\"Property_State\", value_set=expected_states)\n",
    "\n",
    "    \n",
    "\n",
    "    #Missing data\n",
    "\n",
    "    for column in df.columns:\n",
    "\n",
    "        validator.expect_column_values_to_not_be_null(column)\n",
    "\n",
    " \n",
    "\n",
    " \n",
    "\n",
    "    validator.save_expectation_suite()\n",
    "\n",
    " \n",
    "\n"
   ]
  },
  {
   "cell_type": "code",
   "execution_count": 63,
   "id": "f375ef8f",
   "metadata": {},
   "outputs": [],
   "source": [
    "def validate_ge_monthly():\n",
    "    #Schema Check\n",
    "    validator.expect_column_values_to_be_of_type(\"Loan_Sequence_Number\", \"str\")\n",
    "    validator.expect_column_values_to_be_of_type(\"Monthly_Reporting_Period\", \"datetime\")\n",
    "    validator.expect_column_values_to_be_of_type(\"Current_Actual_UPB\", \"float\")\n",
    "    validator.expect_column_values_to_be_of_type(\"Current_Loan_Delinquency_Status\", \"str\")\n",
    "    validator.expect_column_values_to_be_of_type(\"Loan_Age\", \"int\")\n",
    "    validator.expect_column_values_to_be_of_type(\"Remaining_Months_to_Legal_Maturity\", \"int\")\n",
    "    validator.expect_column_values_to_be_of_type(\"Defect_Settlement_Date\", \"datetime\")\n",
    "    validator.expect_column_values_to_be_of_type(\"Modification_Flag\", \"str\")\n",
    "    validator.expect_column_values_to_be_of_type(\"Zero_Balance_Code\", \"int\")\n",
    "    validator.expect_column_values_to_be_of_type(\"Zero_Balance_Effective_Date\", \"datetime\")\n",
    "    validator.expect_column_values_to_be_of_type(\"Current_Interest_Rate\", \"float\")\n",
    "    validator.expect_column_values_to_be_of_type(\"Current_Deferred_UPB\", \"int\")\n",
    "    validator.expect_column_values_to_be_of_type(\"Due_Date_of_Last_Paid_Installment_(DDLPI)\", \"datetime\")\n",
    "    validator.expect_column_values_to_be_of_type(\"MI_Recoveries\", \"float\")\n",
    "    validator.expect_column_values_to_be_of_type(\"Net_Sales_Proceeds\", \"str\")\n",
    "    validator.expect_column_values_to_be_of_type(\"Non_MI_Recoveries\", \"float\")\n",
    "    validator.expect_column_values_to_be_of_type(\"Expenses\", \"float\")\n",
    "    validator.expect_column_values_to_be_of_type(\"Legal_Costs\", \"float\")\n",
    "    validator.expect_column_values_to_be_of_type(\"Maintenance_and_Preservation_Costs\", \"float\")\n",
    "    validator.expect_column_values_to_be_of_type(\"Taxes_and_Insurance\", \"float\")\n",
    "    validator.expect_column_values_to_be_of_type(\"Miscellaneous_Expenses\", \"float\")\n",
    "    validator.expect_column_values_to_be_of_type(\"Actual_Loss_Calculation\", \"float\")\n",
    "    validator.expect_column_values_to_be_of_type(\"Modification_Cost\", \"float\")\n",
    "    validator.expect_column_values_to_be_of_type(\"Step_Modification_Flag\", \"str\")\n",
    "    validator.expect_column_values_to_be_of_type(\"Deferred_Payment_Plan\", \"str\")\n",
    "    validator.expect_column_values_to_be_of_type(\"Estimated_Loan_to_Value_(ELTV)\", \"int\")\n",
    "    validator.expect_column_values_to_be_of_type(\"Zero_Balance_Removal_UPB\", \"float\")\n",
    "    validator.expect_column_values_to_be_of_type(\"Delinquent_Accrued_Interest\", \"float\")\n",
    "    validator.expect_column_values_to_be_of_type(\"Delinquency_Due_to_Disaster\", \"str\")\n",
    "    validator.expect_column_values_to_be_of_type(\"Borrower_Assistance_Status_Code\", \"str\")\n",
    "    validator.expect_column_values_to_be_of_type(\"Current_Month_Modification_Cost\", \"float\")\n",
    "    validator.expect_column_values_to_be_of_type(\"Interest_Bearing_UPB\", \"float\")\n",
    "\n",
    "    #other validations\n",
    "    validator.expect_column_values_to_be_unique(\"Loan_Sequence_Number\")  #Loan seq number will be unique\n",
    "    validator.expect_column_values_to_match_regex(\"Loan_Sequence_Number\", regex=r'^P\\d{2}Qn[a-zA-Z0-9]{7}$')\n",
    "    validator.expect_column_values_to_match_regex(\"Current_Actual_UPB\", regex=r'^\\d{10}\\.\\d{2}$')\n",
    "    validator.expect_column_values_to_match_regex(\"Current_Interest_Rate\", regex=r'^\\d{5}\\.\\d{3}$')\n",
    "    validator.expect_column_values_to_match_regex(\"MI_Recoveries\", regex=r'^\\d{10}\\.\\d{2}$')\n",
    "    validator.expect_column_values_to_match_regex(\"Non_MI_Recoveries\", regex=r'^\\d{10}\\.\\d{2}$')\n",
    "    validator.expect_column_values_to_match_regex(\"Expenses\", regex=r'^\\d{10}\\.\\d{2}$')\n",
    "    validator.expect_column_values_to_match_regex(\"Legal_Costs\", regex=r'^\\d{10}\\.\\d{2}$')\n",
    "    validator.expect_column_values_to_match_regex(\"Maintenance_and_Preservation_Costs\", regex=r'^\\d{10}\\.\\d{2}$')\n",
    "    validator.expect_column_values_to_match_regex(\"Miscellaneous_Expenses\", regex=r'^\\d{10}\\.\\d{2}$')\n",
    "    validator.expect_column_values_to_match_regex(\"Taxes_and_Insurance\", regex=r'^\\d{10}\\.\\d{2}$')\n",
    "    validator.expect_column_values_to_match_regex(\"Actual_Loss_Calculation\", regex=r'^\\d{10}\\.\\d{2}$')\n",
    "    validator.expect_column_values_to_match_regex(\"Modification_Cost\", regex=r'^\\d{10}\\.\\d{2}$')\n",
    "    validator.expect_column_values_to_match_regex(\"Zero_Balance_Removal_UPB\", regex=r'^\\d{10}\\.\\d{2}$')\n",
    "    validator.expect_column_values_to_match_regex(\"Delinquent_Accrued_Interest\", regex=r'^\\d{10}\\.\\d{2}$')\n",
    "    validator.expect_column_values_to_match_regex(\"Current_Month_Modification_Cost\", regex=r'^\\d{10}\\.\\d{2}$')\n",
    "    validator.expect_column_values_to_match_regex(\"Interest_Bearing_UPB\", regex=r'^\\d{10}\\.\\d{2}$')\n",
    "    validator.expect_column_value_lengths_to_be_between(\"Zero_Balance_Removal_UPB\", min_value=1, max_value=12)\n",
    "    validator.expect_column_value_lengths_to_be_between(\"Current_Deferred_UPB\", min_value=1, max_value=12)\n",
    "    validator.expect_column_values_to_be_in_set(\"MI_Recoveries\", [\"B\", \"R\", \"C\"])\n",
    "    validator.expect_column_values_to_be_in_set(\"Modification_Flag\", [\"I\", \"P\", \"S\"])\n",
    "    \n",
    "\n",
    "    #For null value check\n",
    "    for column in df.columns:\n",
    "        validator.expect_column_values_to_not_be_null(column)\n",
    "\n",
    "    validator.save_expectation_suite()"
   ]
  },
  {
   "cell_type": "code",
   "execution_count": null,
   "id": "1a15220f",
   "metadata": {},
   "outputs": [],
   "source": [
    "if data_type == \"Origination Data\":\n",
    "    validate_ge_origination()\n",
    "else:\n",
    "    validate_ge_monthly()"
   ]
  },
  {
   "cell_type": "code",
   "execution_count": 64,
   "id": "d27ad051",
   "metadata": {},
   "outputs": [
    {
     "data": {
      "application/vnd.jupyter.widget-view+json": {
       "model_id": "e50ae4e6ee2f42da93ddee72a70906ea",
       "version_major": 2,
       "version_minor": 0
      },
      "text/plain": [
       "Calculating Metrics:   0%|          | 0/1 [00:00<?, ?it/s]"
      ]
     },
     "metadata": {},
     "output_type": "display_data"
    },
    {
     "data": {
      "application/vnd.jupyter.widget-view+json": {
       "model_id": "3d68f2af15a441c398d196f72989eb42",
       "version_major": 2,
       "version_minor": 0
      },
      "text/plain": [
       "Calculating Metrics:   0%|          | 0/1 [00:00<?, ?it/s]"
      ]
     },
     "metadata": {},
     "output_type": "display_data"
    },
    {
     "data": {
      "application/vnd.jupyter.widget-view+json": {
       "model_id": "6771084df43548d1af7715d7a039ee5d",
       "version_major": 2,
       "version_minor": 0
      },
      "text/plain": [
       "Calculating Metrics:   0%|          | 0/8 [00:00<?, ?it/s]"
      ]
     },
     "metadata": {},
     "output_type": "display_data"
    },
    {
     "data": {
      "application/vnd.jupyter.widget-view+json": {
       "model_id": "5ebfe1e56f6b40f4918c1579eafff47b",
       "version_major": 2,
       "version_minor": 0
      },
      "text/plain": [
       "Calculating Metrics:   0%|          | 0/1 [00:00<?, ?it/s]"
      ]
     },
     "metadata": {},
     "output_type": "display_data"
    },
    {
     "data": {
      "application/vnd.jupyter.widget-view+json": {
       "model_id": "651bfea60aa842c1ad9842af5232ad82",
       "version_major": 2,
       "version_minor": 0
      },
      "text/plain": [
       "Calculating Metrics:   0%|          | 0/1 [00:00<?, ?it/s]"
      ]
     },
     "metadata": {},
     "output_type": "display_data"
    },
    {
     "data": {
      "application/vnd.jupyter.widget-view+json": {
       "model_id": "43a09d95979843778de3bd191fbd2d41",
       "version_major": 2,
       "version_minor": 0
      },
      "text/plain": [
       "Calculating Metrics:   0%|          | 0/1 [00:00<?, ?it/s]"
      ]
     },
     "metadata": {},
     "output_type": "display_data"
    },
    {
     "data": {
      "application/vnd.jupyter.widget-view+json": {
       "model_id": "40c31666abcf4e1dbbd5e102da31d534",
       "version_major": 2,
       "version_minor": 0
      },
      "text/plain": [
       "Calculating Metrics:   0%|          | 0/1 [00:00<?, ?it/s]"
      ]
     },
     "metadata": {},
     "output_type": "display_data"
    },
    {
     "data": {
      "application/vnd.jupyter.widget-view+json": {
       "model_id": "5adfab4cdd6c48e9bc115e8111594dad",
       "version_major": 2,
       "version_minor": 0
      },
      "text/plain": [
       "Calculating Metrics:   0%|          | 0/8 [00:00<?, ?it/s]"
      ]
     },
     "metadata": {},
     "output_type": "display_data"
    },
    {
     "data": {
      "application/vnd.jupyter.widget-view+json": {
       "model_id": "ac94c102b4854001a27ae9850389b91c",
       "version_major": 2,
       "version_minor": 0
      },
      "text/plain": [
       "Calculating Metrics:   0%|          | 0/1 [00:00<?, ?it/s]"
      ]
     },
     "metadata": {},
     "output_type": "display_data"
    },
    {
     "data": {
      "application/vnd.jupyter.widget-view+json": {
       "model_id": "43f0d1ea74d54e14b6713830b8aed201",
       "version_major": 2,
       "version_minor": 0
      },
      "text/plain": [
       "Calculating Metrics:   0%|          | 0/1 [00:00<?, ?it/s]"
      ]
     },
     "metadata": {},
     "output_type": "display_data"
    },
    {
     "data": {
      "application/vnd.jupyter.widget-view+json": {
       "model_id": "326054a9fd024001889f41947bc98b20",
       "version_major": 2,
       "version_minor": 0
      },
      "text/plain": [
       "Calculating Metrics:   0%|          | 0/1 [00:00<?, ?it/s]"
      ]
     },
     "metadata": {},
     "output_type": "display_data"
    },
    {
     "data": {
      "application/vnd.jupyter.widget-view+json": {
       "model_id": "a9c42f25f53b4c7a940c59b24247b535",
       "version_major": 2,
       "version_minor": 0
      },
      "text/plain": [
       "Calculating Metrics:   0%|          | 0/1 [00:00<?, ?it/s]"
      ]
     },
     "metadata": {},
     "output_type": "display_data"
    },
    {
     "data": {
      "application/vnd.jupyter.widget-view+json": {
       "model_id": "837b0350bcee482890bfae32c5827c5c",
       "version_major": 2,
       "version_minor": 0
      },
      "text/plain": [
       "Calculating Metrics:   0%|          | 0/1 [00:00<?, ?it/s]"
      ]
     },
     "metadata": {},
     "output_type": "display_data"
    },
    {
     "data": {
      "application/vnd.jupyter.widget-view+json": {
       "model_id": "cb40fbcf92d34cbb91677ca9e6591557",
       "version_major": 2,
       "version_minor": 0
      },
      "text/plain": [
       "Calculating Metrics:   0%|          | 0/8 [00:00<?, ?it/s]"
      ]
     },
     "metadata": {},
     "output_type": "display_data"
    },
    {
     "data": {
      "application/vnd.jupyter.widget-view+json": {
       "model_id": "16dc83e3d08f4f3295475807f8c8438c",
       "version_major": 2,
       "version_minor": 0
      },
      "text/plain": [
       "Calculating Metrics:   0%|          | 0/8 [00:00<?, ?it/s]"
      ]
     },
     "metadata": {},
     "output_type": "display_data"
    },
    {
     "data": {
      "application/vnd.jupyter.widget-view+json": {
       "model_id": "ac44ef68bbfb4e769e6e50e2756a7701",
       "version_major": 2,
       "version_minor": 0
      },
      "text/plain": [
       "Calculating Metrics:   0%|          | 0/8 [00:00<?, ?it/s]"
      ]
     },
     "metadata": {},
     "output_type": "display_data"
    },
    {
     "data": {
      "application/vnd.jupyter.widget-view+json": {
       "model_id": "d4adc94bb532479993b85afc188752ff",
       "version_major": 2,
       "version_minor": 0
      },
      "text/plain": [
       "Calculating Metrics:   0%|          | 0/8 [00:00<?, ?it/s]"
      ]
     },
     "metadata": {},
     "output_type": "display_data"
    },
    {
     "data": {
      "application/vnd.jupyter.widget-view+json": {
       "model_id": "33ad6e8b49fd4cd195e895cbba0a9eb2",
       "version_major": 2,
       "version_minor": 0
      },
      "text/plain": [
       "Calculating Metrics:   0%|          | 0/8 [00:00<?, ?it/s]"
      ]
     },
     "metadata": {},
     "output_type": "display_data"
    },
    {
     "data": {
      "application/vnd.jupyter.widget-view+json": {
       "model_id": "0156eeb5b40a4c84a651e1dea6b8d450",
       "version_major": 2,
       "version_minor": 0
      },
      "text/plain": [
       "Calculating Metrics:   0%|          | 0/1 [00:00<?, ?it/s]"
      ]
     },
     "metadata": {},
     "output_type": "display_data"
    },
    {
     "data": {
      "application/vnd.jupyter.widget-view+json": {
       "model_id": "0f912841704e49f8be682205e9ff4dc9",
       "version_major": 2,
       "version_minor": 0
      },
      "text/plain": [
       "Calculating Metrics:   0%|          | 0/8 [00:00<?, ?it/s]"
      ]
     },
     "metadata": {},
     "output_type": "display_data"
    },
    {
     "data": {
      "application/vnd.jupyter.widget-view+json": {
       "model_id": "a7b6c6b637e846d5bbab039a74ace004",
       "version_major": 2,
       "version_minor": 0
      },
      "text/plain": [
       "Calculating Metrics:   0%|          | 0/8 [00:00<?, ?it/s]"
      ]
     },
     "metadata": {},
     "output_type": "display_data"
    },
    {
     "data": {
      "application/vnd.jupyter.widget-view+json": {
       "model_id": "45237939037642db91d4624e263c7a41",
       "version_major": 2,
       "version_minor": 0
      },
      "text/plain": [
       "Calculating Metrics:   0%|          | 0/1 [00:00<?, ?it/s]"
      ]
     },
     "metadata": {},
     "output_type": "display_data"
    },
    {
     "data": {
      "application/vnd.jupyter.widget-view+json": {
       "model_id": "8dcd2f6de74848e894ef980df29d0d01",
       "version_major": 2,
       "version_minor": 0
      },
      "text/plain": [
       "Calculating Metrics:   0%|          | 0/1 [00:00<?, ?it/s]"
      ]
     },
     "metadata": {},
     "output_type": "display_data"
    },
    {
     "data": {
      "application/vnd.jupyter.widget-view+json": {
       "model_id": "4b9a0c603eae49c491c9f1b21100d5b7",
       "version_major": 2,
       "version_minor": 0
      },
      "text/plain": [
       "Calculating Metrics:   0%|          | 0/8 [00:00<?, ?it/s]"
      ]
     },
     "metadata": {},
     "output_type": "display_data"
    },
    {
     "data": {
      "application/vnd.jupyter.widget-view+json": {
       "model_id": "ada4390897084ffbae15f2966edb94c2",
       "version_major": 2,
       "version_minor": 0
      },
      "text/plain": [
       "Calculating Metrics:   0%|          | 0/8 [00:00<?, ?it/s]"
      ]
     },
     "metadata": {},
     "output_type": "display_data"
    },
    {
     "data": {
      "application/vnd.jupyter.widget-view+json": {
       "model_id": "37b390207da84a8aa5c1089874535e62",
       "version_major": 2,
       "version_minor": 0
      },
      "text/plain": [
       "Calculating Metrics:   0%|          | 0/8 [00:00<?, ?it/s]"
      ]
     },
     "metadata": {},
     "output_type": "display_data"
    },
    {
     "data": {
      "application/vnd.jupyter.widget-view+json": {
       "model_id": "268b7841b4ef48f0bb67b2d82241eda8",
       "version_major": 2,
       "version_minor": 0
      },
      "text/plain": [
       "Calculating Metrics:   0%|          | 0/1 [00:00<?, ?it/s]"
      ]
     },
     "metadata": {},
     "output_type": "display_data"
    },
    {
     "data": {
      "application/vnd.jupyter.widget-view+json": {
       "model_id": "52b69704fe454da1ab351e1971749014",
       "version_major": 2,
       "version_minor": 0
      },
      "text/plain": [
       "Calculating Metrics:   0%|          | 0/8 [00:00<?, ?it/s]"
      ]
     },
     "metadata": {},
     "output_type": "display_data"
    },
    {
     "data": {
      "application/vnd.jupyter.widget-view+json": {
       "model_id": "3603ee059e4040da81f649b114a6724d",
       "version_major": 2,
       "version_minor": 0
      },
      "text/plain": [
       "Calculating Metrics:   0%|          | 0/1 [00:00<?, ?it/s]"
      ]
     },
     "metadata": {},
     "output_type": "display_data"
    },
    {
     "data": {
      "application/vnd.jupyter.widget-view+json": {
       "model_id": "8a3a1fcc12cd446993b3fc99a54bbf87",
       "version_major": 2,
       "version_minor": 0
      },
      "text/plain": [
       "Calculating Metrics:   0%|          | 0/1 [00:00<?, ?it/s]"
      ]
     },
     "metadata": {},
     "output_type": "display_data"
    },
    {
     "data": {
      "application/vnd.jupyter.widget-view+json": {
       "model_id": "d64ea26e1a24451694a3a41b2b0a2681",
       "version_major": 2,
       "version_minor": 0
      },
      "text/plain": [
       "Calculating Metrics:   0%|          | 0/8 [00:00<?, ?it/s]"
      ]
     },
     "metadata": {},
     "output_type": "display_data"
    },
    {
     "data": {
      "application/vnd.jupyter.widget-view+json": {
       "model_id": "7511654e745f4f0698846b9f45cd16ac",
       "version_major": 2,
       "version_minor": 0
      },
      "text/plain": [
       "Calculating Metrics:   0%|          | 0/8 [00:00<?, ?it/s]"
      ]
     },
     "metadata": {},
     "output_type": "display_data"
    },
    {
     "data": {
      "application/vnd.jupyter.widget-view+json": {
       "model_id": "00a7dd930f8d4810860da3e8d287512d",
       "version_major": 2,
       "version_minor": 0
      },
      "text/plain": [
       "Calculating Metrics:   0%|          | 0/8 [00:00<?, ?it/s]"
      ]
     },
     "metadata": {},
     "output_type": "display_data"
    },
    {
     "data": {
      "application/vnd.jupyter.widget-view+json": {
       "model_id": "f82841c99f4e414590b0ffbaf30f728f",
       "version_major": 2,
       "version_minor": 0
      },
      "text/plain": [
       "Calculating Metrics:   0%|          | 0/8 [00:00<?, ?it/s]"
      ]
     },
     "metadata": {},
     "output_type": "display_data"
    },
    {
     "data": {
      "application/vnd.jupyter.widget-view+json": {
       "model_id": "e7fbef3397324b46be7e5cf593114335",
       "version_major": 2,
       "version_minor": 0
      },
      "text/plain": [
       "Calculating Metrics:   0%|          | 0/8 [00:00<?, ?it/s]"
      ]
     },
     "metadata": {},
     "output_type": "display_data"
    },
    {
     "data": {
      "application/vnd.jupyter.widget-view+json": {
       "model_id": "8d33b805c04e4f5a905c008409aca096",
       "version_major": 2,
       "version_minor": 0
      },
      "text/plain": [
       "Calculating Metrics:   0%|          | 0/8 [00:00<?, ?it/s]"
      ]
     },
     "metadata": {},
     "output_type": "display_data"
    },
    {
     "data": {
      "application/vnd.jupyter.widget-view+json": {
       "model_id": "e958f8e2e41e4587a7b477f55d7deaa6",
       "version_major": 2,
       "version_minor": 0
      },
      "text/plain": [
       "Calculating Metrics:   0%|          | 0/8 [00:00<?, ?it/s]"
      ]
     },
     "metadata": {},
     "output_type": "display_data"
    },
    {
     "data": {
      "application/vnd.jupyter.widget-view+json": {
       "model_id": "08e747bb86bb416d99f8f30abb715a03",
       "version_major": 2,
       "version_minor": 0
      },
      "text/plain": [
       "Calculating Metrics:   0%|          | 0/8 [00:00<?, ?it/s]"
      ]
     },
     "metadata": {},
     "output_type": "display_data"
    },
    {
     "data": {
      "application/vnd.jupyter.widget-view+json": {
       "model_id": "a7f414d840164913b5eab89eafaed860",
       "version_major": 2,
       "version_minor": 0
      },
      "text/plain": [
       "Calculating Metrics:   0%|          | 0/8 [00:00<?, ?it/s]"
      ]
     },
     "metadata": {},
     "output_type": "display_data"
    },
    {
     "data": {
      "application/vnd.jupyter.widget-view+json": {
       "model_id": "fdbd5cfd7bfc4ffa9e7e4b4ccedda4ef",
       "version_major": 2,
       "version_minor": 0
      },
      "text/plain": [
       "Calculating Metrics:   0%|          | 0/8 [00:00<?, ?it/s]"
      ]
     },
     "metadata": {},
     "output_type": "display_data"
    },
    {
     "data": {
      "application/vnd.jupyter.widget-view+json": {
       "model_id": "ddf860878e514a66a3b8f588d404ad0d",
       "version_major": 2,
       "version_minor": 0
      },
      "text/plain": [
       "Calculating Metrics:   0%|          | 0/8 [00:00<?, ?it/s]"
      ]
     },
     "metadata": {},
     "output_type": "display_data"
    },
    {
     "data": {
      "application/vnd.jupyter.widget-view+json": {
       "model_id": "63fac9f791d3452d8b7eac25ba5dc3bc",
       "version_major": 2,
       "version_minor": 0
      },
      "text/plain": [
       "Calculating Metrics:   0%|          | 0/8 [00:00<?, ?it/s]"
      ]
     },
     "metadata": {},
     "output_type": "display_data"
    },
    {
     "data": {
      "application/vnd.jupyter.widget-view+json": {
       "model_id": "9c4c5c798b9a423fb17b98e8c4a61b67",
       "version_major": 2,
       "version_minor": 0
      },
      "text/plain": [
       "Calculating Metrics:   0%|          | 0/8 [00:00<?, ?it/s]"
      ]
     },
     "metadata": {},
     "output_type": "display_data"
    },
    {
     "data": {
      "application/vnd.jupyter.widget-view+json": {
       "model_id": "1829630aaaf84c819bcfd79e21fda61d",
       "version_major": 2,
       "version_minor": 0
      },
      "text/plain": [
       "Calculating Metrics:   0%|          | 0/8 [00:00<?, ?it/s]"
      ]
     },
     "metadata": {},
     "output_type": "display_data"
    },
    {
     "data": {
      "application/vnd.jupyter.widget-view+json": {
       "model_id": "b538e9b4b08c44cbaba517a754dde198",
       "version_major": 2,
       "version_minor": 0
      },
      "text/plain": [
       "Calculating Metrics:   0%|          | 0/8 [00:00<?, ?it/s]"
      ]
     },
     "metadata": {},
     "output_type": "display_data"
    },
    {
     "data": {
      "application/vnd.jupyter.widget-view+json": {
       "model_id": "0ce67d9c883c4093a8b1c6bae22802bc",
       "version_major": 2,
       "version_minor": 0
      },
      "text/plain": [
       "Calculating Metrics:   0%|          | 0/8 [00:00<?, ?it/s]"
      ]
     },
     "metadata": {},
     "output_type": "display_data"
    },
    {
     "data": {
      "application/vnd.jupyter.widget-view+json": {
       "model_id": "6e863003e5eb4a038c48e1dce41ff22f",
       "version_major": 2,
       "version_minor": 0
      },
      "text/plain": [
       "Calculating Metrics:   0%|          | 0/8 [00:00<?, ?it/s]"
      ]
     },
     "metadata": {},
     "output_type": "display_data"
    },
    {
     "data": {
      "application/vnd.jupyter.widget-view+json": {
       "model_id": "71c2fa8bc4aa4d46b0eeb47233640567",
       "version_major": 2,
       "version_minor": 0
      },
      "text/plain": [
       "Calculating Metrics:   0%|          | 0/8 [00:00<?, ?it/s]"
      ]
     },
     "metadata": {},
     "output_type": "display_data"
    },
    {
     "data": {
      "application/vnd.jupyter.widget-view+json": {
       "model_id": "60ca5f48bd86496aa5c958ffef74c0d3",
       "version_major": 2,
       "version_minor": 0
      },
      "text/plain": [
       "Calculating Metrics:   0%|          | 0/8 [00:00<?, ?it/s]"
      ]
     },
     "metadata": {},
     "output_type": "display_data"
    },
    {
     "data": {
      "application/vnd.jupyter.widget-view+json": {
       "model_id": "10533d8271ca44c085a8dbcd71925ec0",
       "version_major": 2,
       "version_minor": 0
      },
      "text/plain": [
       "Calculating Metrics:   0%|          | 0/9 [00:00<?, ?it/s]"
      ]
     },
     "metadata": {},
     "output_type": "display_data"
    },
    {
     "data": {
      "application/vnd.jupyter.widget-view+json": {
       "model_id": "e0417dec016a485bbfcc5ef5382be533",
       "version_major": 2,
       "version_minor": 0
      },
      "text/plain": [
       "Calculating Metrics:   0%|          | 0/9 [00:00<?, ?it/s]"
      ]
     },
     "metadata": {},
     "output_type": "display_data"
    },
    {
     "data": {
      "application/vnd.jupyter.widget-view+json": {
       "model_id": "6ce5148f5933448ea6ef8fdd56969934",
       "version_major": 2,
       "version_minor": 0
      },
      "text/plain": [
       "Calculating Metrics:   0%|          | 0/8 [00:00<?, ?it/s]"
      ]
     },
     "metadata": {},
     "output_type": "display_data"
    },
    {
     "data": {
      "application/vnd.jupyter.widget-view+json": {
       "model_id": "01291978539744cab3a8745b42802c80",
       "version_major": 2,
       "version_minor": 0
      },
      "text/plain": [
       "Calculating Metrics:   0%|          | 0/8 [00:00<?, ?it/s]"
      ]
     },
     "metadata": {},
     "output_type": "display_data"
    },
    {
     "data": {
      "application/vnd.jupyter.widget-view+json": {
       "model_id": "f213aff3ea204a858e89e6dfbf7a30ea",
       "version_major": 2,
       "version_minor": 0
      },
      "text/plain": [
       "Calculating Metrics:   0%|          | 0/6 [00:00<?, ?it/s]"
      ]
     },
     "metadata": {},
     "output_type": "display_data"
    },
    {
     "data": {
      "application/vnd.jupyter.widget-view+json": {
       "model_id": "dbae471f0cc547858e414f960869b6b8",
       "version_major": 2,
       "version_minor": 0
      },
      "text/plain": [
       "Calculating Metrics:   0%|          | 0/6 [00:00<?, ?it/s]"
      ]
     },
     "metadata": {},
     "output_type": "display_data"
    },
    {
     "data": {
      "application/vnd.jupyter.widget-view+json": {
       "model_id": "05188bc076bd4902b7eb2770731d205c",
       "version_major": 2,
       "version_minor": 0
      },
      "text/plain": [
       "Calculating Metrics:   0%|          | 0/6 [00:00<?, ?it/s]"
      ]
     },
     "metadata": {},
     "output_type": "display_data"
    },
    {
     "data": {
      "application/vnd.jupyter.widget-view+json": {
       "model_id": "b66cdb02c97048b2be5bead89f3f6886",
       "version_major": 2,
       "version_minor": 0
      },
      "text/plain": [
       "Calculating Metrics:   0%|          | 0/6 [00:00<?, ?it/s]"
      ]
     },
     "metadata": {},
     "output_type": "display_data"
    },
    {
     "data": {
      "application/vnd.jupyter.widget-view+json": {
       "model_id": "6efbd053f9674400b9a0c5d45349f821",
       "version_major": 2,
       "version_minor": 0
      },
      "text/plain": [
       "Calculating Metrics:   0%|          | 0/6 [00:00<?, ?it/s]"
      ]
     },
     "metadata": {},
     "output_type": "display_data"
    },
    {
     "data": {
      "application/vnd.jupyter.widget-view+json": {
       "model_id": "be417b05d9764a69b12d42265be73890",
       "version_major": 2,
       "version_minor": 0
      },
      "text/plain": [
       "Calculating Metrics:   0%|          | 0/6 [00:00<?, ?it/s]"
      ]
     },
     "metadata": {},
     "output_type": "display_data"
    },
    {
     "data": {
      "application/vnd.jupyter.widget-view+json": {
       "model_id": "d7848b437e8d49d9b41a040582dc1562",
       "version_major": 2,
       "version_minor": 0
      },
      "text/plain": [
       "Calculating Metrics:   0%|          | 0/6 [00:00<?, ?it/s]"
      ]
     },
     "metadata": {},
     "output_type": "display_data"
    },
    {
     "data": {
      "application/vnd.jupyter.widget-view+json": {
       "model_id": "1f90f52526744721aa669ab4fd0bbac1",
       "version_major": 2,
       "version_minor": 0
      },
      "text/plain": [
       "Calculating Metrics:   0%|          | 0/6 [00:00<?, ?it/s]"
      ]
     },
     "metadata": {},
     "output_type": "display_data"
    },
    {
     "data": {
      "application/vnd.jupyter.widget-view+json": {
       "model_id": "6442e74ca1e6496aaf399e9726ead096",
       "version_major": 2,
       "version_minor": 0
      },
      "text/plain": [
       "Calculating Metrics:   0%|          | 0/6 [00:00<?, ?it/s]"
      ]
     },
     "metadata": {},
     "output_type": "display_data"
    },
    {
     "data": {
      "application/vnd.jupyter.widget-view+json": {
       "model_id": "ae3b8ba4ec0c446999eb3c2ac8e26b3a",
       "version_major": 2,
       "version_minor": 0
      },
      "text/plain": [
       "Calculating Metrics:   0%|          | 0/6 [00:00<?, ?it/s]"
      ]
     },
     "metadata": {},
     "output_type": "display_data"
    },
    {
     "data": {
      "application/vnd.jupyter.widget-view+json": {
       "model_id": "1b789cfb518246cbaed5e912e91e7036",
       "version_major": 2,
       "version_minor": 0
      },
      "text/plain": [
       "Calculating Metrics:   0%|          | 0/6 [00:00<?, ?it/s]"
      ]
     },
     "metadata": {},
     "output_type": "display_data"
    },
    {
     "data": {
      "application/vnd.jupyter.widget-view+json": {
       "model_id": "1e823ea5817b48e39ad88e9601ce92dc",
       "version_major": 2,
       "version_minor": 0
      },
      "text/plain": [
       "Calculating Metrics:   0%|          | 0/6 [00:00<?, ?it/s]"
      ]
     },
     "metadata": {},
     "output_type": "display_data"
    },
    {
     "data": {
      "application/vnd.jupyter.widget-view+json": {
       "model_id": "60dec214115f495e9777c9075f22a100",
       "version_major": 2,
       "version_minor": 0
      },
      "text/plain": [
       "Calculating Metrics:   0%|          | 0/6 [00:00<?, ?it/s]"
      ]
     },
     "metadata": {},
     "output_type": "display_data"
    },
    {
     "data": {
      "application/vnd.jupyter.widget-view+json": {
       "model_id": "2d0e110e78944c998372c6527f86f09a",
       "version_major": 2,
       "version_minor": 0
      },
      "text/plain": [
       "Calculating Metrics:   0%|          | 0/6 [00:00<?, ?it/s]"
      ]
     },
     "metadata": {},
     "output_type": "display_data"
    },
    {
     "data": {
      "application/vnd.jupyter.widget-view+json": {
       "model_id": "a28f655183e4422d9cebcf02954db88e",
       "version_major": 2,
       "version_minor": 0
      },
      "text/plain": [
       "Calculating Metrics:   0%|          | 0/6 [00:00<?, ?it/s]"
      ]
     },
     "metadata": {},
     "output_type": "display_data"
    },
    {
     "data": {
      "application/vnd.jupyter.widget-view+json": {
       "model_id": "353ffca830be4c43af356717aaf2c178",
       "version_major": 2,
       "version_minor": 0
      },
      "text/plain": [
       "Calculating Metrics:   0%|          | 0/6 [00:00<?, ?it/s]"
      ]
     },
     "metadata": {},
     "output_type": "display_data"
    },
    {
     "data": {
      "application/vnd.jupyter.widget-view+json": {
       "model_id": "0bd580cd74684859997079946825f381",
       "version_major": 2,
       "version_minor": 0
      },
      "text/plain": [
       "Calculating Metrics:   0%|          | 0/6 [00:00<?, ?it/s]"
      ]
     },
     "metadata": {},
     "output_type": "display_data"
    },
    {
     "data": {
      "application/vnd.jupyter.widget-view+json": {
       "model_id": "743f9918000542d180f5b4286f63d773",
       "version_major": 2,
       "version_minor": 0
      },
      "text/plain": [
       "Calculating Metrics:   0%|          | 0/6 [00:00<?, ?it/s]"
      ]
     },
     "metadata": {},
     "output_type": "display_data"
    },
    {
     "data": {
      "application/vnd.jupyter.widget-view+json": {
       "model_id": "71f62b17687447f99222b18f95739e3d",
       "version_major": 2,
       "version_minor": 0
      },
      "text/plain": [
       "Calculating Metrics:   0%|          | 0/6 [00:00<?, ?it/s]"
      ]
     },
     "metadata": {},
     "output_type": "display_data"
    },
    {
     "data": {
      "application/vnd.jupyter.widget-view+json": {
       "model_id": "f03cf016bb78470d955caf17fd55ebf3",
       "version_major": 2,
       "version_minor": 0
      },
      "text/plain": [
       "Calculating Metrics:   0%|          | 0/6 [00:00<?, ?it/s]"
      ]
     },
     "metadata": {},
     "output_type": "display_data"
    },
    {
     "data": {
      "application/vnd.jupyter.widget-view+json": {
       "model_id": "68125ccd66b941d0b113d8a964d2a36d",
       "version_major": 2,
       "version_minor": 0
      },
      "text/plain": [
       "Calculating Metrics:   0%|          | 0/6 [00:00<?, ?it/s]"
      ]
     },
     "metadata": {},
     "output_type": "display_data"
    },
    {
     "data": {
      "application/vnd.jupyter.widget-view+json": {
       "model_id": "6150b0ac2e6e4a7da8f940d5769a6ab1",
       "version_major": 2,
       "version_minor": 0
      },
      "text/plain": [
       "Calculating Metrics:   0%|          | 0/6 [00:00<?, ?it/s]"
      ]
     },
     "metadata": {},
     "output_type": "display_data"
    },
    {
     "data": {
      "application/vnd.jupyter.widget-view+json": {
       "model_id": "83cabc6d907040ca922f025ae8aa635e",
       "version_major": 2,
       "version_minor": 0
      },
      "text/plain": [
       "Calculating Metrics:   0%|          | 0/6 [00:00<?, ?it/s]"
      ]
     },
     "metadata": {},
     "output_type": "display_data"
    },
    {
     "data": {
      "application/vnd.jupyter.widget-view+json": {
       "model_id": "e13fcb8598f14e78bc2276e4565df1b0",
       "version_major": 2,
       "version_minor": 0
      },
      "text/plain": [
       "Calculating Metrics:   0%|          | 0/6 [00:00<?, ?it/s]"
      ]
     },
     "metadata": {},
     "output_type": "display_data"
    },
    {
     "data": {
      "application/vnd.jupyter.widget-view+json": {
       "model_id": "39aca75ccbcf4b5e91224da65a8e8bd4",
       "version_major": 2,
       "version_minor": 0
      },
      "text/plain": [
       "Calculating Metrics:   0%|          | 0/6 [00:00<?, ?it/s]"
      ]
     },
     "metadata": {},
     "output_type": "display_data"
    },
    {
     "data": {
      "application/vnd.jupyter.widget-view+json": {
       "model_id": "c11bec2e75384c7cb66e4fbd27c1bd75",
       "version_major": 2,
       "version_minor": 0
      },
      "text/plain": [
       "Calculating Metrics:   0%|          | 0/6 [00:00<?, ?it/s]"
      ]
     },
     "metadata": {},
     "output_type": "display_data"
    },
    {
     "data": {
      "application/vnd.jupyter.widget-view+json": {
       "model_id": "b4ea9608ea874f84b509f0262c45419b",
       "version_major": 2,
       "version_minor": 0
      },
      "text/plain": [
       "Calculating Metrics:   0%|          | 0/6 [00:00<?, ?it/s]"
      ]
     },
     "metadata": {},
     "output_type": "display_data"
    },
    {
     "data": {
      "application/vnd.jupyter.widget-view+json": {
       "model_id": "0cf7a9c0f640418ea4feadad23a1751f",
       "version_major": 2,
       "version_minor": 0
      },
      "text/plain": [
       "Calculating Metrics:   0%|          | 0/6 [00:00<?, ?it/s]"
      ]
     },
     "metadata": {},
     "output_type": "display_data"
    },
    {
     "data": {
      "application/vnd.jupyter.widget-view+json": {
       "model_id": "74f69ff9c21742fe89d6542a2bd6ad24",
       "version_major": 2,
       "version_minor": 0
      },
      "text/plain": [
       "Calculating Metrics:   0%|          | 0/6 [00:00<?, ?it/s]"
      ]
     },
     "metadata": {},
     "output_type": "display_data"
    },
    {
     "data": {
      "application/vnd.jupyter.widget-view+json": {
       "model_id": "79cf85d654704667a56f023e03f9f66b",
       "version_major": 2,
       "version_minor": 0
      },
      "text/plain": [
       "Calculating Metrics:   0%|          | 0/6 [00:00<?, ?it/s]"
      ]
     },
     "metadata": {},
     "output_type": "display_data"
    },
    {
     "data": {
      "application/vnd.jupyter.widget-view+json": {
       "model_id": "71ee460b07d54bfbb3a5cba0240a435d",
       "version_major": 2,
       "version_minor": 0
      },
      "text/plain": [
       "Calculating Metrics:   0%|          | 0/6 [00:00<?, ?it/s]"
      ]
     },
     "metadata": {},
     "output_type": "display_data"
    },
    {
     "data": {
      "application/vnd.jupyter.widget-view+json": {
       "model_id": "05ac945f4f43411297acdbeeb2fffeaa",
       "version_major": 2,
       "version_minor": 0
      },
      "text/plain": [
       "Calculating Metrics:   0%|          | 0/6 [00:00<?, ?it/s]"
      ]
     },
     "metadata": {},
     "output_type": "display_data"
    }
   ],
   "source": [
    "validate_ge_monthly()"
   ]
  },
  {
   "cell_type": "markdown",
   "id": "3879f806",
   "metadata": {},
   "source": [
    "Create Checkpoint"
   ]
  },
  {
   "cell_type": "code",
   "execution_count": 65,
   "id": "e944853f",
   "metadata": {},
   "outputs": [],
   "source": [
    "checkpoint = context.add_or_update_checkpoint(\n",
    "    name=\"Freddie_Mac_Monthly_v1\",\n",
    "    validator=validator\n",
    ")"
   ]
  },
  {
   "cell_type": "code",
   "execution_count": 66,
   "id": "687fa030",
   "metadata": {},
   "outputs": [
    {
     "data": {
      "application/vnd.jupyter.widget-view+json": {
       "model_id": "f2b1f8b600f94a159e1ded8f2d0e537a",
       "version_major": 2,
       "version_minor": 0
      },
      "text/plain": [
       "Calculating Metrics:   0%|          | 0/192 [00:00<?, ?it/s]"
      ]
     },
     "metadata": {},
     "output_type": "display_data"
    }
   ],
   "source": [
    "checkpoint_result = checkpoint.run(run_name=\"Manual_run\")"
   ]
  },
  {
   "cell_type": "code",
   "execution_count": 67,
   "id": "c0208bf4",
   "metadata": {},
   "outputs": [
    {
     "data": {
      "text/plain": [
       "{'local_site': 'file:///Users/anamikabharali/Documents/UNI/BD/streamlit/gx/uncommitted/data_docs/local_site/index.html'}"
      ]
     },
     "execution_count": 67,
     "metadata": {},
     "output_type": "execute_result"
    }
   ],
   "source": [
    "context. build_data_docs()"
   ]
  },
  {
   "cell_type": "code",
   "execution_count": null,
   "id": "1dda6dc3",
   "metadata": {},
   "outputs": [],
   "source": []
  }
 ],
 "metadata": {
  "kernelspec": {
   "display_name": ".venv",
   "language": "python",
   "name": "python3"
  },
  "language_info": {
   "codemirror_mode": {
    "name": "ipython",
    "version": 3
   },
   "file_extension": ".py",
   "mimetype": "text/x-python",
   "name": "python",
   "nbconvert_exporter": "python",
   "pygments_lexer": "ipython3",
   "version": "3.10.9"
  }
 },
 "nbformat": 4,
 "nbformat_minor": 5
}
