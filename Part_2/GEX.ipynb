{
 "cells": [
  {
   "cell_type": "code",
   "execution_count": 1,
   "id": "14634814",
   "metadata": {},
   "outputs": [],
   "source": [
    "import os\n",
    "import pandas as pd\n",
    "import great_expectations as gx\n",
    "from great_expectations.data_context import FileDataContext"
   ]
  },
  {
   "cell_type": "code",
   "execution_count": 2,
   "id": "c12a7301",
   "metadata": {},
   "outputs": [],
   "source": [
    "import streamlit as st\n",
    "import numpy as np\n",
    "from io import StringIO"
   ]
  },
  {
   "cell_type": "code",
   "execution_count": 3,
   "id": "9f84e117",
   "metadata": {},
   "outputs": [],
   "source": [
    "path_to_repo_dir=\"/Users/shruti/Desktop/Assignment_1/Part_2\" #local path to csv\n",
    "path_to_data_dir=f\"{path_to_repo_dir}/gx/data\" \n",
    "expectation_suite_name=\"GE_Suite\" "
   ]
  },
  {
   "cell_type": "code",
   "execution_count": 4,
   "id": "5775882d",
   "metadata": {},
   "outputs": [],
   "source": [
    "context = FileDataContext.create(project_root_dir=path_to_repo_dir)"
   ]
  },
  {
   "cell_type": "code",
   "execution_count": 5,
   "id": "3edfabc3",
   "metadata": {},
   "outputs": [],
   "source": [
    "os.mkdir(path_to_data_dir)\n",
    "\n",
    "df = pd.read_csv('/Users/shruti/Desktop/Assignment_1/Part_2/sample_orig_2021.txt', delimiter=\"|\", header = None)\n",
    "\n"
   ]
  },
  {
   "cell_type": "code",
   "execution_count": 6,
   "id": "7d648c94",
   "metadata": {},
   "outputs": [
    {
     "name": "stderr",
     "output_type": "stream",
     "text": [
      "2023-10-05 20:08:54.014 \n",
      "  \u001b[33m\u001b[1mWarning:\u001b[0m to view this Streamlit app on a browser, run it with the following\n",
      "  command:\n",
      "\n",
      "    streamlit run /Users/shruti/opt/anaconda3/envs/venv/lib/python3.8/site-packages/ipykernel_launcher.py [ARGUMENTS]\n"
     ]
    }
   ],
   "source": [
    "data_type = st.radio(\"Select Data Type:\", (\"Origination Data\", \"Monthly Performance Data\"))"
   ]
  },
  {
   "cell_type": "code",
   "execution_count": 7,
   "id": "de48b47d",
   "metadata": {},
   "outputs": [],
   "source": [
    "if data_type == \"Origination Data\":\n",
    "    df.columns=['Credit_Score', 'First_Payment_Date', 'First_Time_Homebuyer_Flag','Maturity_Date','MSA', 'MI','Number_of_Units','Occupancy_Status','CLTV','DTI','UPB','LTV','Original_Interest_Rate','Channel','PPM','Amortization','Property_State','Property_Type','Postal_Code','Loan_Sequence_Number','Loan_Purpose','Original_Loan_Term','Number_of_Borrowers','Seller_Name','Servicer_Name','Super_Conforming_Flag','HARP','Program_Indicator','HARP_Indicator','Property_Valuation_Method','nterest_Only','Mortgage_Insurance_Cancellation_Indicator']\n",
    "else:\n",
    "    df.columns=['Loan_Sequence_Number','Monthly_Reporting_Period','Current_Actual_UPB','Current_Loan_Delinquency_Status','Loan_Age','Remaining_Months_to_Legal_Maturity','Defect_Settlement_Date','Modification_Flag','Zero_Balance_Code','Zero_Balance_Effective_Date','Current_Interest_Rate','Current_Deferred_UPB','Due_Date_of_Last_Paid_Installment_(DDLPI)','MI_Recoveries','Net_Sales_Proceeds','Non_MI_Recoveries','Expenses','Legal_Costs','Maintenance_and_Preservation_Costs','Taxes_and_Insurance','Miscellaneous_Expenses','Actual_Loss_Calculation','Modification_Cost','Step_Modification_Flag','Deferred_Payment_Plan','Estimated_Loan_to_Value_(ELTV)','Zero_Balance_Removal_UPB','Delinquent_Accrued_Interest','Delinquency_Due_to_Disaster','Borrower_Assistance_Status_Code','Current_Month_Modification_Cost','Interest_Bearing_UPB']\n",
    "\n",
    "# Save the DataFrame as a CSV file\n",
    "df.to_csv(f\"{path_to_repo_dir}/gx/data/historical_data_2022Q1.csv\", index=False)"
   ]
  },
  {
   "cell_type": "code",
   "execution_count": 8,
   "id": "caabc39e",
   "metadata": {},
   "outputs": [
    {
     "data": {
      "text/html": [
       "<div>\n",
       "<style scoped>\n",
       "    .dataframe tbody tr th:only-of-type {\n",
       "        vertical-align: middle;\n",
       "    }\n",
       "\n",
       "    .dataframe tbody tr th {\n",
       "        vertical-align: top;\n",
       "    }\n",
       "\n",
       "    .dataframe thead th {\n",
       "        text-align: right;\n",
       "    }\n",
       "</style>\n",
       "<table border=\"1\" class=\"dataframe\">\n",
       "  <thead>\n",
       "    <tr style=\"text-align: right;\">\n",
       "      <th></th>\n",
       "      <th>Credit_Score</th>\n",
       "      <th>First_Payment_Date</th>\n",
       "      <th>First_Time_Homebuyer_Flag</th>\n",
       "      <th>Maturity_Date</th>\n",
       "      <th>MSA</th>\n",
       "      <th>MI</th>\n",
       "      <th>Number_of_Units</th>\n",
       "      <th>Occupancy_Status</th>\n",
       "      <th>CLTV</th>\n",
       "      <th>DTI</th>\n",
       "      <th>...</th>\n",
       "      <th>Number_of_Borrowers</th>\n",
       "      <th>Seller_Name</th>\n",
       "      <th>Servicer_Name</th>\n",
       "      <th>Super_Conforming_Flag</th>\n",
       "      <th>HARP</th>\n",
       "      <th>Program_Indicator</th>\n",
       "      <th>HARP_Indicator</th>\n",
       "      <th>Property_Valuation_Method</th>\n",
       "      <th>nterest_Only</th>\n",
       "      <th>Mortgage_Insurance_Cancellation_Indicator</th>\n",
       "    </tr>\n",
       "  </thead>\n",
       "  <tbody>\n",
       "    <tr>\n",
       "      <th>0</th>\n",
       "      <td>776</td>\n",
       "      <td>202103</td>\n",
       "      <td>N</td>\n",
       "      <td>205102</td>\n",
       "      <td>NaN</td>\n",
       "      <td>0</td>\n",
       "      <td>1</td>\n",
       "      <td>P</td>\n",
       "      <td>52</td>\n",
       "      <td>12</td>\n",
       "      <td>...</td>\n",
       "      <td>1</td>\n",
       "      <td>Other sellers</td>\n",
       "      <td>Other servicers</td>\n",
       "      <td>NaN</td>\n",
       "      <td>NaN</td>\n",
       "      <td>9</td>\n",
       "      <td>NaN</td>\n",
       "      <td>3</td>\n",
       "      <td>N</td>\n",
       "      <td>7</td>\n",
       "    </tr>\n",
       "    <tr>\n",
       "      <th>1</th>\n",
       "      <td>746</td>\n",
       "      <td>202103</td>\n",
       "      <td>N</td>\n",
       "      <td>205102</td>\n",
       "      <td>NaN</td>\n",
       "      <td>30</td>\n",
       "      <td>1</td>\n",
       "      <td>P</td>\n",
       "      <td>95</td>\n",
       "      <td>33</td>\n",
       "      <td>...</td>\n",
       "      <td>1</td>\n",
       "      <td>Other sellers</td>\n",
       "      <td>Other servicers</td>\n",
       "      <td>NaN</td>\n",
       "      <td>NaN</td>\n",
       "      <td>9</td>\n",
       "      <td>NaN</td>\n",
       "      <td>2</td>\n",
       "      <td>N</td>\n",
       "      <td>N</td>\n",
       "    </tr>\n",
       "    <tr>\n",
       "      <th>2</th>\n",
       "      <td>710</td>\n",
       "      <td>202103</td>\n",
       "      <td>N</td>\n",
       "      <td>204102</td>\n",
       "      <td>NaN</td>\n",
       "      <td>0</td>\n",
       "      <td>1</td>\n",
       "      <td>P</td>\n",
       "      <td>65</td>\n",
       "      <td>50</td>\n",
       "      <td>...</td>\n",
       "      <td>1</td>\n",
       "      <td>Other sellers</td>\n",
       "      <td>Other servicers</td>\n",
       "      <td>NaN</td>\n",
       "      <td>NaN</td>\n",
       "      <td>9</td>\n",
       "      <td>NaN</td>\n",
       "      <td>2</td>\n",
       "      <td>N</td>\n",
       "      <td>7</td>\n",
       "    </tr>\n",
       "    <tr>\n",
       "      <th>3</th>\n",
       "      <td>722</td>\n",
       "      <td>202103</td>\n",
       "      <td>N</td>\n",
       "      <td>205102</td>\n",
       "      <td>16984.0</td>\n",
       "      <td>25</td>\n",
       "      <td>1</td>\n",
       "      <td>P</td>\n",
       "      <td>89</td>\n",
       "      <td>40</td>\n",
       "      <td>...</td>\n",
       "      <td>2</td>\n",
       "      <td>Other sellers</td>\n",
       "      <td>Other servicers</td>\n",
       "      <td>NaN</td>\n",
       "      <td>NaN</td>\n",
       "      <td>9</td>\n",
       "      <td>NaN</td>\n",
       "      <td>1</td>\n",
       "      <td>N</td>\n",
       "      <td>N</td>\n",
       "    </tr>\n",
       "    <tr>\n",
       "      <th>4</th>\n",
       "      <td>761</td>\n",
       "      <td>202103</td>\n",
       "      <td>N</td>\n",
       "      <td>205102</td>\n",
       "      <td>29020.0</td>\n",
       "      <td>0</td>\n",
       "      <td>1</td>\n",
       "      <td>P</td>\n",
       "      <td>56</td>\n",
       "      <td>50</td>\n",
       "      <td>...</td>\n",
       "      <td>1</td>\n",
       "      <td>Other sellers</td>\n",
       "      <td>Other servicers</td>\n",
       "      <td>NaN</td>\n",
       "      <td>NaN</td>\n",
       "      <td>9</td>\n",
       "      <td>NaN</td>\n",
       "      <td>2</td>\n",
       "      <td>N</td>\n",
       "      <td>7</td>\n",
       "    </tr>\n",
       "  </tbody>\n",
       "</table>\n",
       "<p>5 rows × 32 columns</p>\n",
       "</div>"
      ],
      "text/plain": [
       "   Credit_Score  First_Payment_Date First_Time_Homebuyer_Flag  Maturity_Date  \\\n",
       "0           776              202103                         N         205102   \n",
       "1           746              202103                         N         205102   \n",
       "2           710              202103                         N         204102   \n",
       "3           722              202103                         N         205102   \n",
       "4           761              202103                         N         205102   \n",
       "\n",
       "       MSA  MI  Number_of_Units Occupancy_Status  CLTV  DTI  ...  \\\n",
       "0      NaN   0                1                P    52   12  ...   \n",
       "1      NaN  30                1                P    95   33  ...   \n",
       "2      NaN   0                1                P    65   50  ...   \n",
       "3  16984.0  25                1                P    89   40  ...   \n",
       "4  29020.0   0                1                P    56   50  ...   \n",
       "\n",
       "   Number_of_Borrowers    Seller_Name    Servicer_Name Super_Conforming_Flag  \\\n",
       "0                    1  Other sellers  Other servicers                   NaN   \n",
       "1                    1  Other sellers  Other servicers                   NaN   \n",
       "2                    1  Other sellers  Other servicers                   NaN   \n",
       "3                    2  Other sellers  Other servicers                   NaN   \n",
       "4                    1  Other sellers  Other servicers                   NaN   \n",
       "\n",
       "  HARP Program_Indicator HARP_Indicator Property_Valuation_Method  \\\n",
       "0  NaN                 9            NaN                         3   \n",
       "1  NaN                 9            NaN                         2   \n",
       "2  NaN                 9            NaN                         2   \n",
       "3  NaN                 9            NaN                         1   \n",
       "4  NaN                 9            NaN                         2   \n",
       "\n",
       "   nterest_Only Mortgage_Insurance_Cancellation_Indicator  \n",
       "0             N                                         7  \n",
       "1             N                                         N  \n",
       "2             N                                         7  \n",
       "3             N                                         N  \n",
       "4             N                                         7  \n",
       "\n",
       "[5 rows x 32 columns]"
      ]
     },
     "execution_count": 8,
     "metadata": {},
     "output_type": "execute_result"
    }
   ],
   "source": [
    "df.head()"
   ]
  },
  {
   "cell_type": "code",
   "execution_count": 9,
   "id": "244a983d",
   "metadata": {},
   "outputs": [
    {
     "data": {
      "text/html": [
       "<div>\n",
       "<style scoped>\n",
       "    .dataframe tbody tr th:only-of-type {\n",
       "        vertical-align: middle;\n",
       "    }\n",
       "\n",
       "    .dataframe tbody tr th {\n",
       "        vertical-align: top;\n",
       "    }\n",
       "\n",
       "    .dataframe thead th {\n",
       "        text-align: right;\n",
       "    }\n",
       "</style>\n",
       "<table border=\"1\" class=\"dataframe\">\n",
       "  <thead>\n",
       "    <tr style=\"text-align: right;\">\n",
       "      <th></th>\n",
       "      <th>Credit_Score</th>\n",
       "      <th>First_Payment_Date</th>\n",
       "      <th>First_Time_Homebuyer_Flag</th>\n",
       "      <th>Maturity_Date</th>\n",
       "      <th>MSA</th>\n",
       "      <th>MI</th>\n",
       "      <th>Number_of_Units</th>\n",
       "      <th>Occupancy_Status</th>\n",
       "      <th>CLTV</th>\n",
       "      <th>DTI</th>\n",
       "      <th>...</th>\n",
       "      <th>Number_of_Borrowers</th>\n",
       "      <th>Seller_Name</th>\n",
       "      <th>Servicer_Name</th>\n",
       "      <th>Super_Conforming_Flag</th>\n",
       "      <th>HARP</th>\n",
       "      <th>Program_Indicator</th>\n",
       "      <th>HARP_Indicator</th>\n",
       "      <th>Property_Valuation_Method</th>\n",
       "      <th>nterest_Only</th>\n",
       "      <th>Mortgage_Insurance_Cancellation_Indicator</th>\n",
       "    </tr>\n",
       "  </thead>\n",
       "  <tbody>\n",
       "    <tr>\n",
       "      <th>0</th>\n",
       "      <td>776</td>\n",
       "      <td>202103</td>\n",
       "      <td>N</td>\n",
       "      <td>205102</td>\n",
       "      <td>NaN</td>\n",
       "      <td>0</td>\n",
       "      <td>1</td>\n",
       "      <td>P</td>\n",
       "      <td>52</td>\n",
       "      <td>12</td>\n",
       "      <td>...</td>\n",
       "      <td>1</td>\n",
       "      <td>Other sellers</td>\n",
       "      <td>Other servicers</td>\n",
       "      <td>NaN</td>\n",
       "      <td>NaN</td>\n",
       "      <td>9</td>\n",
       "      <td>NaN</td>\n",
       "      <td>3</td>\n",
       "      <td>N</td>\n",
       "      <td>7</td>\n",
       "    </tr>\n",
       "    <tr>\n",
       "      <th>1</th>\n",
       "      <td>746</td>\n",
       "      <td>202103</td>\n",
       "      <td>N</td>\n",
       "      <td>205102</td>\n",
       "      <td>NaN</td>\n",
       "      <td>30</td>\n",
       "      <td>1</td>\n",
       "      <td>P</td>\n",
       "      <td>95</td>\n",
       "      <td>33</td>\n",
       "      <td>...</td>\n",
       "      <td>1</td>\n",
       "      <td>Other sellers</td>\n",
       "      <td>Other servicers</td>\n",
       "      <td>NaN</td>\n",
       "      <td>NaN</td>\n",
       "      <td>9</td>\n",
       "      <td>NaN</td>\n",
       "      <td>2</td>\n",
       "      <td>N</td>\n",
       "      <td>N</td>\n",
       "    </tr>\n",
       "    <tr>\n",
       "      <th>2</th>\n",
       "      <td>710</td>\n",
       "      <td>202103</td>\n",
       "      <td>N</td>\n",
       "      <td>204102</td>\n",
       "      <td>NaN</td>\n",
       "      <td>0</td>\n",
       "      <td>1</td>\n",
       "      <td>P</td>\n",
       "      <td>65</td>\n",
       "      <td>50</td>\n",
       "      <td>...</td>\n",
       "      <td>1</td>\n",
       "      <td>Other sellers</td>\n",
       "      <td>Other servicers</td>\n",
       "      <td>NaN</td>\n",
       "      <td>NaN</td>\n",
       "      <td>9</td>\n",
       "      <td>NaN</td>\n",
       "      <td>2</td>\n",
       "      <td>N</td>\n",
       "      <td>7</td>\n",
       "    </tr>\n",
       "    <tr>\n",
       "      <th>3</th>\n",
       "      <td>722</td>\n",
       "      <td>202103</td>\n",
       "      <td>N</td>\n",
       "      <td>205102</td>\n",
       "      <td>16984.0</td>\n",
       "      <td>25</td>\n",
       "      <td>1</td>\n",
       "      <td>P</td>\n",
       "      <td>89</td>\n",
       "      <td>40</td>\n",
       "      <td>...</td>\n",
       "      <td>2</td>\n",
       "      <td>Other sellers</td>\n",
       "      <td>Other servicers</td>\n",
       "      <td>NaN</td>\n",
       "      <td>NaN</td>\n",
       "      <td>9</td>\n",
       "      <td>NaN</td>\n",
       "      <td>1</td>\n",
       "      <td>N</td>\n",
       "      <td>N</td>\n",
       "    </tr>\n",
       "    <tr>\n",
       "      <th>4</th>\n",
       "      <td>761</td>\n",
       "      <td>202103</td>\n",
       "      <td>N</td>\n",
       "      <td>205102</td>\n",
       "      <td>29020.0</td>\n",
       "      <td>0</td>\n",
       "      <td>1</td>\n",
       "      <td>P</td>\n",
       "      <td>56</td>\n",
       "      <td>50</td>\n",
       "      <td>...</td>\n",
       "      <td>1</td>\n",
       "      <td>Other sellers</td>\n",
       "      <td>Other servicers</td>\n",
       "      <td>NaN</td>\n",
       "      <td>NaN</td>\n",
       "      <td>9</td>\n",
       "      <td>NaN</td>\n",
       "      <td>2</td>\n",
       "      <td>N</td>\n",
       "      <td>7</td>\n",
       "    </tr>\n",
       "  </tbody>\n",
       "</table>\n",
       "<p>5 rows × 32 columns</p>\n",
       "</div>"
      ],
      "text/plain": [
       "   Credit_Score  First_Payment_Date First_Time_Homebuyer_Flag  Maturity_Date  \\\n",
       "0           776              202103                         N         205102   \n",
       "1           746              202103                         N         205102   \n",
       "2           710              202103                         N         204102   \n",
       "3           722              202103                         N         205102   \n",
       "4           761              202103                         N         205102   \n",
       "\n",
       "       MSA  MI  Number_of_Units Occupancy_Status  CLTV  DTI  ...  \\\n",
       "0      NaN   0                1                P    52   12  ...   \n",
       "1      NaN  30                1                P    95   33  ...   \n",
       "2      NaN   0                1                P    65   50  ...   \n",
       "3  16984.0  25                1                P    89   40  ...   \n",
       "4  29020.0   0                1                P    56   50  ...   \n",
       "\n",
       "   Number_of_Borrowers    Seller_Name    Servicer_Name Super_Conforming_Flag  \\\n",
       "0                    1  Other sellers  Other servicers                   NaN   \n",
       "1                    1  Other sellers  Other servicers                   NaN   \n",
       "2                    1  Other sellers  Other servicers                   NaN   \n",
       "3                    2  Other sellers  Other servicers                   NaN   \n",
       "4                    1  Other sellers  Other servicers                   NaN   \n",
       "\n",
       "  HARP Program_Indicator HARP_Indicator Property_Valuation_Method  \\\n",
       "0  NaN                 9            NaN                         3   \n",
       "1  NaN                 9            NaN                         2   \n",
       "2  NaN                 9            NaN                         2   \n",
       "3  NaN                 9            NaN                         1   \n",
       "4  NaN                 9            NaN                         2   \n",
       "\n",
       "   nterest_Only Mortgage_Insurance_Cancellation_Indicator  \n",
       "0             N                                         7  \n",
       "1             N                                         N  \n",
       "2             N                                         7  \n",
       "3             N                                         N  \n",
       "4             N                                         7  \n",
       "\n",
       "[5 rows x 32 columns]"
      ]
     },
     "execution_count": 9,
     "metadata": {},
     "output_type": "execute_result"
    }
   ],
   "source": [
    "#df = df.drop('ColumnName', axis=1)\n",
    "df.head()"
   ]
  },
  {
   "cell_type": "code",
   "execution_count": 10,
   "id": "6889a27e",
   "metadata": {},
   "outputs": [],
   "source": [
    "# Give your Datasource a name\n",
    "datasource_name = \"Local_FileSystem_Source\"\n",
    "datasource = context.sources.add_pandas_filesystem(name=datasource_name, base_directory=path_to_data_dir)\n",
    "\n",
    "# Give your first Asset a name\n",
    "asset_name = \"Freddie_Mac\"\n",
    "batching_regex = r\"historical_data_\\d{4}Q\\d.csv\" #change this\n",
    "\n",
    "asset = datasource.add_csv_asset(name=asset_name,batching_regex=batching_regex)\n",
    "\n",
    "# Build batch request\n",
    "batch_request = asset.build_batch_request()"
   ]
  },
  {
   "cell_type": "markdown",
   "id": "b9a3404e",
   "metadata": {},
   "source": [
    "Create expectations suite"
   ]
  },
  {
   "cell_type": "code",
   "execution_count": 11,
   "id": "2c89495e",
   "metadata": {},
   "outputs": [],
   "source": [
    "data_asset = context.get_datasource(datasource_name).get_asset(asset_name)\n",
    "batch_request = data_asset.build_batch_request()"
   ]
  },
  {
   "cell_type": "code",
   "execution_count": 12,
   "metadata": {},
   "outputs": [
    {
     "data": {
      "text/plain": [
       "[]"
      ]
     },
     "execution_count": 12,
     "metadata": {},
     "output_type": "execute_result"
    }
   ],
   "source": [
    "context.list_expectation_suite_names()"
   ]
  },
  {
   "cell_type": "code",
   "execution_count": 13,
   "id": "b711dcce",
   "metadata": {},
   "outputs": [
    {
     "data": {
      "text/plain": [
       "{\n",
       "  \"expectation_suite_name\": \"GE_Suite\",\n",
       "  \"ge_cloud_id\": null,\n",
       "  \"expectations\": [],\n",
       "  \"data_asset_type\": null,\n",
       "  \"meta\": {\n",
       "    \"great_expectations_version\": \"0.17.19\"\n",
       "  }\n",
       "}"
      ]
     },
     "execution_count": 13,
     "metadata": {},
     "output_type": "execute_result"
    }
   ],
   "source": [
    "context. add_or_update_expectation_suite(expectation_suite_name)"
   ]
  },
  {
   "cell_type": "code",
   "execution_count": 14,
   "id": "82c9d439",
   "metadata": {},
   "outputs": [
    {
     "data": {
      "application/vnd.jupyter.widget-view+json": {
       "model_id": "82ed36b1055f4c2c9ef00b1d0e370413",
       "version_major": 2,
       "version_minor": 0
      },
      "text/plain": [
       "Calculating Metrics:   0%|          | 0/1 [00:00<?, ?it/s]"
      ]
     },
     "metadata": {},
     "output_type": "display_data"
    },
    {
     "data": {
      "text/html": [
       "<div>\n",
       "<style scoped>\n",
       "    .dataframe tbody tr th:only-of-type {\n",
       "        vertical-align: middle;\n",
       "    }\n",
       "\n",
       "    .dataframe tbody tr th {\n",
       "        vertical-align: top;\n",
       "    }\n",
       "\n",
       "    .dataframe thead th {\n",
       "        text-align: right;\n",
       "    }\n",
       "</style>\n",
       "<table border=\"1\" class=\"dataframe\">\n",
       "  <thead>\n",
       "    <tr style=\"text-align: right;\">\n",
       "      <th></th>\n",
       "      <th>Credit_Score</th>\n",
       "      <th>First_Payment_Date</th>\n",
       "      <th>First_Time_Homebuyer_Flag</th>\n",
       "      <th>Maturity_Date</th>\n",
       "      <th>MSA</th>\n",
       "      <th>MI</th>\n",
       "      <th>Number_of_Units</th>\n",
       "      <th>Occupancy_Status</th>\n",
       "      <th>CLTV</th>\n",
       "      <th>DTI</th>\n",
       "      <th>...</th>\n",
       "      <th>Number_of_Borrowers</th>\n",
       "      <th>Seller_Name</th>\n",
       "      <th>Servicer_Name</th>\n",
       "      <th>Super_Conforming_Flag</th>\n",
       "      <th>HARP</th>\n",
       "      <th>Program_Indicator</th>\n",
       "      <th>HARP_Indicator</th>\n",
       "      <th>Property_Valuation_Method</th>\n",
       "      <th>nterest_Only</th>\n",
       "      <th>Mortgage_Insurance_Cancellation_Indicator</th>\n",
       "    </tr>\n",
       "  </thead>\n",
       "  <tbody>\n",
       "    <tr>\n",
       "      <th>0</th>\n",
       "      <td>776</td>\n",
       "      <td>202103</td>\n",
       "      <td>N</td>\n",
       "      <td>205102</td>\n",
       "      <td>NaN</td>\n",
       "      <td>0</td>\n",
       "      <td>1</td>\n",
       "      <td>P</td>\n",
       "      <td>52</td>\n",
       "      <td>12</td>\n",
       "      <td>...</td>\n",
       "      <td>1</td>\n",
       "      <td>Other sellers</td>\n",
       "      <td>Other servicers</td>\n",
       "      <td>NaN</td>\n",
       "      <td>NaN</td>\n",
       "      <td>9</td>\n",
       "      <td>NaN</td>\n",
       "      <td>3</td>\n",
       "      <td>N</td>\n",
       "      <td>7</td>\n",
       "    </tr>\n",
       "    <tr>\n",
       "      <th>1</th>\n",
       "      <td>746</td>\n",
       "      <td>202103</td>\n",
       "      <td>N</td>\n",
       "      <td>205102</td>\n",
       "      <td>NaN</td>\n",
       "      <td>30</td>\n",
       "      <td>1</td>\n",
       "      <td>P</td>\n",
       "      <td>95</td>\n",
       "      <td>33</td>\n",
       "      <td>...</td>\n",
       "      <td>1</td>\n",
       "      <td>Other sellers</td>\n",
       "      <td>Other servicers</td>\n",
       "      <td>NaN</td>\n",
       "      <td>NaN</td>\n",
       "      <td>9</td>\n",
       "      <td>NaN</td>\n",
       "      <td>2</td>\n",
       "      <td>N</td>\n",
       "      <td>N</td>\n",
       "    </tr>\n",
       "    <tr>\n",
       "      <th>2</th>\n",
       "      <td>710</td>\n",
       "      <td>202103</td>\n",
       "      <td>N</td>\n",
       "      <td>204102</td>\n",
       "      <td>NaN</td>\n",
       "      <td>0</td>\n",
       "      <td>1</td>\n",
       "      <td>P</td>\n",
       "      <td>65</td>\n",
       "      <td>50</td>\n",
       "      <td>...</td>\n",
       "      <td>1</td>\n",
       "      <td>Other sellers</td>\n",
       "      <td>Other servicers</td>\n",
       "      <td>NaN</td>\n",
       "      <td>NaN</td>\n",
       "      <td>9</td>\n",
       "      <td>NaN</td>\n",
       "      <td>2</td>\n",
       "      <td>N</td>\n",
       "      <td>7</td>\n",
       "    </tr>\n",
       "    <tr>\n",
       "      <th>3</th>\n",
       "      <td>722</td>\n",
       "      <td>202103</td>\n",
       "      <td>N</td>\n",
       "      <td>205102</td>\n",
       "      <td>16984.0</td>\n",
       "      <td>25</td>\n",
       "      <td>1</td>\n",
       "      <td>P</td>\n",
       "      <td>89</td>\n",
       "      <td>40</td>\n",
       "      <td>...</td>\n",
       "      <td>2</td>\n",
       "      <td>Other sellers</td>\n",
       "      <td>Other servicers</td>\n",
       "      <td>NaN</td>\n",
       "      <td>NaN</td>\n",
       "      <td>9</td>\n",
       "      <td>NaN</td>\n",
       "      <td>1</td>\n",
       "      <td>N</td>\n",
       "      <td>N</td>\n",
       "    </tr>\n",
       "    <tr>\n",
       "      <th>4</th>\n",
       "      <td>761</td>\n",
       "      <td>202103</td>\n",
       "      <td>N</td>\n",
       "      <td>205102</td>\n",
       "      <td>29020.0</td>\n",
       "      <td>0</td>\n",
       "      <td>1</td>\n",
       "      <td>P</td>\n",
       "      <td>56</td>\n",
       "      <td>50</td>\n",
       "      <td>...</td>\n",
       "      <td>1</td>\n",
       "      <td>Other sellers</td>\n",
       "      <td>Other servicers</td>\n",
       "      <td>NaN</td>\n",
       "      <td>NaN</td>\n",
       "      <td>9</td>\n",
       "      <td>NaN</td>\n",
       "      <td>2</td>\n",
       "      <td>N</td>\n",
       "      <td>7</td>\n",
       "    </tr>\n",
       "  </tbody>\n",
       "</table>\n",
       "<p>5 rows × 32 columns</p>\n",
       "</div>"
      ],
      "text/plain": [
       "   Credit_Score  First_Payment_Date First_Time_Homebuyer_Flag  Maturity_Date  \\\n",
       "0           776              202103                         N         205102   \n",
       "1           746              202103                         N         205102   \n",
       "2           710              202103                         N         204102   \n",
       "3           722              202103                         N         205102   \n",
       "4           761              202103                         N         205102   \n",
       "\n",
       "       MSA  MI  Number_of_Units Occupancy_Status  CLTV  DTI  ...  \\\n",
       "0      NaN   0                1                P    52   12  ...   \n",
       "1      NaN  30                1                P    95   33  ...   \n",
       "2      NaN   0                1                P    65   50  ...   \n",
       "3  16984.0  25                1                P    89   40  ...   \n",
       "4  29020.0   0                1                P    56   50  ...   \n",
       "\n",
       "   Number_of_Borrowers    Seller_Name    Servicer_Name Super_Conforming_Flag  \\\n",
       "0                    1  Other sellers  Other servicers                   NaN   \n",
       "1                    1  Other sellers  Other servicers                   NaN   \n",
       "2                    1  Other sellers  Other servicers                   NaN   \n",
       "3                    2  Other sellers  Other servicers                   NaN   \n",
       "4                    1  Other sellers  Other servicers                   NaN   \n",
       "\n",
       "  HARP Program_Indicator HARP_Indicator Property_Valuation_Method  \\\n",
       "0  NaN                 9            NaN                         3   \n",
       "1  NaN                 9            NaN                         2   \n",
       "2  NaN                 9            NaN                         2   \n",
       "3  NaN                 9            NaN                         1   \n",
       "4  NaN                 9            NaN                         2   \n",
       "\n",
       "   nterest_Only Mortgage_Insurance_Cancellation_Indicator  \n",
       "0             N                                         7  \n",
       "1             N                                         N  \n",
       "2             N                                         7  \n",
       "3             N                                         N  \n",
       "4             N                                         7  \n",
       "\n",
       "[5 rows x 32 columns]"
      ]
     },
     "execution_count": 14,
     "metadata": {},
     "output_type": "execute_result"
    }
   ],
   "source": [
    "validator = context.get_validator(batch_request=batch_request, expectation_suite_name=expectation_suite_name)\n",
    "validator.head()"
   ]
  },
  {
   "cell_type": "markdown",
   "id": "9743d367",
   "metadata": {},
   "source": [
    "Validators for schema"
   ]
  },
  {
   "cell_type": "code",
   "execution_count": 15,
   "id": "99bf4cb8",
   "metadata": {},
   "outputs": [],
   "source": [
    "def validate_ge_origination():\n",
    "\n",
    "    #schema check\n",
    "\n",
    "    validator.expect_column_values_to_be_of_type(\"First_Payment_Date\", \"datetime\")\n",
    "    validator.expect_column_values_to_be_of_type(\"First_Time_Homebuyer_Flag\", \"str\")\n",
    "    validator.expect_column_values_to_be_of_type(\"Maturity_Date\", \"datetime\")\n",
    "    validator.expect_column_values_to_be_of_type(\"MSA\", \"int\")\n",
    "    validator.expect_column_values_to_be_of_type(\"MI\", \"int\")\n",
    "    validator.expect_column_values_to_be_of_type(\"Number_of_Units\", \"int\")\n",
    "    validator.expect_column_values_to_be_of_type(\"Occupancy_Status\", \"str\")\n",
    "    validator.expect_column_values_to_be_of_type(\"CLTV\", \"float\")\n",
    "    validator.expect_column_values_to_be_of_type(\"DTI\", \"float\")\n",
    "    validator.expect_column_values_to_be_of_type(\"UPB\", \"int\")\n",
    "    validator.expect_column_values_to_be_of_type(\"LTV\", \"float\")\n",
    "    validator.expect_column_values_to_be_of_type(\"Original_Interest_Rate\", \"float\")\n",
    "\n",
    "    validator.expect_column_values_to_be_of_type(\"Channel\", \"str\")\n",
    "\n",
    "    validator.expect_column_values_to_be_of_type(\"PPM\", \"str\")\n",
    "\n",
    "    validator.expect_column_values_to_be_of_type(\"Amortization\", \"str\")\n",
    "\n",
    "    validator.expect_column_values_to_be_of_type(\"Property_State\", \"str\")\n",
    "\n",
    "    validator.expect_column_values_to_be_of_type(\"Property_Type\", \"str\")\n",
    "\n",
    "    validator.expect_column_values_to_be_of_type(\"Postal_Code\", \"int\")\n",
    "\n",
    "    validator.expect_column_values_to_be_of_type(\"Loan_Sequence_Number\", \"str\")\n",
    "\n",
    "    validator.expect_column_values_to_be_of_type(\"Loan_Purpose\", \"str\")\n",
    "\n",
    "    validator.expect_column_values_to_be_of_type(\"Original_Loan_Term\", \"int\")\n",
    "\n",
    "    validator.expect_column_values_to_be_of_type(\"Number_of_Borrowers\", \"int\")\n",
    "\n",
    "    validator.expect_column_values_to_be_of_type(\"Seller_Name\", \"str\")\n",
    "\n",
    "    validator.expect_column_values_to_be_of_type(\"Servicer_Name\", \"str\")\n",
    "\n",
    "    validator.expect_column_values_to_be_of_type(\"Super_Conforming_Flag\", \"str\")\n",
    "\n",
    "    validator.expect_column_values_to_be_of_type(\"HARP\", \"str\")\n",
    "\n",
    "    validator.expect_column_values_to_be_of_type(\"Program_Indicator\", \"str\")\n",
    "\n",
    "    validator.expect_column_values_to_be_of_type(\"HARP_Indicator\", \"str\")\n",
    "\n",
    "    validator.expect_column_values_to_be_of_type(\"Property_Valuation_Method\", \"int\")\n",
    "\n",
    "    validator.expect_column_values_to_be_of_type(\"nterest_Only\", \"str\")\n",
    "\n",
    "    validator.expect_column_values_to_be_of_type(\"Mortgage_Insurance_Cancellation_Indicator\", \"str\")\n",
    "\n",
    " \n",
    "\n",
    " \n",
    "\n",
    "    #Validation\n",
    "\n",
    "    validator.expect_column_values_to_be_in_set (\"First_Time_Homebuyer_Flag\", [\"Y\",\"N\"])\n",
    "\n",
    "    validator.expect_column_values_to_be_in_set(\"Occupancy_Status\", [\"P\", \"I\", \"S\"])\n",
    "\n",
    "    validator.expect_column_values_to_be_in_set(\"Channel\", [\"B\", \"R\", \"C\"])\n",
    "\n",
    "    validator.expect_column_values_to_match_regex(\"Loan_Sequence_Number\", regex=r'^P\\d{2}Qn[a-zA-Z0-9]{7}$')\n",
    "\n",
    "    validator.expect_column_values_to_match_regex(\"HARP_Indicator\", regex=r'^P\\d{2}Qn[a-zA-Z0-9]{7}$')\n",
    "\n",
    "    validator.expect_column_value_lengths_to_be_between(\"Credit_Score\", min_value=1, max_value=4)\n",
    "\n",
    "    validator.expect_column_value_lengths_to_be_between(\"UPB\", min_value=1, max_value=12)\n",
    "\n",
    "    validator.expect_column_values_to_be_in_set(\"Amortization\", [\"FRM\", \"ARM\"])\n",
    "\n",
    "    validator.expect_column_values_to_match_regex(\"Postal_Code\", r\"^\\d{5}$\")\n",
    "\n",
    "    validator.expect_column_values_to_match_regex(\"Original_Interest_Rate\", regex=r'^\\d{3}\\.\\d{3}$')\n",
    "\n",
    "    expected_states = [\"AL\", \"AK\", \"AZ\", \"AR\", \"CA\", \"CO\", \"CT\", \"DE\", \"FL\", \"GA\", \"HI\", \"ID\", \"IL\", \"IN\", \"IA\", \"KS\", \"KY\", \"LA\", \"ME\", \"MD\", \"MA\", \"MI\", \"MN\", \"MS\", \"MO\", \"MT\", \"NE\", \"NV\", \"NH\", \"NJ\", \"NM\", \"NY\", \"NC\", \"ND\", \"OH\", \"OK\", \"OR\", \"PA\", \"RI\", \"SC\", \"SD\", \"TN\", \"TX\", \"UT\", \"VT\", \"VA\", \"WA\", \"WV\", \"WI\", \"WY\"]\n",
    "\n",
    "    validator.expect_column_values_to_be_in_set(\"Property_State\", value_set=expected_states)\n",
    "\n",
    "    \n",
    "\n",
    "    #Missing data\n",
    "\n",
    "    for column in df.columns:\n",
    "\n",
    "        validator.expect_column_values_to_not_be_null(column)\n",
    "\n",
    " \n",
    "\n",
    " \n",
    "\n",
    "    validator.save_expectation_suite()\n",
    "\n",
    " \n",
    "\n"
   ]
  },
  {
   "cell_type": "code",
   "execution_count": 16,
   "id": "f375ef8f",
   "metadata": {},
   "outputs": [],
   "source": [
    "def validate_ge_monthly():\n",
    "    #Schema Check\n",
    "    validator.expect_column_values_to_be_of_type(\"Loan_Sequence_Number\", \"str\")\n",
    "    validator.expect_column_values_to_be_of_type(\"Monthly_Reporting_Period\", \"datetime\")\n",
    "    validator.expect_column_values_to_be_of_type(\"Current_Actual_UPB\", \"float\")\n",
    "    validator.expect_column_values_to_be_of_type(\"Current_Loan_Delinquency_Status\", \"str\")\n",
    "    validator.expect_column_values_to_be_of_type(\"Loan_Age\", \"int\")\n",
    "    validator.expect_column_values_to_be_of_type(\"Remaining_Months_to_Legal_Maturity\", \"int\")\n",
    "    validator.expect_column_values_to_be_of_type(\"Defect_Settlement_Date\", \"datetime\")\n",
    "    validator.expect_column_values_to_be_of_type(\"Modification_Flag\", \"str\")\n",
    "    validator.expect_column_values_to_be_of_type(\"Zero_Balance_Code\", \"int\")\n",
    "    validator.expect_column_values_to_be_of_type(\"Zero_Balance_Effective_Date\", \"datetime\")\n",
    "    validator.expect_column_values_to_be_of_type(\"Current_Interest_Rate\", \"float\")\n",
    "    validator.expect_column_values_to_be_of_type(\"Current_Deferred_UPB\", \"int\")\n",
    "    validator.expect_column_values_to_be_of_type(\"Due_Date_of_Last_Paid_Installment_(DDLPI)\", \"datetime\")\n",
    "    validator.expect_column_values_to_be_of_type(\"MI_Recoveries\", \"float\")\n",
    "    validator.expect_column_values_to_be_of_type(\"Net_Sales_Proceeds\", \"str\")\n",
    "    validator.expect_column_values_to_be_of_type(\"Non_MI_Recoveries\", \"float\")\n",
    "    validator.expect_column_values_to_be_of_type(\"Expenses\", \"float\")\n",
    "    validator.expect_column_values_to_be_of_type(\"Legal_Costs\", \"float\")\n",
    "    validator.expect_column_values_to_be_of_type(\"Maintenance_and_Preservation_Costs\", \"float\")\n",
    "    validator.expect_column_values_to_be_of_type(\"Taxes_and_Insurance\", \"float\")\n",
    "    validator.expect_column_values_to_be_of_type(\"Miscellaneous_Expenses\", \"float\")\n",
    "    validator.expect_column_values_to_be_of_type(\"Actual_Loss_Calculation\", \"float\")\n",
    "    validator.expect_column_values_to_be_of_type(\"Modification_Cost\", \"float\")\n",
    "    validator.expect_column_values_to_be_of_type(\"Step_Modification_Flag\", \"str\")\n",
    "    validator.expect_column_values_to_be_of_type(\"Deferred_Payment_Plan\", \"str\")\n",
    "    validator.expect_column_values_to_be_of_type(\"Estimated_Loan_to_Value_(ELTV)\", \"int\")\n",
    "    validator.expect_column_values_to_be_of_type(\"Zero_Balance_Removal_UPB\", \"float\")\n",
    "    validator.expect_column_values_to_be_of_type(\"Delinquent_Accrued_Interest\", \"float\")\n",
    "    validator.expect_column_values_to_be_of_type(\"Delinquency_Due_to_Disaster\", \"str\")\n",
    "    validator.expect_column_values_to_be_of_type(\"Borrower_Assistance_Status_Code\", \"str\")\n",
    "    validator.expect_column_values_to_be_of_type(\"Current_Month_Modification_Cost\", \"float\")\n",
    "    validator.expect_column_values_to_be_of_type(\"Interest_Bearing_UPB\", \"float\")\n",
    "\n",
    "    #other validations\n",
    "    validator.expect_column_values_to_be_unique(\"Loan_Sequence_Number\")  #Loan seq number will be unique\n",
    "    validator.expect_column_values_to_match_regex(\"Loan_Sequence_Number\", regex=r'^P\\d{2}Qn[a-zA-Z0-9]{7}$')\n",
    "    validator.expect_column_values_to_match_regex(\"Current_Actual_UPB\", regex=r'^\\d{10}\\.\\d{2}$')\n",
    "    validator.expect_column_values_to_match_regex(\"Current_Interest_Rate\", regex=r'^\\d{5}\\.\\d{3}$')\n",
    "    validator.expect_column_values_to_match_regex(\"MI_Recoveries\", regex=r'^\\d{10}\\.\\d{2}$')\n",
    "    validator.expect_column_values_to_match_regex(\"Non_MI_Recoveries\", regex=r'^\\d{10}\\.\\d{2}$')\n",
    "    validator.expect_column_values_to_match_regex(\"Expenses\", regex=r'^\\d{10}\\.\\d{2}$')\n",
    "    validator.expect_column_values_to_match_regex(\"Legal_Costs\", regex=r'^\\d{10}\\.\\d{2}$')\n",
    "    validator.expect_column_values_to_match_regex(\"Maintenance_and_Preservation_Costs\", regex=r'^\\d{10}\\.\\d{2}$')\n",
    "    validator.expect_column_values_to_match_regex(\"Miscellaneous_Expenses\", regex=r'^\\d{10}\\.\\d{2}$')\n",
    "    validator.expect_column_values_to_match_regex(\"Taxes_and_Insurance\", regex=r'^\\d{10}\\.\\d{2}$')\n",
    "    validator.expect_column_values_to_match_regex(\"Actual_Loss_Calculation\", regex=r'^\\d{10}\\.\\d{2}$')\n",
    "    validator.expect_column_values_to_match_regex(\"Modification_Cost\", regex=r'^\\d{10}\\.\\d{2}$')\n",
    "    validator.expect_column_values_to_match_regex(\"Zero_Balance_Removal_UPB\", regex=r'^\\d{10}\\.\\d{2}$')\n",
    "    validator.expect_column_values_to_match_regex(\"Delinquent_Accrued_Interest\", regex=r'^\\d{10}\\.\\d{2}$')\n",
    "    validator.expect_column_values_to_match_regex(\"Current_Month_Modification_Cost\", regex=r'^\\d{10}\\.\\d{2}$')\n",
    "    validator.expect_column_values_to_match_regex(\"Interest_Bearing_UPB\", regex=r'^\\d{10}\\.\\d{2}$')\n",
    "    validator.expect_column_value_lengths_to_be_between(\"Zero_Balance_Removal_UPB\", min_value=1, max_value=12)\n",
    "    validator.expect_column_value_lengths_to_be_between(\"Current_Deferred_UPB\", min_value=1, max_value=12)\n",
    "    validator.expect_column_values_to_be_in_set(\"MI_Recoveries\", [\"B\", \"R\", \"C\"])\n",
    "    validator.expect_column_values_to_be_in_set(\"Modification_Flag\", [\"I\", \"P\", \"S\"])\n",
    "    \n",
    "\n",
    "    #For null value check\n",
    "    for column in df.columns:\n",
    "        validator.expect_column_values_to_not_be_null(column)\n",
    "\n",
    "    validator.save_expectation_suite()"
   ]
  },
  {
   "cell_type": "code",
   "execution_count": 18,
   "id": "1a15220f",
   "metadata": {},
   "outputs": [
    {
     "data": {
      "application/vnd.jupyter.widget-view+json": {
       "model_id": "2158d2d07a2a435a8bc6046e2d58b0b5",
       "version_major": 2,
       "version_minor": 0
      },
      "text/plain": [
       "Calculating Metrics:   0%|          | 0/1 [00:00<?, ?it/s]"
      ]
     },
     "metadata": {},
     "output_type": "display_data"
    },
    {
     "data": {
      "application/vnd.jupyter.widget-view+json": {
       "model_id": "9f0171bb437747ef993c9f5657ebcd96",
       "version_major": 2,
       "version_minor": 0
      },
      "text/plain": [
       "Calculating Metrics:   0%|          | 0/8 [00:00<?, ?it/s]"
      ]
     },
     "metadata": {},
     "output_type": "display_data"
    },
    {
     "data": {
      "application/vnd.jupyter.widget-view+json": {
       "model_id": "d1337662ef2d4f1a8e8801b0e1e1900c",
       "version_major": 2,
       "version_minor": 0
      },
      "text/plain": [
       "Calculating Metrics:   0%|          | 0/1 [00:00<?, ?it/s]"
      ]
     },
     "metadata": {},
     "output_type": "display_data"
    },
    {
     "data": {
      "application/vnd.jupyter.widget-view+json": {
       "model_id": "e6b3b5c015fc4ca79c37d1075eb82cb2",
       "version_major": 2,
       "version_minor": 0
      },
      "text/plain": [
       "Calculating Metrics:   0%|          | 0/1 [00:00<?, ?it/s]"
      ]
     },
     "metadata": {},
     "output_type": "display_data"
    },
    {
     "data": {
      "application/vnd.jupyter.widget-view+json": {
       "model_id": "0be89d860a234a408cf77ca0e9898dad",
       "version_major": 2,
       "version_minor": 0
      },
      "text/plain": [
       "Calculating Metrics:   0%|          | 0/1 [00:00<?, ?it/s]"
      ]
     },
     "metadata": {},
     "output_type": "display_data"
    },
    {
     "data": {
      "application/vnd.jupyter.widget-view+json": {
       "model_id": "816f19adaa3c4424acaa6c94f4a4d016",
       "version_major": 2,
       "version_minor": 0
      },
      "text/plain": [
       "Calculating Metrics:   0%|          | 0/1 [00:00<?, ?it/s]"
      ]
     },
     "metadata": {},
     "output_type": "display_data"
    },
    {
     "data": {
      "application/vnd.jupyter.widget-view+json": {
       "model_id": "003f0c2373d44e28b8b9faec809d97f4",
       "version_major": 2,
       "version_minor": 0
      },
      "text/plain": [
       "Calculating Metrics:   0%|          | 0/8 [00:00<?, ?it/s]"
      ]
     },
     "metadata": {},
     "output_type": "display_data"
    },
    {
     "data": {
      "application/vnd.jupyter.widget-view+json": {
       "model_id": "d046457a9d1d47318c570bd47ebadc78",
       "version_major": 2,
       "version_minor": 0
      },
      "text/plain": [
       "Calculating Metrics:   0%|          | 0/1 [00:00<?, ?it/s]"
      ]
     },
     "metadata": {},
     "output_type": "display_data"
    },
    {
     "data": {
      "application/vnd.jupyter.widget-view+json": {
       "model_id": "2f92b574035747f9ba5918391f3f74bd",
       "version_major": 2,
       "version_minor": 0
      },
      "text/plain": [
       "Calculating Metrics:   0%|          | 0/1 [00:00<?, ?it/s]"
      ]
     },
     "metadata": {},
     "output_type": "display_data"
    },
    {
     "data": {
      "application/vnd.jupyter.widget-view+json": {
       "model_id": "86ca43f4f3544e5d9de8455d3e545ea6",
       "version_major": 2,
       "version_minor": 0
      },
      "text/plain": [
       "Calculating Metrics:   0%|          | 0/1 [00:00<?, ?it/s]"
      ]
     },
     "metadata": {},
     "output_type": "display_data"
    },
    {
     "data": {
      "application/vnd.jupyter.widget-view+json": {
       "model_id": "3b0c5f6202fe494a936b1ddc03de4f88",
       "version_major": 2,
       "version_minor": 0
      },
      "text/plain": [
       "Calculating Metrics:   0%|          | 0/1 [00:00<?, ?it/s]"
      ]
     },
     "metadata": {},
     "output_type": "display_data"
    },
    {
     "data": {
      "application/vnd.jupyter.widget-view+json": {
       "model_id": "99f03078fb0046339af6d23e2902553c",
       "version_major": 2,
       "version_minor": 0
      },
      "text/plain": [
       "Calculating Metrics:   0%|          | 0/1 [00:00<?, ?it/s]"
      ]
     },
     "metadata": {},
     "output_type": "display_data"
    },
    {
     "data": {
      "application/vnd.jupyter.widget-view+json": {
       "model_id": "9fec980c46dc45f09c3ed8e74566101c",
       "version_major": 2,
       "version_minor": 0
      },
      "text/plain": [
       "Calculating Metrics:   0%|          | 0/8 [00:00<?, ?it/s]"
      ]
     },
     "metadata": {},
     "output_type": "display_data"
    },
    {
     "data": {
      "application/vnd.jupyter.widget-view+json": {
       "model_id": "89a95c58c624438ea18ba22e6e430aa7",
       "version_major": 2,
       "version_minor": 0
      },
      "text/plain": [
       "Calculating Metrics:   0%|          | 0/8 [00:00<?, ?it/s]"
      ]
     },
     "metadata": {},
     "output_type": "display_data"
    },
    {
     "data": {
      "application/vnd.jupyter.widget-view+json": {
       "model_id": "d64c8e8dbc8641d98c0e9deac12f9670",
       "version_major": 2,
       "version_minor": 0
      },
      "text/plain": [
       "Calculating Metrics:   0%|          | 0/8 [00:00<?, ?it/s]"
      ]
     },
     "metadata": {},
     "output_type": "display_data"
    },
    {
     "data": {
      "application/vnd.jupyter.widget-view+json": {
       "model_id": "1f484e4bc79649ffb94d0045722359b6",
       "version_major": 2,
       "version_minor": 0
      },
      "text/plain": [
       "Calculating Metrics:   0%|          | 0/8 [00:00<?, ?it/s]"
      ]
     },
     "metadata": {},
     "output_type": "display_data"
    },
    {
     "data": {
      "application/vnd.jupyter.widget-view+json": {
       "model_id": "d78f20b4ff6644e28d7dda10e8034f93",
       "version_major": 2,
       "version_minor": 0
      },
      "text/plain": [
       "Calculating Metrics:   0%|          | 0/8 [00:00<?, ?it/s]"
      ]
     },
     "metadata": {},
     "output_type": "display_data"
    },
    {
     "data": {
      "application/vnd.jupyter.widget-view+json": {
       "model_id": "4e480a847bab4273b04f53b504c7f431",
       "version_major": 2,
       "version_minor": 0
      },
      "text/plain": [
       "Calculating Metrics:   0%|          | 0/1 [00:00<?, ?it/s]"
      ]
     },
     "metadata": {},
     "output_type": "display_data"
    },
    {
     "data": {
      "application/vnd.jupyter.widget-view+json": {
       "model_id": "3f5f0120fc9747d38792a68e211cf961",
       "version_major": 2,
       "version_minor": 0
      },
      "text/plain": [
       "Calculating Metrics:   0%|          | 0/8 [00:00<?, ?it/s]"
      ]
     },
     "metadata": {},
     "output_type": "display_data"
    },
    {
     "data": {
      "application/vnd.jupyter.widget-view+json": {
       "model_id": "3d5a4be2ee19474db374f2309aa5407d",
       "version_major": 2,
       "version_minor": 0
      },
      "text/plain": [
       "Calculating Metrics:   0%|          | 0/8 [00:00<?, ?it/s]"
      ]
     },
     "metadata": {},
     "output_type": "display_data"
    },
    {
     "data": {
      "application/vnd.jupyter.widget-view+json": {
       "model_id": "b96aa2b66d684e049d4aced8eac8b08b",
       "version_major": 2,
       "version_minor": 0
      },
      "text/plain": [
       "Calculating Metrics:   0%|          | 0/1 [00:00<?, ?it/s]"
      ]
     },
     "metadata": {},
     "output_type": "display_data"
    },
    {
     "data": {
      "application/vnd.jupyter.widget-view+json": {
       "model_id": "4c8bc165456140d1bf2c0e82b96caf8c",
       "version_major": 2,
       "version_minor": 0
      },
      "text/plain": [
       "Calculating Metrics:   0%|          | 0/1 [00:00<?, ?it/s]"
      ]
     },
     "metadata": {},
     "output_type": "display_data"
    },
    {
     "data": {
      "application/vnd.jupyter.widget-view+json": {
       "model_id": "9e0e34412f834dbb967b7ea3d8c59471",
       "version_major": 2,
       "version_minor": 0
      },
      "text/plain": [
       "Calculating Metrics:   0%|          | 0/8 [00:00<?, ?it/s]"
      ]
     },
     "metadata": {},
     "output_type": "display_data"
    },
    {
     "data": {
      "application/vnd.jupyter.widget-view+json": {
       "model_id": "7a3e8d333bfd48958b85dc292bcbb5a8",
       "version_major": 2,
       "version_minor": 0
      },
      "text/plain": [
       "Calculating Metrics:   0%|          | 0/8 [00:00<?, ?it/s]"
      ]
     },
     "metadata": {},
     "output_type": "display_data"
    },
    {
     "data": {
      "application/vnd.jupyter.widget-view+json": {
       "model_id": "e46708228d7c4a6b859dd7013c24d1a4",
       "version_major": 2,
       "version_minor": 0
      },
      "text/plain": [
       "Calculating Metrics:   0%|          | 0/8 [00:00<?, ?it/s]"
      ]
     },
     "metadata": {},
     "output_type": "display_data"
    },
    {
     "data": {
      "application/vnd.jupyter.widget-view+json": {
       "model_id": "dc19edbdf1b845389e7ca9a6c16e417a",
       "version_major": 2,
       "version_minor": 0
      },
      "text/plain": [
       "Calculating Metrics:   0%|          | 0/1 [00:00<?, ?it/s]"
      ]
     },
     "metadata": {},
     "output_type": "display_data"
    },
    {
     "data": {
      "application/vnd.jupyter.widget-view+json": {
       "model_id": "ef561e1fd4d048799c333a3cd18c1ea7",
       "version_major": 2,
       "version_minor": 0
      },
      "text/plain": [
       "Calculating Metrics:   0%|          | 0/8 [00:00<?, ?it/s]"
      ]
     },
     "metadata": {},
     "output_type": "display_data"
    },
    {
     "data": {
      "application/vnd.jupyter.widget-view+json": {
       "model_id": "2d1835107c654e17a208aa2673018e6e",
       "version_major": 2,
       "version_minor": 0
      },
      "text/plain": [
       "Calculating Metrics:   0%|          | 0/1 [00:00<?, ?it/s]"
      ]
     },
     "metadata": {},
     "output_type": "display_data"
    },
    {
     "data": {
      "application/vnd.jupyter.widget-view+json": {
       "model_id": "9736d03371994c1c91c67b40f3e551ec",
       "version_major": 2,
       "version_minor": 0
      },
      "text/plain": [
       "Calculating Metrics:   0%|          | 0/1 [00:00<?, ?it/s]"
      ]
     },
     "metadata": {},
     "output_type": "display_data"
    },
    {
     "data": {
      "application/vnd.jupyter.widget-view+json": {
       "model_id": "04f8b792dcea4940b666a8c049228a62",
       "version_major": 2,
       "version_minor": 0
      },
      "text/plain": [
       "Calculating Metrics:   0%|          | 0/8 [00:00<?, ?it/s]"
      ]
     },
     "metadata": {},
     "output_type": "display_data"
    },
    {
     "data": {
      "application/vnd.jupyter.widget-view+json": {
       "model_id": "73e4a1c521d542149169b4a0ad3031cc",
       "version_major": 2,
       "version_minor": 0
      },
      "text/plain": [
       "Calculating Metrics:   0%|          | 0/8 [00:00<?, ?it/s]"
      ]
     },
     "metadata": {},
     "output_type": "display_data"
    },
    {
     "data": {
      "application/vnd.jupyter.widget-view+json": {
       "model_id": "4c44a7b4890b479b8713f393af95268b",
       "version_major": 2,
       "version_minor": 0
      },
      "text/plain": [
       "Calculating Metrics:   0%|          | 0/8 [00:00<?, ?it/s]"
      ]
     },
     "metadata": {},
     "output_type": "display_data"
    },
    {
     "data": {
      "application/vnd.jupyter.widget-view+json": {
       "model_id": "993af5664c3449308ff8d734cf517ac1",
       "version_major": 2,
       "version_minor": 0
      },
      "text/plain": [
       "Calculating Metrics:   0%|          | 0/8 [00:00<?, ?it/s]"
      ]
     },
     "metadata": {},
     "output_type": "display_data"
    },
    {
     "data": {
      "application/vnd.jupyter.widget-view+json": {
       "model_id": "66f60f6abaea44aea0a61992ee9a1374",
       "version_major": 2,
       "version_minor": 0
      },
      "text/plain": [
       "Calculating Metrics:   0%|          | 0/8 [00:00<?, ?it/s]"
      ]
     },
     "metadata": {},
     "output_type": "display_data"
    },
    {
     "data": {
      "application/vnd.jupyter.widget-view+json": {
       "model_id": "a6f4dde77578419da86e46d9a10d622f",
       "version_major": 2,
       "version_minor": 0
      },
      "text/plain": [
       "Calculating Metrics:   0%|          | 0/8 [00:00<?, ?it/s]"
      ]
     },
     "metadata": {},
     "output_type": "display_data"
    },
    {
     "data": {
      "application/vnd.jupyter.widget-view+json": {
       "model_id": "d1bbb6e8009e4181bedab54215458de6",
       "version_major": 2,
       "version_minor": 0
      },
      "text/plain": [
       "Calculating Metrics:   0%|          | 0/8 [00:00<?, ?it/s]"
      ]
     },
     "metadata": {},
     "output_type": "display_data"
    },
    {
     "data": {
      "application/vnd.jupyter.widget-view+json": {
       "model_id": "9deca23b7a7f4de18e8b5450c07c0851",
       "version_major": 2,
       "version_minor": 0
      },
      "text/plain": [
       "Calculating Metrics:   0%|          | 0/9 [00:00<?, ?it/s]"
      ]
     },
     "metadata": {},
     "output_type": "display_data"
    },
    {
     "data": {
      "application/vnd.jupyter.widget-view+json": {
       "model_id": "8b96defe89a54da3b7f4909cbcf74498",
       "version_major": 2,
       "version_minor": 0
      },
      "text/plain": [
       "Calculating Metrics:   0%|          | 0/9 [00:00<?, ?it/s]"
      ]
     },
     "metadata": {},
     "output_type": "display_data"
    },
    {
     "data": {
      "application/vnd.jupyter.widget-view+json": {
       "model_id": "6cda057402044656ba82fcbf71122828",
       "version_major": 2,
       "version_minor": 0
      },
      "text/plain": [
       "Calculating Metrics:   0%|          | 0/8 [00:00<?, ?it/s]"
      ]
     },
     "metadata": {},
     "output_type": "display_data"
    },
    {
     "data": {
      "application/vnd.jupyter.widget-view+json": {
       "model_id": "5babc90474d34a769239d7facef2ca5c",
       "version_major": 2,
       "version_minor": 0
      },
      "text/plain": [
       "Calculating Metrics:   0%|          | 0/8 [00:00<?, ?it/s]"
      ]
     },
     "metadata": {},
     "output_type": "display_data"
    },
    {
     "data": {
      "application/vnd.jupyter.widget-view+json": {
       "model_id": "84b38ff444804372bc6223f3294ab121",
       "version_major": 2,
       "version_minor": 0
      },
      "text/plain": [
       "Calculating Metrics:   0%|          | 0/8 [00:00<?, ?it/s]"
      ]
     },
     "metadata": {},
     "output_type": "display_data"
    },
    {
     "data": {
      "application/vnd.jupyter.widget-view+json": {
       "model_id": "af03393ee238408b827f27ae442d5cb0",
       "version_major": 2,
       "version_minor": 0
      },
      "text/plain": [
       "Calculating Metrics:   0%|          | 0/8 [00:00<?, ?it/s]"
      ]
     },
     "metadata": {},
     "output_type": "display_data"
    },
    {
     "data": {
      "application/vnd.jupyter.widget-view+json": {
       "model_id": "c6876dedb5b6474e82a2d68edf9006a9",
       "version_major": 2,
       "version_minor": 0
      },
      "text/plain": [
       "Calculating Metrics:   0%|          | 0/6 [00:00<?, ?it/s]"
      ]
     },
     "metadata": {},
     "output_type": "display_data"
    },
    {
     "data": {
      "application/vnd.jupyter.widget-view+json": {
       "model_id": "766972d8f0284f3a9df3856741099f4d",
       "version_major": 2,
       "version_minor": 0
      },
      "text/plain": [
       "Calculating Metrics:   0%|          | 0/6 [00:00<?, ?it/s]"
      ]
     },
     "metadata": {},
     "output_type": "display_data"
    },
    {
     "data": {
      "application/vnd.jupyter.widget-view+json": {
       "model_id": "ad19a5fad2fa4acc9ade494d92b8ed29",
       "version_major": 2,
       "version_minor": 0
      },
      "text/plain": [
       "Calculating Metrics:   0%|          | 0/6 [00:00<?, ?it/s]"
      ]
     },
     "metadata": {},
     "output_type": "display_data"
    },
    {
     "data": {
      "application/vnd.jupyter.widget-view+json": {
       "model_id": "6659959f5d224f37b40d88dabb6045a2",
       "version_major": 2,
       "version_minor": 0
      },
      "text/plain": [
       "Calculating Metrics:   0%|          | 0/6 [00:00<?, ?it/s]"
      ]
     },
     "metadata": {},
     "output_type": "display_data"
    },
    {
     "data": {
      "application/vnd.jupyter.widget-view+json": {
       "model_id": "0468162217e64ff1b15f07017fdbb777",
       "version_major": 2,
       "version_minor": 0
      },
      "text/plain": [
       "Calculating Metrics:   0%|          | 0/6 [00:00<?, ?it/s]"
      ]
     },
     "metadata": {},
     "output_type": "display_data"
    },
    {
     "data": {
      "application/vnd.jupyter.widget-view+json": {
       "model_id": "ba06f4b82e30446b805687e058fc7a26",
       "version_major": 2,
       "version_minor": 0
      },
      "text/plain": [
       "Calculating Metrics:   0%|          | 0/6 [00:00<?, ?it/s]"
      ]
     },
     "metadata": {},
     "output_type": "display_data"
    },
    {
     "data": {
      "application/vnd.jupyter.widget-view+json": {
       "model_id": "3001f1ccfa52487d8df06e20e3526b6c",
       "version_major": 2,
       "version_minor": 0
      },
      "text/plain": [
       "Calculating Metrics:   0%|          | 0/6 [00:00<?, ?it/s]"
      ]
     },
     "metadata": {},
     "output_type": "display_data"
    },
    {
     "data": {
      "application/vnd.jupyter.widget-view+json": {
       "model_id": "aa613adc068f4a438f00e82c0c23cb47",
       "version_major": 2,
       "version_minor": 0
      },
      "text/plain": [
       "Calculating Metrics:   0%|          | 0/6 [00:00<?, ?it/s]"
      ]
     },
     "metadata": {},
     "output_type": "display_data"
    },
    {
     "data": {
      "application/vnd.jupyter.widget-view+json": {
       "model_id": "f0b008a31d07419d8011ef0e97e11266",
       "version_major": 2,
       "version_minor": 0
      },
      "text/plain": [
       "Calculating Metrics:   0%|          | 0/6 [00:00<?, ?it/s]"
      ]
     },
     "metadata": {},
     "output_type": "display_data"
    },
    {
     "data": {
      "application/vnd.jupyter.widget-view+json": {
       "model_id": "13a7568bb7b94006b4a752eba983dab2",
       "version_major": 2,
       "version_minor": 0
      },
      "text/plain": [
       "Calculating Metrics:   0%|          | 0/6 [00:00<?, ?it/s]"
      ]
     },
     "metadata": {},
     "output_type": "display_data"
    },
    {
     "data": {
      "application/vnd.jupyter.widget-view+json": {
       "model_id": "831b422358c5490cbe5f86925f0db278",
       "version_major": 2,
       "version_minor": 0
      },
      "text/plain": [
       "Calculating Metrics:   0%|          | 0/6 [00:00<?, ?it/s]"
      ]
     },
     "metadata": {},
     "output_type": "display_data"
    },
    {
     "data": {
      "application/vnd.jupyter.widget-view+json": {
       "model_id": "cffb0eedf3b64276be94a6d77f5d697c",
       "version_major": 2,
       "version_minor": 0
      },
      "text/plain": [
       "Calculating Metrics:   0%|          | 0/6 [00:00<?, ?it/s]"
      ]
     },
     "metadata": {},
     "output_type": "display_data"
    },
    {
     "data": {
      "application/vnd.jupyter.widget-view+json": {
       "model_id": "e3d3b2129bfb4f11a3fc52c74f8cba93",
       "version_major": 2,
       "version_minor": 0
      },
      "text/plain": [
       "Calculating Metrics:   0%|          | 0/6 [00:00<?, ?it/s]"
      ]
     },
     "metadata": {},
     "output_type": "display_data"
    },
    {
     "data": {
      "application/vnd.jupyter.widget-view+json": {
       "model_id": "ec1f67bc89e348fb9ec5acf74dcd08fa",
       "version_major": 2,
       "version_minor": 0
      },
      "text/plain": [
       "Calculating Metrics:   0%|          | 0/6 [00:00<?, ?it/s]"
      ]
     },
     "metadata": {},
     "output_type": "display_data"
    },
    {
     "data": {
      "application/vnd.jupyter.widget-view+json": {
       "model_id": "2ef37b6086d344b495efcf1101ffa359",
       "version_major": 2,
       "version_minor": 0
      },
      "text/plain": [
       "Calculating Metrics:   0%|          | 0/6 [00:00<?, ?it/s]"
      ]
     },
     "metadata": {},
     "output_type": "display_data"
    },
    {
     "data": {
      "application/vnd.jupyter.widget-view+json": {
       "model_id": "4d24ec5e09ca4a9bbcaee4c3e9b07c5d",
       "version_major": 2,
       "version_minor": 0
      },
      "text/plain": [
       "Calculating Metrics:   0%|          | 0/6 [00:00<?, ?it/s]"
      ]
     },
     "metadata": {},
     "output_type": "display_data"
    },
    {
     "data": {
      "application/vnd.jupyter.widget-view+json": {
       "model_id": "9a2071fb40b14fd6b1fcff317541ec5c",
       "version_major": 2,
       "version_minor": 0
      },
      "text/plain": [
       "Calculating Metrics:   0%|          | 0/6 [00:00<?, ?it/s]"
      ]
     },
     "metadata": {},
     "output_type": "display_data"
    },
    {
     "data": {
      "application/vnd.jupyter.widget-view+json": {
       "model_id": "89f6220d8b9f442780a3928a22bf8d6f",
       "version_major": 2,
       "version_minor": 0
      },
      "text/plain": [
       "Calculating Metrics:   0%|          | 0/6 [00:00<?, ?it/s]"
      ]
     },
     "metadata": {},
     "output_type": "display_data"
    },
    {
     "data": {
      "application/vnd.jupyter.widget-view+json": {
       "model_id": "9c2dfb17fbb348a7a1b0a425185a2130",
       "version_major": 2,
       "version_minor": 0
      },
      "text/plain": [
       "Calculating Metrics:   0%|          | 0/6 [00:00<?, ?it/s]"
      ]
     },
     "metadata": {},
     "output_type": "display_data"
    },
    {
     "data": {
      "application/vnd.jupyter.widget-view+json": {
       "model_id": "c5ca95e6ccad42bab9c75490517eec1d",
       "version_major": 2,
       "version_minor": 0
      },
      "text/plain": [
       "Calculating Metrics:   0%|          | 0/6 [00:00<?, ?it/s]"
      ]
     },
     "metadata": {},
     "output_type": "display_data"
    },
    {
     "data": {
      "application/vnd.jupyter.widget-view+json": {
       "model_id": "7db39ff5ac934e9c80cf094fb46cb9ef",
       "version_major": 2,
       "version_minor": 0
      },
      "text/plain": [
       "Calculating Metrics:   0%|          | 0/6 [00:00<?, ?it/s]"
      ]
     },
     "metadata": {},
     "output_type": "display_data"
    },
    {
     "data": {
      "application/vnd.jupyter.widget-view+json": {
       "model_id": "bd413d5d91b24143bd481ecf717b21b1",
       "version_major": 2,
       "version_minor": 0
      },
      "text/plain": [
       "Calculating Metrics:   0%|          | 0/6 [00:00<?, ?it/s]"
      ]
     },
     "metadata": {},
     "output_type": "display_data"
    },
    {
     "data": {
      "application/vnd.jupyter.widget-view+json": {
       "model_id": "433327b8fcd441c9880d003de2df16cf",
       "version_major": 2,
       "version_minor": 0
      },
      "text/plain": [
       "Calculating Metrics:   0%|          | 0/6 [00:00<?, ?it/s]"
      ]
     },
     "metadata": {},
     "output_type": "display_data"
    },
    {
     "data": {
      "application/vnd.jupyter.widget-view+json": {
       "model_id": "0229cca3003e486cac439bfe543438a6",
       "version_major": 2,
       "version_minor": 0
      },
      "text/plain": [
       "Calculating Metrics:   0%|          | 0/6 [00:00<?, ?it/s]"
      ]
     },
     "metadata": {},
     "output_type": "display_data"
    },
    {
     "data": {
      "application/vnd.jupyter.widget-view+json": {
       "model_id": "137eabc9d0db439d8a20ad159fb1dbe5",
       "version_major": 2,
       "version_minor": 0
      },
      "text/plain": [
       "Calculating Metrics:   0%|          | 0/6 [00:00<?, ?it/s]"
      ]
     },
     "metadata": {},
     "output_type": "display_data"
    },
    {
     "data": {
      "application/vnd.jupyter.widget-view+json": {
       "model_id": "4283e0a6715a40ce95413c383fcf4791",
       "version_major": 2,
       "version_minor": 0
      },
      "text/plain": [
       "Calculating Metrics:   0%|          | 0/6 [00:00<?, ?it/s]"
      ]
     },
     "metadata": {},
     "output_type": "display_data"
    },
    {
     "data": {
      "application/vnd.jupyter.widget-view+json": {
       "model_id": "a655216e25cb47f6917b79c0ca0f6a9b",
       "version_major": 2,
       "version_minor": 0
      },
      "text/plain": [
       "Calculating Metrics:   0%|          | 0/6 [00:00<?, ?it/s]"
      ]
     },
     "metadata": {},
     "output_type": "display_data"
    },
    {
     "data": {
      "application/vnd.jupyter.widget-view+json": {
       "model_id": "d2dbc05058b940eebe72092869da6f58",
       "version_major": 2,
       "version_minor": 0
      },
      "text/plain": [
       "Calculating Metrics:   0%|          | 0/6 [00:00<?, ?it/s]"
      ]
     },
     "metadata": {},
     "output_type": "display_data"
    },
    {
     "data": {
      "application/vnd.jupyter.widget-view+json": {
       "model_id": "6e219d934fc4454fa6ada646e5355006",
       "version_major": 2,
       "version_minor": 0
      },
      "text/plain": [
       "Calculating Metrics:   0%|          | 0/6 [00:00<?, ?it/s]"
      ]
     },
     "metadata": {},
     "output_type": "display_data"
    },
    {
     "data": {
      "application/vnd.jupyter.widget-view+json": {
       "model_id": "8e522a89875c471e86d298ce80104064",
       "version_major": 2,
       "version_minor": 0
      },
      "text/plain": [
       "Calculating Metrics:   0%|          | 0/6 [00:00<?, ?it/s]"
      ]
     },
     "metadata": {},
     "output_type": "display_data"
    },
    {
     "data": {
      "application/vnd.jupyter.widget-view+json": {
       "model_id": "5bcf9158c4714d78ae1f5f4dfe048b9a",
       "version_major": 2,
       "version_minor": 0
      },
      "text/plain": [
       "Calculating Metrics:   0%|          | 0/6 [00:00<?, ?it/s]"
      ]
     },
     "metadata": {},
     "output_type": "display_data"
    },
    {
     "data": {
      "application/vnd.jupyter.widget-view+json": {
       "model_id": "dd3d6b18584645b9978081a0b4481245",
       "version_major": 2,
       "version_minor": 0
      },
      "text/plain": [
       "Calculating Metrics:   0%|          | 0/6 [00:00<?, ?it/s]"
      ]
     },
     "metadata": {},
     "output_type": "display_data"
    }
   ],
   "source": [
    "if data_type == \"Origination Data\":\n",
    "    validate_ge_origination()\n",
    "else:\n",
    "    validate_ge_monthly()"
   ]
  },
  {
   "cell_type": "code",
   "execution_count": 17,
   "id": "d27ad051",
   "metadata": {},
   "outputs": [
    {
     "data": {
      "application/vnd.jupyter.widget-view+json": {
       "model_id": "38640c56ef2948839416efced876a51c",
       "version_major": 2,
       "version_minor": 0
      },
      "text/plain": [
       "Calculating Metrics:   0%|          | 0/8 [00:00<?, ?it/s]"
      ]
     },
     "metadata": {},
     "output_type": "display_data"
    },
    {
     "data": {
      "application/vnd.jupyter.widget-view+json": {
       "model_id": "cbfcac2c5a6c4a5f8ca92e5a3717288b",
       "version_major": 2,
       "version_minor": 0
      },
      "text/plain": [
       "Calculating Metrics:   0%|          | 0/1 [00:00<?, ?it/s]"
      ]
     },
     "metadata": {},
     "output_type": "display_data"
    },
    {
     "ename": "IndexError",
     "evalue": "list index out of range",
     "output_type": "error",
     "traceback": [
      "\u001b[0;31m---------------------------------------------------------------------------\u001b[0m",
      "\u001b[0;31mIndexError\u001b[0m                                Traceback (most recent call last)",
      "\u001b[1;32m/Users/shruti/Desktop/Assignment_1/Part_2/GEX (2).ipynb Cell 20\u001b[0m line \u001b[0;36m1\n\u001b[0;32m----> <a href='vscode-notebook-cell:/Users/shruti/Desktop/Assignment_1/Part_2/GEX%20%282%29.ipynb#X30sZmlsZQ%3D%3D?line=0'>1</a>\u001b[0m validate_ge_monthly()\n",
      "\u001b[1;32m/Users/shruti/Desktop/Assignment_1/Part_2/GEX (2).ipynb Cell 20\u001b[0m line \u001b[0;36m4\n\u001b[1;32m      <a href='vscode-notebook-cell:/Users/shruti/Desktop/Assignment_1/Part_2/GEX%20%282%29.ipynb#X30sZmlsZQ%3D%3D?line=0'>1</a>\u001b[0m \u001b[39mdef\u001b[39;00m \u001b[39mvalidate_ge_monthly\u001b[39m():\n\u001b[1;32m      <a href='vscode-notebook-cell:/Users/shruti/Desktop/Assignment_1/Part_2/GEX%20%282%29.ipynb#X30sZmlsZQ%3D%3D?line=1'>2</a>\u001b[0m     \u001b[39m#Schema Check\u001b[39;00m\n\u001b[1;32m      <a href='vscode-notebook-cell:/Users/shruti/Desktop/Assignment_1/Part_2/GEX%20%282%29.ipynb#X30sZmlsZQ%3D%3D?line=2'>3</a>\u001b[0m     validator\u001b[39m.\u001b[39mexpect_column_values_to_be_of_type(\u001b[39m\"\u001b[39m\u001b[39mLoan_Sequence_Number\u001b[39m\u001b[39m\"\u001b[39m, \u001b[39m\"\u001b[39m\u001b[39mstr\u001b[39m\u001b[39m\"\u001b[39m)\n\u001b[0;32m----> <a href='vscode-notebook-cell:/Users/shruti/Desktop/Assignment_1/Part_2/GEX%20%282%29.ipynb#X30sZmlsZQ%3D%3D?line=3'>4</a>\u001b[0m     validator\u001b[39m.\u001b[39;49mexpect_column_values_to_be_of_type(\u001b[39m\"\u001b[39;49m\u001b[39mMonthly_Reporting_Period\u001b[39;49m\u001b[39m\"\u001b[39;49m, \u001b[39m\"\u001b[39;49m\u001b[39mdatetime\u001b[39;49m\u001b[39m\"\u001b[39;49m)\n\u001b[1;32m      <a href='vscode-notebook-cell:/Users/shruti/Desktop/Assignment_1/Part_2/GEX%20%282%29.ipynb#X30sZmlsZQ%3D%3D?line=4'>5</a>\u001b[0m     validator\u001b[39m.\u001b[39mexpect_column_values_to_be_of_type(\u001b[39m\"\u001b[39m\u001b[39mCurrent_Actual_UPB\u001b[39m\u001b[39m\"\u001b[39m, \u001b[39m\"\u001b[39m\u001b[39mfloat\u001b[39m\u001b[39m\"\u001b[39m)\n\u001b[1;32m      <a href='vscode-notebook-cell:/Users/shruti/Desktop/Assignment_1/Part_2/GEX%20%282%29.ipynb#X30sZmlsZQ%3D%3D?line=5'>6</a>\u001b[0m     validator\u001b[39m.\u001b[39mexpect_column_values_to_be_of_type(\u001b[39m\"\u001b[39m\u001b[39mCurrent_Loan_Delinquency_Status\u001b[39m\u001b[39m\"\u001b[39m, \u001b[39m\"\u001b[39m\u001b[39mstr\u001b[39m\u001b[39m\"\u001b[39m)\n",
      "File \u001b[0;32m~/opt/anaconda3/envs/venv/lib/python3.8/site-packages/great_expectations/validator/validator.py:594\u001b[0m, in \u001b[0;36mValidator.validate_expectation.<locals>.inst_expectation\u001b[0;34m(*args, **kwargs)\u001b[0m\n\u001b[1;32m    588\u001b[0m         validation_result \u001b[39m=\u001b[39m ExpectationValidationResult(\n\u001b[1;32m    589\u001b[0m             success\u001b[39m=\u001b[39m\u001b[39mFalse\u001b[39;00m,\n\u001b[1;32m    590\u001b[0m             exception_info\u001b[39m=\u001b[39mexception_info,\n\u001b[1;32m    591\u001b[0m             expectation_config\u001b[39m=\u001b[39mconfiguration,\n\u001b[1;32m    592\u001b[0m         )\n\u001b[1;32m    593\u001b[0m     \u001b[39melse\u001b[39;00m:\n\u001b[0;32m--> 594\u001b[0m         \u001b[39mraise\u001b[39;00m err\n\u001b[1;32m    596\u001b[0m \u001b[39mif\u001b[39;00m \u001b[39mself\u001b[39m\u001b[39m.\u001b[39m_include_rendered_content:\n\u001b[1;32m    597\u001b[0m     validation_result\u001b[39m.\u001b[39mrender()\n",
      "File \u001b[0;32m~/opt/anaconda3/envs/venv/lib/python3.8/site-packages/great_expectations/validator/validator.py:557\u001b[0m, in \u001b[0;36mValidator.validate_expectation.<locals>.inst_expectation\u001b[0;34m(*args, **kwargs)\u001b[0m\n\u001b[1;32m    553\u001b[0m     validation_result \u001b[39m=\u001b[39m ExpectationValidationResult(\n\u001b[1;32m    554\u001b[0m         expectation_config\u001b[39m=\u001b[39mcopy\u001b[39m.\u001b[39mdeepcopy(expectation\u001b[39m.\u001b[39mconfiguration)\n\u001b[1;32m    555\u001b[0m     )\n\u001b[1;32m    556\u001b[0m \u001b[39melse\u001b[39;00m:\n\u001b[0;32m--> 557\u001b[0m     validation_result \u001b[39m=\u001b[39m expectation\u001b[39m.\u001b[39;49mvalidate(\n\u001b[1;32m    558\u001b[0m         validator\u001b[39m=\u001b[39;49m\u001b[39mself\u001b[39;49m,\n\u001b[1;32m    559\u001b[0m         evaluation_parameters\u001b[39m=\u001b[39;49m\u001b[39mself\u001b[39;49m\u001b[39m.\u001b[39;49m_expectation_suite\u001b[39m.\u001b[39;49mevaluation_parameters,\n\u001b[1;32m    560\u001b[0m         data_context\u001b[39m=\u001b[39;49m\u001b[39mself\u001b[39;49m\u001b[39m.\u001b[39;49m_data_context,\n\u001b[1;32m    561\u001b[0m         runtime_configuration\u001b[39m=\u001b[39;49mbasic_runtime_configuration,\n\u001b[1;32m    562\u001b[0m     )\n\u001b[1;32m    564\u001b[0m \u001b[39m# If validate has set active_validation to true, then we do not save the config to avoid\u001b[39;00m\n\u001b[1;32m    565\u001b[0m \u001b[39m# saving updating expectation configs to the same suite during validation runs\u001b[39;00m\n\u001b[1;32m    566\u001b[0m \u001b[39mif\u001b[39;00m \u001b[39mself\u001b[39m\u001b[39m.\u001b[39m_active_validation \u001b[39mis\u001b[39;00m \u001b[39mTrue\u001b[39;00m:\n",
      "File \u001b[0;32m~/opt/anaconda3/envs/venv/lib/python3.8/site-packages/great_expectations/expectations/expectation.py:1276\u001b[0m, in \u001b[0;36mExpectation.validate\u001b[0;34m(self, validator, configuration, evaluation_parameters, interactive_evaluation, data_context, runtime_configuration)\u001b[0m\n\u001b[1;32m   1267\u001b[0m \u001b[39mself\u001b[39m\u001b[39m.\u001b[39m_warn_if_result_format_config_in_expectation_configuration(\n\u001b[1;32m   1268\u001b[0m     configuration\u001b[39m=\u001b[39mconfiguration\n\u001b[1;32m   1269\u001b[0m )\n\u001b[1;32m   1271\u001b[0m configuration\u001b[39m.\u001b[39mprocess_evaluation_parameters(\n\u001b[1;32m   1272\u001b[0m     evaluation_parameters, interactive_evaluation, data_context\n\u001b[1;32m   1273\u001b[0m )\n\u001b[1;32m   1274\u001b[0m expectation_validation_result_list: \u001b[39mlist\u001b[39m[\n\u001b[1;32m   1275\u001b[0m     ExpectationValidationResult\n\u001b[0;32m-> 1276\u001b[0m ] \u001b[39m=\u001b[39m validator\u001b[39m.\u001b[39;49mgraph_validate(\n\u001b[1;32m   1277\u001b[0m     configurations\u001b[39m=\u001b[39;49m[configuration],\n\u001b[1;32m   1278\u001b[0m     runtime_configuration\u001b[39m=\u001b[39;49mruntime_configuration,\n\u001b[1;32m   1279\u001b[0m )\n\u001b[1;32m   1280\u001b[0m \u001b[39mreturn\u001b[39;00m expectation_validation_result_list[\u001b[39m0\u001b[39m]\n",
      "File \u001b[0;32m~/opt/anaconda3/envs/venv/lib/python3.8/site-packages/great_expectations/validator/validator.py:1093\u001b[0m, in \u001b[0;36mValidator.graph_validate\u001b[0;34m(self, configurations, runtime_configuration)\u001b[0m\n\u001b[1;32m   1086\u001b[0m             evrs \u001b[39m=\u001b[39m \u001b[39mself\u001b[39m\u001b[39m.\u001b[39m_catch_exceptions_in_failing_expectation_validations(\n\u001b[1;32m   1087\u001b[0m                 exception_traceback\u001b[39m=\u001b[39mexception_traceback,\n\u001b[1;32m   1088\u001b[0m                 exception\u001b[39m=\u001b[39merr,\n\u001b[1;32m   1089\u001b[0m                 failing_expectation_configurations\u001b[39m=\u001b[39m[configuration],\n\u001b[1;32m   1090\u001b[0m                 evrs\u001b[39m=\u001b[39mevrs,\n\u001b[1;32m   1091\u001b[0m             )\n\u001b[1;32m   1092\u001b[0m         \u001b[39melse\u001b[39;00m:\n\u001b[0;32m-> 1093\u001b[0m             \u001b[39mraise\u001b[39;00m err\n\u001b[1;32m   1095\u001b[0m \u001b[39mreturn\u001b[39;00m evrs\n",
      "File \u001b[0;32m~/opt/anaconda3/envs/venv/lib/python3.8/site-packages/great_expectations/validator/validator.py:1077\u001b[0m, in \u001b[0;36mValidator.graph_validate\u001b[0;34m(self, configurations, runtime_configuration)\u001b[0m\n\u001b[1;32m   1074\u001b[0m \u001b[39mtry\u001b[39;00m:\n\u001b[1;32m   1075\u001b[0m     runtime_configuration_default \u001b[39m=\u001b[39m copy\u001b[39m.\u001b[39mdeepcopy(runtime_configuration)\n\u001b[0;32m-> 1077\u001b[0m     result \u001b[39m=\u001b[39m configuration\u001b[39m.\u001b[39;49mmetrics_validate(\n\u001b[1;32m   1078\u001b[0m         metrics\u001b[39m=\u001b[39;49mresolved_metrics,\n\u001b[1;32m   1079\u001b[0m         execution_engine\u001b[39m=\u001b[39;49m\u001b[39mself\u001b[39;49m\u001b[39m.\u001b[39;49m_execution_engine,\n\u001b[1;32m   1080\u001b[0m         runtime_configuration\u001b[39m=\u001b[39;49mruntime_configuration_default,\n\u001b[1;32m   1081\u001b[0m     )\n\u001b[1;32m   1082\u001b[0m     evrs\u001b[39m.\u001b[39mappend(result)\n\u001b[1;32m   1083\u001b[0m \u001b[39mexcept\u001b[39;00m \u001b[39mException\u001b[39;00m \u001b[39mas\u001b[39;00m err:\n",
      "File \u001b[0;32m~/opt/anaconda3/envs/venv/lib/python3.8/site-packages/great_expectations/core/expectation_configuration.py:1494\u001b[0m, in \u001b[0;36mExpectationConfiguration.metrics_validate\u001b[0;34m(self, metrics, runtime_configuration, execution_engine, **kwargs)\u001b[0m\n\u001b[1;32m   1492\u001b[0m expectation_impl: Type[Expectation] \u001b[39m=\u001b[39m \u001b[39mself\u001b[39m\u001b[39m.\u001b[39m_get_expectation_impl()\n\u001b[1;32m   1493\u001b[0m \u001b[39m# noinspection PyCallingNonCallable\u001b[39;00m\n\u001b[0;32m-> 1494\u001b[0m \u001b[39mreturn\u001b[39;00m expectation_impl(\u001b[39mself\u001b[39;49m)\u001b[39m.\u001b[39;49mmetrics_validate(\n\u001b[1;32m   1495\u001b[0m     metrics\u001b[39m=\u001b[39;49mmetrics,\n\u001b[1;32m   1496\u001b[0m     runtime_configuration\u001b[39m=\u001b[39;49mruntime_configuration,\n\u001b[1;32m   1497\u001b[0m     execution_engine\u001b[39m=\u001b[39;49mexecution_engine,\n\u001b[1;32m   1498\u001b[0m )\n",
      "File \u001b[0;32m~/opt/anaconda3/envs/venv/lib/python3.8/site-packages/great_expectations/expectations/expectation.py:1065\u001b[0m, in \u001b[0;36mExpectation.metrics_validate\u001b[0;34m(self, metrics, configuration, runtime_configuration, execution_engine, **kwargs)\u001b[0m\n\u001b[1;32m   1057\u001b[0m metric_configuration: MetricConfiguration\n\u001b[1;32m   1058\u001b[0m provided_metrics: Dict[\u001b[39mstr\u001b[39m, MetricValue] \u001b[39m=\u001b[39m {\n\u001b[1;32m   1059\u001b[0m     metric_name: metrics[metric_configuration\u001b[39m.\u001b[39mid]\n\u001b[1;32m   1060\u001b[0m     \u001b[39mfor\u001b[39;00m metric_name, metric_configuration \u001b[39min\u001b[39;00m validation_dependencies\u001b[39m.\u001b[39mmetric_configurations\u001b[39m.\u001b[39mitems()\n\u001b[1;32m   1061\u001b[0m }\n\u001b[1;32m   1063\u001b[0m expectation_validation_result: Union[\n\u001b[1;32m   1064\u001b[0m     ExpectationValidationResult, \u001b[39mdict\u001b[39m\n\u001b[0;32m-> 1065\u001b[0m ] \u001b[39m=\u001b[39m \u001b[39mself\u001b[39;49m\u001b[39m.\u001b[39;49m_validate(\n\u001b[1;32m   1066\u001b[0m     configuration\u001b[39m=\u001b[39;49mconfiguration,\n\u001b[1;32m   1067\u001b[0m     metrics\u001b[39m=\u001b[39;49mprovided_metrics,\n\u001b[1;32m   1068\u001b[0m     runtime_configuration\u001b[39m=\u001b[39;49mruntime_configuration,\n\u001b[1;32m   1069\u001b[0m     execution_engine\u001b[39m=\u001b[39;49mexecution_engine,\n\u001b[1;32m   1070\u001b[0m )\n\u001b[1;32m   1072\u001b[0m result_format \u001b[39m=\u001b[39m parse_result_format(\n\u001b[1;32m   1073\u001b[0m     runtime_configuration\u001b[39m.\u001b[39mget(\u001b[39m\"\u001b[39m\u001b[39mresult_format\u001b[39m\u001b[39m\"\u001b[39m, {})\n\u001b[1;32m   1074\u001b[0m )\n\u001b[1;32m   1075\u001b[0m \u001b[39mif\u001b[39;00m result_format\u001b[39m.\u001b[39mget(\u001b[39m\"\u001b[39m\u001b[39mresult_format\u001b[39m\u001b[39m\"\u001b[39m) \u001b[39m==\u001b[39m \u001b[39m\"\u001b[39m\u001b[39mBOOLEAN_ONLY\u001b[39m\u001b[39m\"\u001b[39m:\n",
      "File \u001b[0;32m~/opt/anaconda3/envs/venv/lib/python3.8/site-packages/great_expectations/expectations/core/expect_column_values_to_be_of_type.py:496\u001b[0m, in \u001b[0;36mExpectColumnValuesToBeOfType._validate\u001b[0;34m(self, configuration, metrics, runtime_configuration, execution_engine)\u001b[0m\n\u001b[1;32m    494\u001b[0m expected_type \u001b[39m=\u001b[39m configuration\u001b[39m.\u001b[39mkwargs\u001b[39m.\u001b[39mget(\u001b[39m\"\u001b[39m\u001b[39mtype_\u001b[39m\u001b[39m\"\u001b[39m)\n\u001b[1;32m    495\u001b[0m actual_column_types_list \u001b[39m=\u001b[39m metrics\u001b[39m.\u001b[39mget(\u001b[39m\"\u001b[39m\u001b[39mtable.column_types\u001b[39m\u001b[39m\"\u001b[39m)\n\u001b[0;32m--> 496\u001b[0m actual_column_type \u001b[39m=\u001b[39m [\n\u001b[1;32m    497\u001b[0m     type_dict[\u001b[39m\"\u001b[39;49m\u001b[39mtype\u001b[39;49m\u001b[39m\"\u001b[39;49m]\n\u001b[1;32m    498\u001b[0m     \u001b[39mfor\u001b[39;49;00m type_dict \u001b[39min\u001b[39;49;00m actual_column_types_list\n\u001b[1;32m    499\u001b[0m     \u001b[39mif\u001b[39;49;00m type_dict[\u001b[39m\"\u001b[39;49m\u001b[39mname\u001b[39;49m\u001b[39m\"\u001b[39;49m] \u001b[39m==\u001b[39;49m column_name\n\u001b[1;32m    500\u001b[0m ][\u001b[39m0\u001b[39;49m]\n\u001b[1;32m    502\u001b[0m \u001b[39mif\u001b[39;00m \u001b[39misinstance\u001b[39m(execution_engine, PandasExecutionEngine):\n\u001b[1;32m    503\u001b[0m     \u001b[39m# only PandasExecutionEngine supports map version of expectation and\u001b[39;00m\n\u001b[1;32m    504\u001b[0m     \u001b[39m# only when column type is object\u001b[39;00m\n\u001b[1;32m    505\u001b[0m     \u001b[39mif\u001b[39;00m actual_column_type\u001b[39m.\u001b[39mtype\u001b[39m.\u001b[39m\u001b[39m__name__\u001b[39m \u001b[39m==\u001b[39m \u001b[39m\"\u001b[39m\u001b[39mobject_\u001b[39m\u001b[39m\"\u001b[39m \u001b[39mand\u001b[39;00m expected_type \u001b[39mnot\u001b[39;00m \u001b[39min\u001b[39;00m [\n\u001b[1;32m    506\u001b[0m         \u001b[39m\"\u001b[39m\u001b[39mobject\u001b[39m\u001b[39m\"\u001b[39m,\n\u001b[1;32m    507\u001b[0m         \u001b[39m\"\u001b[39m\u001b[39mobject_\u001b[39m\u001b[39m\"\u001b[39m,\n\u001b[0;32m   (...)\u001b[0m\n\u001b[1;32m    510\u001b[0m     ]:\n\u001b[1;32m    511\u001b[0m         \u001b[39m# this calls ColumnMapMetric._validate\u001b[39;00m\n",
      "\u001b[0;31mIndexError\u001b[0m: list index out of range"
     ]
    }
   ],
   "source": [
    "validate_ge_monthly()"
   ]
  },
  {
   "cell_type": "markdown",
   "id": "3879f806",
   "metadata": {},
   "source": [
    "Create Checkpoint"
   ]
  },
  {
   "cell_type": "code",
   "execution_count": 19,
   "id": "e944853f",
   "metadata": {},
   "outputs": [],
   "source": [
    "checkpoint = context.add_or_update_checkpoint(\n",
    "    name=\"Freddie_Mac_Monthly_v1\",\n",
    "    validator=validator\n",
    ")"
   ]
  },
  {
   "cell_type": "code",
   "execution_count": 20,
   "id": "687fa030",
   "metadata": {},
   "outputs": [
    {
     "data": {
      "application/vnd.jupyter.widget-view+json": {
       "model_id": "163934d83e1a467e87a67de31c5a7385",
       "version_major": 2,
       "version_minor": 0
      },
      "text/plain": [
       "Calculating Metrics:   0%|          | 0/259 [00:00<?, ?it/s]"
      ]
     },
     "metadata": {},
     "output_type": "display_data"
    }
   ],
   "source": [
    "checkpoint_result = checkpoint.run(run_name=\"Manual_run\")"
   ]
  },
  {
   "cell_type": "code",
   "execution_count": 21,
   "id": "c0208bf4",
   "metadata": {},
   "outputs": [
    {
     "data": {
      "text/plain": [
       "{'local_site': 'file:///Users/shruti/Desktop/Assignment_1/Part_2/gx/uncommitted/data_docs/local_site/index.html'}"
      ]
     },
     "execution_count": 21,
     "metadata": {},
     "output_type": "execute_result"
    }
   ],
   "source": [
    "context.build_data_docs()"
   ]
  },
  {
   "cell_type": "code",
   "execution_count": null,
   "id": "1dda6dc3",
   "metadata": {},
   "outputs": [],
   "source": []
  }
 ],
 "metadata": {
  "kernelspec": {
   "display_name": ".venv",
   "language": "python",
   "name": "python3"
  },
  "language_info": {
   "codemirror_mode": {
    "name": "ipython",
    "version": 3
   },
   "file_extension": ".py",
   "mimetype": "text/x-python",
   "name": "python",
   "nbconvert_exporter": "python",
   "pygments_lexer": "ipython3",
   "version": "3.8.18"
  }
 },
 "nbformat": 4,
 "nbformat_minor": 5
}
