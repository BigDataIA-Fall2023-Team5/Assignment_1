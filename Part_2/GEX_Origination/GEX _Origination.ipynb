{
 "cells": [
  {
   "cell_type": "code",
   "execution_count": 1,
   "id": "14634814",
   "metadata": {},
   "outputs": [],
   "source": [
    "import os\n",
    "import pandas as pd\n",
    "import great_expectations as gx\n",
    "from great_expectations.data_context import FileDataContext"
   ]
  },
  {
   "cell_type": "code",
   "execution_count": 2,
   "id": "c12a7301",
   "metadata": {},
   "outputs": [],
   "source": [
    "import streamlit as st\n",
    "import numpy as np\n",
    "from io import StringIO"
   ]
  },
  {
   "cell_type": "code",
   "execution_count": 3,
   "id": "9f84e117",
   "metadata": {},
   "outputs": [],
   "source": [
    "path_to_repo_dir=\"/Users/shruti/Desktop/Assignment_1/Part_2/GEX_Origination\" #local path to csv\n",
    "path_to_data_dir=f\"{path_to_repo_dir}/gx/data\" \n",
    "expectation_suite_name=\"GE_Suite\" "
   ]
  },
  {
   "cell_type": "code",
   "execution_count": 4,
   "id": "5775882d",
   "metadata": {},
   "outputs": [],
   "source": [
    "context = FileDataContext.create(project_root_dir=path_to_repo_dir)"
   ]
  },
  {
   "cell_type": "code",
   "execution_count": 5,
   "id": "3edfabc3",
   "metadata": {},
   "outputs": [],
   "source": [
    "os.mkdir(path_to_data_dir)\n",
    "\n",
    "df = pd.read_csv('/Users/shruti/Desktop/Assignment_1/Part_2/datasets/sample_orig_2021.txt', delimiter=\"|\", header = None)\n",
    "\n"
   ]
  },
  {
   "cell_type": "code",
   "execution_count": 6,
   "id": "de48b47d",
   "metadata": {},
   "outputs": [],
   "source": [
    "df.columns=['Credit_Score', 'First_Payment_Date', 'First_Time_Homebuyer_Flag','Maturity_Date','MSA', 'MI','Number_of_Units','Occupancy_Status','CLTV','DTI','UPB','LTV','Original_Interest_Rate','Channel','PPM','Amortization','Property_State','Property_Type','Postal_Code','Loan_Sequence_Number','Loan_Purpose','Original_Loan_Term','Number_of_Borrowers','Seller_Name','Servicer_Name','Super_Conforming_Flag','HARP','Program_Indicator','HARP_Indicator','Property_Valuation_Method','nterest_Only','Mortgage_Insurance_Cancellation_Indicator']\n",
    "\n",
    "# Save the DataFrame as a CSV file\n",
    "df.to_csv(f\"{path_to_repo_dir}/gx/data/historical_data_2022.csv\", index=False)"
   ]
  },
  {
   "cell_type": "code",
   "execution_count": 7,
   "id": "caabc39e",
   "metadata": {},
   "outputs": [
    {
     "data": {
      "text/html": [
       "<div>\n",
       "<style scoped>\n",
       "    .dataframe tbody tr th:only-of-type {\n",
       "        vertical-align: middle;\n",
       "    }\n",
       "\n",
       "    .dataframe tbody tr th {\n",
       "        vertical-align: top;\n",
       "    }\n",
       "\n",
       "    .dataframe thead th {\n",
       "        text-align: right;\n",
       "    }\n",
       "</style>\n",
       "<table border=\"1\" class=\"dataframe\">\n",
       "  <thead>\n",
       "    <tr style=\"text-align: right;\">\n",
       "      <th></th>\n",
       "      <th>Credit_Score</th>\n",
       "      <th>First_Payment_Date</th>\n",
       "      <th>First_Time_Homebuyer_Flag</th>\n",
       "      <th>Maturity_Date</th>\n",
       "      <th>MSA</th>\n",
       "      <th>MI</th>\n",
       "      <th>Number_of_Units</th>\n",
       "      <th>Occupancy_Status</th>\n",
       "      <th>CLTV</th>\n",
       "      <th>DTI</th>\n",
       "      <th>...</th>\n",
       "      <th>Number_of_Borrowers</th>\n",
       "      <th>Seller_Name</th>\n",
       "      <th>Servicer_Name</th>\n",
       "      <th>Super_Conforming_Flag</th>\n",
       "      <th>HARP</th>\n",
       "      <th>Program_Indicator</th>\n",
       "      <th>HARP_Indicator</th>\n",
       "      <th>Property_Valuation_Method</th>\n",
       "      <th>nterest_Only</th>\n",
       "      <th>Mortgage_Insurance_Cancellation_Indicator</th>\n",
       "    </tr>\n",
       "  </thead>\n",
       "  <tbody>\n",
       "    <tr>\n",
       "      <th>0</th>\n",
       "      <td>776</td>\n",
       "      <td>202103</td>\n",
       "      <td>N</td>\n",
       "      <td>205102</td>\n",
       "      <td>NaN</td>\n",
       "      <td>0</td>\n",
       "      <td>1</td>\n",
       "      <td>P</td>\n",
       "      <td>52</td>\n",
       "      <td>12</td>\n",
       "      <td>...</td>\n",
       "      <td>1</td>\n",
       "      <td>Other sellers</td>\n",
       "      <td>Other servicers</td>\n",
       "      <td>NaN</td>\n",
       "      <td>NaN</td>\n",
       "      <td>9</td>\n",
       "      <td>NaN</td>\n",
       "      <td>3</td>\n",
       "      <td>N</td>\n",
       "      <td>7</td>\n",
       "    </tr>\n",
       "    <tr>\n",
       "      <th>1</th>\n",
       "      <td>746</td>\n",
       "      <td>202103</td>\n",
       "      <td>N</td>\n",
       "      <td>205102</td>\n",
       "      <td>NaN</td>\n",
       "      <td>30</td>\n",
       "      <td>1</td>\n",
       "      <td>P</td>\n",
       "      <td>95</td>\n",
       "      <td>33</td>\n",
       "      <td>...</td>\n",
       "      <td>1</td>\n",
       "      <td>Other sellers</td>\n",
       "      <td>Other servicers</td>\n",
       "      <td>NaN</td>\n",
       "      <td>NaN</td>\n",
       "      <td>9</td>\n",
       "      <td>NaN</td>\n",
       "      <td>2</td>\n",
       "      <td>N</td>\n",
       "      <td>N</td>\n",
       "    </tr>\n",
       "    <tr>\n",
       "      <th>2</th>\n",
       "      <td>710</td>\n",
       "      <td>202103</td>\n",
       "      <td>N</td>\n",
       "      <td>204102</td>\n",
       "      <td>NaN</td>\n",
       "      <td>0</td>\n",
       "      <td>1</td>\n",
       "      <td>P</td>\n",
       "      <td>65</td>\n",
       "      <td>50</td>\n",
       "      <td>...</td>\n",
       "      <td>1</td>\n",
       "      <td>Other sellers</td>\n",
       "      <td>Other servicers</td>\n",
       "      <td>NaN</td>\n",
       "      <td>NaN</td>\n",
       "      <td>9</td>\n",
       "      <td>NaN</td>\n",
       "      <td>2</td>\n",
       "      <td>N</td>\n",
       "      <td>7</td>\n",
       "    </tr>\n",
       "    <tr>\n",
       "      <th>3</th>\n",
       "      <td>722</td>\n",
       "      <td>202103</td>\n",
       "      <td>N</td>\n",
       "      <td>205102</td>\n",
       "      <td>16984.0</td>\n",
       "      <td>25</td>\n",
       "      <td>1</td>\n",
       "      <td>P</td>\n",
       "      <td>89</td>\n",
       "      <td>40</td>\n",
       "      <td>...</td>\n",
       "      <td>2</td>\n",
       "      <td>Other sellers</td>\n",
       "      <td>Other servicers</td>\n",
       "      <td>NaN</td>\n",
       "      <td>NaN</td>\n",
       "      <td>9</td>\n",
       "      <td>NaN</td>\n",
       "      <td>1</td>\n",
       "      <td>N</td>\n",
       "      <td>N</td>\n",
       "    </tr>\n",
       "    <tr>\n",
       "      <th>4</th>\n",
       "      <td>761</td>\n",
       "      <td>202103</td>\n",
       "      <td>N</td>\n",
       "      <td>205102</td>\n",
       "      <td>29020.0</td>\n",
       "      <td>0</td>\n",
       "      <td>1</td>\n",
       "      <td>P</td>\n",
       "      <td>56</td>\n",
       "      <td>50</td>\n",
       "      <td>...</td>\n",
       "      <td>1</td>\n",
       "      <td>Other sellers</td>\n",
       "      <td>Other servicers</td>\n",
       "      <td>NaN</td>\n",
       "      <td>NaN</td>\n",
       "      <td>9</td>\n",
       "      <td>NaN</td>\n",
       "      <td>2</td>\n",
       "      <td>N</td>\n",
       "      <td>7</td>\n",
       "    </tr>\n",
       "  </tbody>\n",
       "</table>\n",
       "<p>5 rows × 32 columns</p>\n",
       "</div>"
      ],
      "text/plain": [
       "   Credit_Score  First_Payment_Date First_Time_Homebuyer_Flag  Maturity_Date  \\\n",
       "0           776              202103                         N         205102   \n",
       "1           746              202103                         N         205102   \n",
       "2           710              202103                         N         204102   \n",
       "3           722              202103                         N         205102   \n",
       "4           761              202103                         N         205102   \n",
       "\n",
       "       MSA  MI  Number_of_Units Occupancy_Status  CLTV  DTI  ...  \\\n",
       "0      NaN   0                1                P    52   12  ...   \n",
       "1      NaN  30                1                P    95   33  ...   \n",
       "2      NaN   0                1                P    65   50  ...   \n",
       "3  16984.0  25                1                P    89   40  ...   \n",
       "4  29020.0   0                1                P    56   50  ...   \n",
       "\n",
       "   Number_of_Borrowers    Seller_Name    Servicer_Name Super_Conforming_Flag  \\\n",
       "0                    1  Other sellers  Other servicers                   NaN   \n",
       "1                    1  Other sellers  Other servicers                   NaN   \n",
       "2                    1  Other sellers  Other servicers                   NaN   \n",
       "3                    2  Other sellers  Other servicers                   NaN   \n",
       "4                    1  Other sellers  Other servicers                   NaN   \n",
       "\n",
       "  HARP Program_Indicator HARP_Indicator Property_Valuation_Method  \\\n",
       "0  NaN                 9            NaN                         3   \n",
       "1  NaN                 9            NaN                         2   \n",
       "2  NaN                 9            NaN                         2   \n",
       "3  NaN                 9            NaN                         1   \n",
       "4  NaN                 9            NaN                         2   \n",
       "\n",
       "   nterest_Only Mortgage_Insurance_Cancellation_Indicator  \n",
       "0             N                                         7  \n",
       "1             N                                         N  \n",
       "2             N                                         7  \n",
       "3             N                                         N  \n",
       "4             N                                         7  \n",
       "\n",
       "[5 rows x 32 columns]"
      ]
     },
     "execution_count": 7,
     "metadata": {},
     "output_type": "execute_result"
    }
   ],
   "source": [
    "df.head()"
   ]
  },
  {
   "cell_type": "code",
   "execution_count": 8,
   "id": "6889a27e",
   "metadata": {},
   "outputs": [],
   "source": [
    "# Give your Datasource a name\n",
    "datasource_name = \"Local_FileSystem_Source\"\n",
    "datasource = context.sources.add_pandas_filesystem(name=datasource_name, base_directory=path_to_data_dir)\n",
    "\n",
    "# Give your first Asset a name\n",
    "asset_name = \"Freddie_Mac\"\n",
    "batching_regex = r\"historical_data_\\d{4}.csv\" #change this\n",
    "\n",
    "asset = datasource.add_csv_asset(name=asset_name,batching_regex=batching_regex)\n",
    "\n",
    "# Build batch request\n",
    "batch_request = asset.build_batch_request()"
   ]
  },
  {
   "cell_type": "markdown",
   "id": "b9a3404e",
   "metadata": {},
   "source": [
    "Create expectations suite"
   ]
  },
  {
   "cell_type": "code",
   "execution_count": 9,
   "id": "2c89495e",
   "metadata": {},
   "outputs": [],
   "source": [
    "data_asset = context.get_datasource(datasource_name).get_asset(asset_name)\n",
    "batch_request = data_asset.build_batch_request()"
   ]
  },
  {
   "cell_type": "code",
   "execution_count": 10,
   "metadata": {},
   "outputs": [
    {
     "data": {
      "text/plain": [
       "[]"
      ]
     },
     "execution_count": 10,
     "metadata": {},
     "output_type": "execute_result"
    }
   ],
   "source": [
    "context.list_expectation_suite_names()"
   ]
  },
  {
   "cell_type": "code",
   "execution_count": 11,
   "id": "b711dcce",
   "metadata": {},
   "outputs": [
    {
     "data": {
      "text/plain": [
       "{\n",
       "  \"expectation_suite_name\": \"GE_Suite\",\n",
       "  \"ge_cloud_id\": null,\n",
       "  \"expectations\": [],\n",
       "  \"data_asset_type\": null,\n",
       "  \"meta\": {\n",
       "    \"great_expectations_version\": \"0.17.19\"\n",
       "  }\n",
       "}"
      ]
     },
     "execution_count": 11,
     "metadata": {},
     "output_type": "execute_result"
    }
   ],
   "source": [
    "context. add_or_update_expectation_suite(expectation_suite_name)"
   ]
  },
  {
   "cell_type": "code",
   "execution_count": 12,
   "id": "82c9d439",
   "metadata": {},
   "outputs": [
    {
     "data": {
      "application/vnd.jupyter.widget-view+json": {
       "model_id": "270c8192057e4cf5b68f8c76ff888bb6",
       "version_major": 2,
       "version_minor": 0
      },
      "text/plain": [
       "Calculating Metrics:   0%|          | 0/1 [00:00<?, ?it/s]"
      ]
     },
     "metadata": {},
     "output_type": "display_data"
    },
    {
     "data": {
      "text/html": [
       "<div>\n",
       "<style scoped>\n",
       "    .dataframe tbody tr th:only-of-type {\n",
       "        vertical-align: middle;\n",
       "    }\n",
       "\n",
       "    .dataframe tbody tr th {\n",
       "        vertical-align: top;\n",
       "    }\n",
       "\n",
       "    .dataframe thead th {\n",
       "        text-align: right;\n",
       "    }\n",
       "</style>\n",
       "<table border=\"1\" class=\"dataframe\">\n",
       "  <thead>\n",
       "    <tr style=\"text-align: right;\">\n",
       "      <th></th>\n",
       "      <th>Credit_Score</th>\n",
       "      <th>First_Payment_Date</th>\n",
       "      <th>First_Time_Homebuyer_Flag</th>\n",
       "      <th>Maturity_Date</th>\n",
       "      <th>MSA</th>\n",
       "      <th>MI</th>\n",
       "      <th>Number_of_Units</th>\n",
       "      <th>Occupancy_Status</th>\n",
       "      <th>CLTV</th>\n",
       "      <th>DTI</th>\n",
       "      <th>...</th>\n",
       "      <th>Number_of_Borrowers</th>\n",
       "      <th>Seller_Name</th>\n",
       "      <th>Servicer_Name</th>\n",
       "      <th>Super_Conforming_Flag</th>\n",
       "      <th>HARP</th>\n",
       "      <th>Program_Indicator</th>\n",
       "      <th>HARP_Indicator</th>\n",
       "      <th>Property_Valuation_Method</th>\n",
       "      <th>nterest_Only</th>\n",
       "      <th>Mortgage_Insurance_Cancellation_Indicator</th>\n",
       "    </tr>\n",
       "  </thead>\n",
       "  <tbody>\n",
       "    <tr>\n",
       "      <th>0</th>\n",
       "      <td>776</td>\n",
       "      <td>202103</td>\n",
       "      <td>N</td>\n",
       "      <td>205102</td>\n",
       "      <td>NaN</td>\n",
       "      <td>0</td>\n",
       "      <td>1</td>\n",
       "      <td>P</td>\n",
       "      <td>52</td>\n",
       "      <td>12</td>\n",
       "      <td>...</td>\n",
       "      <td>1</td>\n",
       "      <td>Other sellers</td>\n",
       "      <td>Other servicers</td>\n",
       "      <td>NaN</td>\n",
       "      <td>NaN</td>\n",
       "      <td>9</td>\n",
       "      <td>NaN</td>\n",
       "      <td>3</td>\n",
       "      <td>N</td>\n",
       "      <td>7</td>\n",
       "    </tr>\n",
       "    <tr>\n",
       "      <th>1</th>\n",
       "      <td>746</td>\n",
       "      <td>202103</td>\n",
       "      <td>N</td>\n",
       "      <td>205102</td>\n",
       "      <td>NaN</td>\n",
       "      <td>30</td>\n",
       "      <td>1</td>\n",
       "      <td>P</td>\n",
       "      <td>95</td>\n",
       "      <td>33</td>\n",
       "      <td>...</td>\n",
       "      <td>1</td>\n",
       "      <td>Other sellers</td>\n",
       "      <td>Other servicers</td>\n",
       "      <td>NaN</td>\n",
       "      <td>NaN</td>\n",
       "      <td>9</td>\n",
       "      <td>NaN</td>\n",
       "      <td>2</td>\n",
       "      <td>N</td>\n",
       "      <td>N</td>\n",
       "    </tr>\n",
       "    <tr>\n",
       "      <th>2</th>\n",
       "      <td>710</td>\n",
       "      <td>202103</td>\n",
       "      <td>N</td>\n",
       "      <td>204102</td>\n",
       "      <td>NaN</td>\n",
       "      <td>0</td>\n",
       "      <td>1</td>\n",
       "      <td>P</td>\n",
       "      <td>65</td>\n",
       "      <td>50</td>\n",
       "      <td>...</td>\n",
       "      <td>1</td>\n",
       "      <td>Other sellers</td>\n",
       "      <td>Other servicers</td>\n",
       "      <td>NaN</td>\n",
       "      <td>NaN</td>\n",
       "      <td>9</td>\n",
       "      <td>NaN</td>\n",
       "      <td>2</td>\n",
       "      <td>N</td>\n",
       "      <td>7</td>\n",
       "    </tr>\n",
       "    <tr>\n",
       "      <th>3</th>\n",
       "      <td>722</td>\n",
       "      <td>202103</td>\n",
       "      <td>N</td>\n",
       "      <td>205102</td>\n",
       "      <td>16984.0</td>\n",
       "      <td>25</td>\n",
       "      <td>1</td>\n",
       "      <td>P</td>\n",
       "      <td>89</td>\n",
       "      <td>40</td>\n",
       "      <td>...</td>\n",
       "      <td>2</td>\n",
       "      <td>Other sellers</td>\n",
       "      <td>Other servicers</td>\n",
       "      <td>NaN</td>\n",
       "      <td>NaN</td>\n",
       "      <td>9</td>\n",
       "      <td>NaN</td>\n",
       "      <td>1</td>\n",
       "      <td>N</td>\n",
       "      <td>N</td>\n",
       "    </tr>\n",
       "    <tr>\n",
       "      <th>4</th>\n",
       "      <td>761</td>\n",
       "      <td>202103</td>\n",
       "      <td>N</td>\n",
       "      <td>205102</td>\n",
       "      <td>29020.0</td>\n",
       "      <td>0</td>\n",
       "      <td>1</td>\n",
       "      <td>P</td>\n",
       "      <td>56</td>\n",
       "      <td>50</td>\n",
       "      <td>...</td>\n",
       "      <td>1</td>\n",
       "      <td>Other sellers</td>\n",
       "      <td>Other servicers</td>\n",
       "      <td>NaN</td>\n",
       "      <td>NaN</td>\n",
       "      <td>9</td>\n",
       "      <td>NaN</td>\n",
       "      <td>2</td>\n",
       "      <td>N</td>\n",
       "      <td>7</td>\n",
       "    </tr>\n",
       "  </tbody>\n",
       "</table>\n",
       "<p>5 rows × 32 columns</p>\n",
       "</div>"
      ],
      "text/plain": [
       "   Credit_Score  First_Payment_Date First_Time_Homebuyer_Flag  Maturity_Date  \\\n",
       "0           776              202103                         N         205102   \n",
       "1           746              202103                         N         205102   \n",
       "2           710              202103                         N         204102   \n",
       "3           722              202103                         N         205102   \n",
       "4           761              202103                         N         205102   \n",
       "\n",
       "       MSA  MI  Number_of_Units Occupancy_Status  CLTV  DTI  ...  \\\n",
       "0      NaN   0                1                P    52   12  ...   \n",
       "1      NaN  30                1                P    95   33  ...   \n",
       "2      NaN   0                1                P    65   50  ...   \n",
       "3  16984.0  25                1                P    89   40  ...   \n",
       "4  29020.0   0                1                P    56   50  ...   \n",
       "\n",
       "   Number_of_Borrowers    Seller_Name    Servicer_Name Super_Conforming_Flag  \\\n",
       "0                    1  Other sellers  Other servicers                   NaN   \n",
       "1                    1  Other sellers  Other servicers                   NaN   \n",
       "2                    1  Other sellers  Other servicers                   NaN   \n",
       "3                    2  Other sellers  Other servicers                   NaN   \n",
       "4                    1  Other sellers  Other servicers                   NaN   \n",
       "\n",
       "  HARP Program_Indicator HARP_Indicator Property_Valuation_Method  \\\n",
       "0  NaN                 9            NaN                         3   \n",
       "1  NaN                 9            NaN                         2   \n",
       "2  NaN                 9            NaN                         2   \n",
       "3  NaN                 9            NaN                         1   \n",
       "4  NaN                 9            NaN                         2   \n",
       "\n",
       "   nterest_Only Mortgage_Insurance_Cancellation_Indicator  \n",
       "0             N                                         7  \n",
       "1             N                                         N  \n",
       "2             N                                         7  \n",
       "3             N                                         N  \n",
       "4             N                                         7  \n",
       "\n",
       "[5 rows x 32 columns]"
      ]
     },
     "execution_count": 12,
     "metadata": {},
     "output_type": "execute_result"
    }
   ],
   "source": [
    "validator = context.get_validator(batch_request=batch_request, expectation_suite_name=expectation_suite_name)\n",
    "validator.head()"
   ]
  },
  {
   "cell_type": "markdown",
   "id": "9743d367",
   "metadata": {},
   "source": [
    "Validators for schema"
   ]
  },
  {
   "cell_type": "code",
   "execution_count": 13,
   "id": "99bf4cb8",
   "metadata": {},
   "outputs": [],
   "source": [
    "def validate_ge_origination():\n",
    "\n",
    "    #schema check\n",
    "\n",
    "    validator.expect_column_values_to_be_of_type(\"First_Payment_Date\", \"datetime\")\n",
    "    validator.expect_column_values_to_be_of_type(\"First_Time_Homebuyer_Flag\", \"str\")\n",
    "    validator.expect_column_values_to_be_of_type(\"Maturity_Date\", \"datetime\")\n",
    "    validator.expect_column_values_to_be_of_type(\"MSA\", \"int\")\n",
    "    validator.expect_column_values_to_be_of_type(\"MI\", \"int\")\n",
    "    validator.expect_column_values_to_be_of_type(\"Number_of_Units\", \"int\")\n",
    "    validator.expect_column_values_to_be_of_type(\"Occupancy_Status\", \"str\")\n",
    "    validator.expect_column_values_to_be_of_type(\"CLTV\", \"float\")\n",
    "    validator.expect_column_values_to_be_of_type(\"DTI\", \"float\")\n",
    "    validator.expect_column_values_to_be_of_type(\"UPB\", \"int\")\n",
    "    validator.expect_column_values_to_be_of_type(\"LTV\", \"float\")\n",
    "    validator.expect_column_values_to_be_of_type(\"Original_Interest_Rate\", \"float\")\n",
    "\n",
    "    validator.expect_column_values_to_be_of_type(\"Channel\", \"str\")\n",
    "\n",
    "    validator.expect_column_values_to_be_of_type(\"PPM\", \"str\")\n",
    "\n",
    "    validator.expect_column_values_to_be_of_type(\"Amortization\", \"str\")\n",
    "\n",
    "    validator.expect_column_values_to_be_of_type(\"Property_State\", \"str\")\n",
    "\n",
    "    validator.expect_column_values_to_be_of_type(\"Property_Type\", \"str\")\n",
    "\n",
    "    validator.expect_column_values_to_be_of_type(\"Postal_Code\", \"int\")\n",
    "\n",
    "    validator.expect_column_values_to_be_of_type(\"Loan_Sequence_Number\", \"str\")\n",
    "\n",
    "    validator.expect_column_values_to_be_of_type(\"Loan_Purpose\", \"str\")\n",
    "\n",
    "    validator.expect_column_values_to_be_of_type(\"Original_Loan_Term\", \"int\")\n",
    "\n",
    "    validator.expect_column_values_to_be_of_type(\"Number_of_Borrowers\", \"int\")\n",
    "\n",
    "    validator.expect_column_values_to_be_of_type(\"Seller_Name\", \"str\")\n",
    "\n",
    "    validator.expect_column_values_to_be_of_type(\"Servicer_Name\", \"str\")\n",
    "\n",
    "    validator.expect_column_values_to_be_of_type(\"Super_Conforming_Flag\", \"str\")\n",
    "\n",
    "    validator.expect_column_values_to_be_of_type(\"HARP\", \"str\")\n",
    "\n",
    "    validator.expect_column_values_to_be_of_type(\"Program_Indicator\", \"str\")\n",
    "\n",
    "    validator.expect_column_values_to_be_of_type(\"HARP_Indicator\", \"str\")\n",
    "\n",
    "    validator.expect_column_values_to_be_of_type(\"Property_Valuation_Method\", \"int\")\n",
    "\n",
    "    validator.expect_column_values_to_be_of_type(\"nterest_Only\", \"str\")\n",
    "\n",
    "    validator.expect_column_values_to_be_of_type(\"Mortgage_Insurance_Cancellation_Indicator\", \"str\")\n",
    "\n",
    " \n",
    "\n",
    " \n",
    "\n",
    "    #Validation\n",
    "\n",
    "    validator.expect_column_values_to_be_in_set (\"First_Time_Homebuyer_Flag\", [\"Y\",\"N\"])\n",
    "\n",
    "    validator.expect_column_values_to_be_in_set(\"Occupancy_Status\", [\"P\", \"I\", \"S\"])\n",
    "\n",
    "    validator.expect_column_values_to_be_in_set(\"Channel\", [\"B\", \"R\", \"C\"])\n",
    "\n",
    "    validator.expect_column_values_to_match_regex(\"Loan_Sequence_Number\", regex=r'^P\\d{2}Qn[a-zA-Z0-9]{7}$')\n",
    "\n",
    "    validator.expect_column_values_to_match_regex(\"HARP_Indicator\", regex=r'^P\\d{2}Qn[a-zA-Z0-9]{7}$')\n",
    "\n",
    "    validator.expect_column_value_lengths_to_be_between(\"Credit_Score\", min_value=1, max_value=4)\n",
    "\n",
    "    validator.expect_column_value_lengths_to_be_between(\"UPB\", min_value=1, max_value=12)\n",
    "\n",
    "    validator.expect_column_values_to_be_in_set(\"Amortization\", [\"FRM\", \"ARM\"])\n",
    "\n",
    "    validator.expect_column_values_to_match_regex(\"Postal_Code\", r\"^\\d{5}$\")\n",
    "\n",
    "    validator.expect_column_values_to_match_regex(\"Original_Interest_Rate\", regex=r'^\\d{3}\\.\\d{3}$')\n",
    "\n",
    "    expected_states = [\"AL\", \"AK\", \"AZ\", \"AR\", \"CA\", \"CO\", \"CT\", \"DE\", \"FL\", \"GA\", \"HI\", \"ID\", \"IL\", \"IN\", \"IA\", \"KS\", \"KY\", \"LA\", \"ME\", \"MD\", \"MA\", \"MI\", \"MN\", \"MS\", \"MO\", \"MT\", \"NE\", \"NV\", \"NH\", \"NJ\", \"NM\", \"NY\", \"NC\", \"ND\", \"OH\", \"OK\", \"OR\", \"PA\", \"RI\", \"SC\", \"SD\", \"TN\", \"TX\", \"UT\", \"VT\", \"VA\", \"WA\", \"WV\", \"WI\", \"WY\"]\n",
    "\n",
    "    validator.expect_column_values_to_be_in_set(\"Property_State\", value_set=expected_states)\n",
    "\n",
    "    \n",
    "\n",
    "    #Missing data\n",
    "\n",
    "    for column in df.columns:\n",
    "\n",
    "        validator.expect_column_values_to_not_be_null(column)\n",
    "\n",
    " \n",
    "\n",
    " \n",
    "\n",
    "    validator.save_expectation_suite()\n",
    "\n",
    " \n",
    "\n"
   ]
  },
  {
   "cell_type": "code",
   "execution_count": 14,
   "id": "1a15220f",
   "metadata": {},
   "outputs": [
    {
     "data": {
      "application/vnd.jupyter.widget-view+json": {
       "model_id": "c1f402fc297e43b3949ad1d691ebf614",
       "version_major": 2,
       "version_minor": 0
      },
      "text/plain": [
       "Calculating Metrics:   0%|          | 0/1 [00:00<?, ?it/s]"
      ]
     },
     "metadata": {},
     "output_type": "display_data"
    },
    {
     "data": {
      "application/vnd.jupyter.widget-view+json": {
       "model_id": "4ddd0b1f71074126b8e819915fc5c933",
       "version_major": 2,
       "version_minor": 0
      },
      "text/plain": [
       "Calculating Metrics:   0%|          | 0/8 [00:00<?, ?it/s]"
      ]
     },
     "metadata": {},
     "output_type": "display_data"
    },
    {
     "data": {
      "application/vnd.jupyter.widget-view+json": {
       "model_id": "ddb9277783614ccaa160ee2eae4e207b",
       "version_major": 2,
       "version_minor": 0
      },
      "text/plain": [
       "Calculating Metrics:   0%|          | 0/1 [00:00<?, ?it/s]"
      ]
     },
     "metadata": {},
     "output_type": "display_data"
    },
    {
     "data": {
      "application/vnd.jupyter.widget-view+json": {
       "model_id": "06bfe91bbc54457d8623267c25cab899",
       "version_major": 2,
       "version_minor": 0
      },
      "text/plain": [
       "Calculating Metrics:   0%|          | 0/1 [00:00<?, ?it/s]"
      ]
     },
     "metadata": {},
     "output_type": "display_data"
    },
    {
     "data": {
      "application/vnd.jupyter.widget-view+json": {
       "model_id": "14fbaac939014215bc9e06bf37e24628",
       "version_major": 2,
       "version_minor": 0
      },
      "text/plain": [
       "Calculating Metrics:   0%|          | 0/1 [00:00<?, ?it/s]"
      ]
     },
     "metadata": {},
     "output_type": "display_data"
    },
    {
     "data": {
      "application/vnd.jupyter.widget-view+json": {
       "model_id": "b50acd7d4fab41eda74f7ef0539d946a",
       "version_major": 2,
       "version_minor": 0
      },
      "text/plain": [
       "Calculating Metrics:   0%|          | 0/1 [00:00<?, ?it/s]"
      ]
     },
     "metadata": {},
     "output_type": "display_data"
    },
    {
     "data": {
      "application/vnd.jupyter.widget-view+json": {
       "model_id": "ae6ee88fe22b4ad18f26cb539e77d7de",
       "version_major": 2,
       "version_minor": 0
      },
      "text/plain": [
       "Calculating Metrics:   0%|          | 0/8 [00:00<?, ?it/s]"
      ]
     },
     "metadata": {},
     "output_type": "display_data"
    },
    {
     "data": {
      "application/vnd.jupyter.widget-view+json": {
       "model_id": "369b5b2251324990b45a5692bdb650ee",
       "version_major": 2,
       "version_minor": 0
      },
      "text/plain": [
       "Calculating Metrics:   0%|          | 0/1 [00:00<?, ?it/s]"
      ]
     },
     "metadata": {},
     "output_type": "display_data"
    },
    {
     "data": {
      "application/vnd.jupyter.widget-view+json": {
       "model_id": "cdee76207ff44aa0bf28821abe736721",
       "version_major": 2,
       "version_minor": 0
      },
      "text/plain": [
       "Calculating Metrics:   0%|          | 0/1 [00:00<?, ?it/s]"
      ]
     },
     "metadata": {},
     "output_type": "display_data"
    },
    {
     "data": {
      "application/vnd.jupyter.widget-view+json": {
       "model_id": "ae62ac037b3b41daa2ddf2ea3c971ef6",
       "version_major": 2,
       "version_minor": 0
      },
      "text/plain": [
       "Calculating Metrics:   0%|          | 0/1 [00:00<?, ?it/s]"
      ]
     },
     "metadata": {},
     "output_type": "display_data"
    },
    {
     "data": {
      "application/vnd.jupyter.widget-view+json": {
       "model_id": "f24120eed51945e68b45aa2af9b058d1",
       "version_major": 2,
       "version_minor": 0
      },
      "text/plain": [
       "Calculating Metrics:   0%|          | 0/1 [00:00<?, ?it/s]"
      ]
     },
     "metadata": {},
     "output_type": "display_data"
    },
    {
     "data": {
      "application/vnd.jupyter.widget-view+json": {
       "model_id": "6d6dd9b821bb4e20a5209339baef12dc",
       "version_major": 2,
       "version_minor": 0
      },
      "text/plain": [
       "Calculating Metrics:   0%|          | 0/1 [00:00<?, ?it/s]"
      ]
     },
     "metadata": {},
     "output_type": "display_data"
    },
    {
     "data": {
      "application/vnd.jupyter.widget-view+json": {
       "model_id": "7416e097056a434ea3bf85944ebd124a",
       "version_major": 2,
       "version_minor": 0
      },
      "text/plain": [
       "Calculating Metrics:   0%|          | 0/8 [00:00<?, ?it/s]"
      ]
     },
     "metadata": {},
     "output_type": "display_data"
    },
    {
     "data": {
      "application/vnd.jupyter.widget-view+json": {
       "model_id": "8999b6747c70486883df6a14e16cf145",
       "version_major": 2,
       "version_minor": 0
      },
      "text/plain": [
       "Calculating Metrics:   0%|          | 0/8 [00:00<?, ?it/s]"
      ]
     },
     "metadata": {},
     "output_type": "display_data"
    },
    {
     "data": {
      "application/vnd.jupyter.widget-view+json": {
       "model_id": "61cbbc00e5104d79ae2660eba62f044b",
       "version_major": 2,
       "version_minor": 0
      },
      "text/plain": [
       "Calculating Metrics:   0%|          | 0/8 [00:00<?, ?it/s]"
      ]
     },
     "metadata": {},
     "output_type": "display_data"
    },
    {
     "data": {
      "application/vnd.jupyter.widget-view+json": {
       "model_id": "d5015b0584754a578e9186fe8cc4db98",
       "version_major": 2,
       "version_minor": 0
      },
      "text/plain": [
       "Calculating Metrics:   0%|          | 0/8 [00:00<?, ?it/s]"
      ]
     },
     "metadata": {},
     "output_type": "display_data"
    },
    {
     "data": {
      "application/vnd.jupyter.widget-view+json": {
       "model_id": "17a2932919654076a78ddc690aa6d0f1",
       "version_major": 2,
       "version_minor": 0
      },
      "text/plain": [
       "Calculating Metrics:   0%|          | 0/8 [00:00<?, ?it/s]"
      ]
     },
     "metadata": {},
     "output_type": "display_data"
    },
    {
     "data": {
      "application/vnd.jupyter.widget-view+json": {
       "model_id": "7a1809f765ed456f8fd1cfa6ccdfabaa",
       "version_major": 2,
       "version_minor": 0
      },
      "text/plain": [
       "Calculating Metrics:   0%|          | 0/1 [00:00<?, ?it/s]"
      ]
     },
     "metadata": {},
     "output_type": "display_data"
    },
    {
     "data": {
      "application/vnd.jupyter.widget-view+json": {
       "model_id": "d54fa0cf40064204a3456af53c7126dc",
       "version_major": 2,
       "version_minor": 0
      },
      "text/plain": [
       "Calculating Metrics:   0%|          | 0/8 [00:00<?, ?it/s]"
      ]
     },
     "metadata": {},
     "output_type": "display_data"
    },
    {
     "data": {
      "application/vnd.jupyter.widget-view+json": {
       "model_id": "a572cdb7f11a44a68bef4b21a2dff876",
       "version_major": 2,
       "version_minor": 0
      },
      "text/plain": [
       "Calculating Metrics:   0%|          | 0/8 [00:00<?, ?it/s]"
      ]
     },
     "metadata": {},
     "output_type": "display_data"
    },
    {
     "data": {
      "application/vnd.jupyter.widget-view+json": {
       "model_id": "bccb5f68090043909db3b42deac5bf8d",
       "version_major": 2,
       "version_minor": 0
      },
      "text/plain": [
       "Calculating Metrics:   0%|          | 0/1 [00:00<?, ?it/s]"
      ]
     },
     "metadata": {},
     "output_type": "display_data"
    },
    {
     "data": {
      "application/vnd.jupyter.widget-view+json": {
       "model_id": "4d2a20cfc9a443d289013878faabf5c5",
       "version_major": 2,
       "version_minor": 0
      },
      "text/plain": [
       "Calculating Metrics:   0%|          | 0/1 [00:00<?, ?it/s]"
      ]
     },
     "metadata": {},
     "output_type": "display_data"
    },
    {
     "data": {
      "application/vnd.jupyter.widget-view+json": {
       "model_id": "4fb592445e60473c81baf780754e3e4d",
       "version_major": 2,
       "version_minor": 0
      },
      "text/plain": [
       "Calculating Metrics:   0%|          | 0/8 [00:00<?, ?it/s]"
      ]
     },
     "metadata": {},
     "output_type": "display_data"
    },
    {
     "data": {
      "application/vnd.jupyter.widget-view+json": {
       "model_id": "b05a1dea5fba4a2eae0a67ede75173a4",
       "version_major": 2,
       "version_minor": 0
      },
      "text/plain": [
       "Calculating Metrics:   0%|          | 0/8 [00:00<?, ?it/s]"
      ]
     },
     "metadata": {},
     "output_type": "display_data"
    },
    {
     "data": {
      "application/vnd.jupyter.widget-view+json": {
       "model_id": "42c5870a4d6b4bbea7d643a0ae179833",
       "version_major": 2,
       "version_minor": 0
      },
      "text/plain": [
       "Calculating Metrics:   0%|          | 0/8 [00:00<?, ?it/s]"
      ]
     },
     "metadata": {},
     "output_type": "display_data"
    },
    {
     "data": {
      "application/vnd.jupyter.widget-view+json": {
       "model_id": "6379502722b34dcea709046865e5a671",
       "version_major": 2,
       "version_minor": 0
      },
      "text/plain": [
       "Calculating Metrics:   0%|          | 0/1 [00:00<?, ?it/s]"
      ]
     },
     "metadata": {},
     "output_type": "display_data"
    },
    {
     "data": {
      "application/vnd.jupyter.widget-view+json": {
       "model_id": "61fbc28f4c6d4814b42c7b391847a7ec",
       "version_major": 2,
       "version_minor": 0
      },
      "text/plain": [
       "Calculating Metrics:   0%|          | 0/8 [00:00<?, ?it/s]"
      ]
     },
     "metadata": {},
     "output_type": "display_data"
    },
    {
     "data": {
      "application/vnd.jupyter.widget-view+json": {
       "model_id": "57b8c795b43349e4bae73a189c963705",
       "version_major": 2,
       "version_minor": 0
      },
      "text/plain": [
       "Calculating Metrics:   0%|          | 0/1 [00:00<?, ?it/s]"
      ]
     },
     "metadata": {},
     "output_type": "display_data"
    },
    {
     "data": {
      "application/vnd.jupyter.widget-view+json": {
       "model_id": "0c530856c0b04eb084c08c372ad68aea",
       "version_major": 2,
       "version_minor": 0
      },
      "text/plain": [
       "Calculating Metrics:   0%|          | 0/1 [00:00<?, ?it/s]"
      ]
     },
     "metadata": {},
     "output_type": "display_data"
    },
    {
     "data": {
      "application/vnd.jupyter.widget-view+json": {
       "model_id": "ee4a1c62bbed421eaa674d9075243086",
       "version_major": 2,
       "version_minor": 0
      },
      "text/plain": [
       "Calculating Metrics:   0%|          | 0/8 [00:00<?, ?it/s]"
      ]
     },
     "metadata": {},
     "output_type": "display_data"
    },
    {
     "data": {
      "application/vnd.jupyter.widget-view+json": {
       "model_id": "f418329aac2a498caec19aeee72f0018",
       "version_major": 2,
       "version_minor": 0
      },
      "text/plain": [
       "Calculating Metrics:   0%|          | 0/8 [00:00<?, ?it/s]"
      ]
     },
     "metadata": {},
     "output_type": "display_data"
    },
    {
     "data": {
      "application/vnd.jupyter.widget-view+json": {
       "model_id": "9f3fe5daa4f64599b4f5bea6c6159581",
       "version_major": 2,
       "version_minor": 0
      },
      "text/plain": [
       "Calculating Metrics:   0%|          | 0/8 [00:00<?, ?it/s]"
      ]
     },
     "metadata": {},
     "output_type": "display_data"
    },
    {
     "data": {
      "application/vnd.jupyter.widget-view+json": {
       "model_id": "f8be22c7c8c0433fa7223589e85f6498",
       "version_major": 2,
       "version_minor": 0
      },
      "text/plain": [
       "Calculating Metrics:   0%|          | 0/8 [00:00<?, ?it/s]"
      ]
     },
     "metadata": {},
     "output_type": "display_data"
    },
    {
     "data": {
      "application/vnd.jupyter.widget-view+json": {
       "model_id": "e52444b01a0d452bab58bea2ecf51980",
       "version_major": 2,
       "version_minor": 0
      },
      "text/plain": [
       "Calculating Metrics:   0%|          | 0/8 [00:00<?, ?it/s]"
      ]
     },
     "metadata": {},
     "output_type": "display_data"
    },
    {
     "data": {
      "application/vnd.jupyter.widget-view+json": {
       "model_id": "065307de1e6b449595f58f61fcc0b7d4",
       "version_major": 2,
       "version_minor": 0
      },
      "text/plain": [
       "Calculating Metrics:   0%|          | 0/8 [00:00<?, ?it/s]"
      ]
     },
     "metadata": {},
     "output_type": "display_data"
    },
    {
     "data": {
      "application/vnd.jupyter.widget-view+json": {
       "model_id": "934ea20e2c2c461c9ae3d54a04bb9d15",
       "version_major": 2,
       "version_minor": 0
      },
      "text/plain": [
       "Calculating Metrics:   0%|          | 0/8 [00:00<?, ?it/s]"
      ]
     },
     "metadata": {},
     "output_type": "display_data"
    },
    {
     "data": {
      "application/vnd.jupyter.widget-view+json": {
       "model_id": "69ada3a2717c491ab6290275ec24f51d",
       "version_major": 2,
       "version_minor": 0
      },
      "text/plain": [
       "Calculating Metrics:   0%|          | 0/9 [00:00<?, ?it/s]"
      ]
     },
     "metadata": {},
     "output_type": "display_data"
    },
    {
     "data": {
      "application/vnd.jupyter.widget-view+json": {
       "model_id": "2a436d47095e4f18a9bacf656626b109",
       "version_major": 2,
       "version_minor": 0
      },
      "text/plain": [
       "Calculating Metrics:   0%|          | 0/9 [00:00<?, ?it/s]"
      ]
     },
     "metadata": {},
     "output_type": "display_data"
    },
    {
     "data": {
      "application/vnd.jupyter.widget-view+json": {
       "model_id": "c4d1235971844383945a1de81c454ab1",
       "version_major": 2,
       "version_minor": 0
      },
      "text/plain": [
       "Calculating Metrics:   0%|          | 0/8 [00:00<?, ?it/s]"
      ]
     },
     "metadata": {},
     "output_type": "display_data"
    },
    {
     "data": {
      "application/vnd.jupyter.widget-view+json": {
       "model_id": "65f2063997744c9bab4ccfa22124361e",
       "version_major": 2,
       "version_minor": 0
      },
      "text/plain": [
       "Calculating Metrics:   0%|          | 0/8 [00:00<?, ?it/s]"
      ]
     },
     "metadata": {},
     "output_type": "display_data"
    },
    {
     "data": {
      "application/vnd.jupyter.widget-view+json": {
       "model_id": "bd194d373359427baf505d40c2741905",
       "version_major": 2,
       "version_minor": 0
      },
      "text/plain": [
       "Calculating Metrics:   0%|          | 0/8 [00:00<?, ?it/s]"
      ]
     },
     "metadata": {},
     "output_type": "display_data"
    },
    {
     "data": {
      "application/vnd.jupyter.widget-view+json": {
       "model_id": "a11cba33b77c451abc09c125a53d4fea",
       "version_major": 2,
       "version_minor": 0
      },
      "text/plain": [
       "Calculating Metrics:   0%|          | 0/8 [00:00<?, ?it/s]"
      ]
     },
     "metadata": {},
     "output_type": "display_data"
    },
    {
     "data": {
      "application/vnd.jupyter.widget-view+json": {
       "model_id": "94cd771b5e854aaeabbe114c01fe27bb",
       "version_major": 2,
       "version_minor": 0
      },
      "text/plain": [
       "Calculating Metrics:   0%|          | 0/6 [00:00<?, ?it/s]"
      ]
     },
     "metadata": {},
     "output_type": "display_data"
    },
    {
     "data": {
      "application/vnd.jupyter.widget-view+json": {
       "model_id": "bf5a1108e24e44bd8ac307b57a6bb18c",
       "version_major": 2,
       "version_minor": 0
      },
      "text/plain": [
       "Calculating Metrics:   0%|          | 0/6 [00:00<?, ?it/s]"
      ]
     },
     "metadata": {},
     "output_type": "display_data"
    },
    {
     "data": {
      "application/vnd.jupyter.widget-view+json": {
       "model_id": "ce896e3e3ae04e3fa401e68f5a089bb2",
       "version_major": 2,
       "version_minor": 0
      },
      "text/plain": [
       "Calculating Metrics:   0%|          | 0/6 [00:00<?, ?it/s]"
      ]
     },
     "metadata": {},
     "output_type": "display_data"
    },
    {
     "data": {
      "application/vnd.jupyter.widget-view+json": {
       "model_id": "b67462dfb6f941e291adbc4bc66da421",
       "version_major": 2,
       "version_minor": 0
      },
      "text/plain": [
       "Calculating Metrics:   0%|          | 0/6 [00:00<?, ?it/s]"
      ]
     },
     "metadata": {},
     "output_type": "display_data"
    },
    {
     "data": {
      "application/vnd.jupyter.widget-view+json": {
       "model_id": "23a7b3f8df2c4f49843687a6efbbe3b7",
       "version_major": 2,
       "version_minor": 0
      },
      "text/plain": [
       "Calculating Metrics:   0%|          | 0/6 [00:00<?, ?it/s]"
      ]
     },
     "metadata": {},
     "output_type": "display_data"
    },
    {
     "data": {
      "application/vnd.jupyter.widget-view+json": {
       "model_id": "9f2f7a26d2f8442eb2d2dbc6c002a428",
       "version_major": 2,
       "version_minor": 0
      },
      "text/plain": [
       "Calculating Metrics:   0%|          | 0/6 [00:00<?, ?it/s]"
      ]
     },
     "metadata": {},
     "output_type": "display_data"
    },
    {
     "data": {
      "application/vnd.jupyter.widget-view+json": {
       "model_id": "8b23863713be4caabc514e6a886ec98b",
       "version_major": 2,
       "version_minor": 0
      },
      "text/plain": [
       "Calculating Metrics:   0%|          | 0/6 [00:00<?, ?it/s]"
      ]
     },
     "metadata": {},
     "output_type": "display_data"
    },
    {
     "data": {
      "application/vnd.jupyter.widget-view+json": {
       "model_id": "3f7c32574940422b8c1325b687abb091",
       "version_major": 2,
       "version_minor": 0
      },
      "text/plain": [
       "Calculating Metrics:   0%|          | 0/6 [00:00<?, ?it/s]"
      ]
     },
     "metadata": {},
     "output_type": "display_data"
    },
    {
     "data": {
      "application/vnd.jupyter.widget-view+json": {
       "model_id": "1ee2f52f3fb747c5afb9144b9b7e2896",
       "version_major": 2,
       "version_minor": 0
      },
      "text/plain": [
       "Calculating Metrics:   0%|          | 0/6 [00:00<?, ?it/s]"
      ]
     },
     "metadata": {},
     "output_type": "display_data"
    },
    {
     "data": {
      "application/vnd.jupyter.widget-view+json": {
       "model_id": "225c100b59f64dc7888822d0db29a188",
       "version_major": 2,
       "version_minor": 0
      },
      "text/plain": [
       "Calculating Metrics:   0%|          | 0/6 [00:00<?, ?it/s]"
      ]
     },
     "metadata": {},
     "output_type": "display_data"
    },
    {
     "data": {
      "application/vnd.jupyter.widget-view+json": {
       "model_id": "f588ecacd9714e1fb65461768e493dc9",
       "version_major": 2,
       "version_minor": 0
      },
      "text/plain": [
       "Calculating Metrics:   0%|          | 0/6 [00:00<?, ?it/s]"
      ]
     },
     "metadata": {},
     "output_type": "display_data"
    },
    {
     "data": {
      "application/vnd.jupyter.widget-view+json": {
       "model_id": "e53ecb6ae31d4f078b182f9928cf275d",
       "version_major": 2,
       "version_minor": 0
      },
      "text/plain": [
       "Calculating Metrics:   0%|          | 0/6 [00:00<?, ?it/s]"
      ]
     },
     "metadata": {},
     "output_type": "display_data"
    },
    {
     "data": {
      "application/vnd.jupyter.widget-view+json": {
       "model_id": "2328d7f3276c44c08b28e9591d09d454",
       "version_major": 2,
       "version_minor": 0
      },
      "text/plain": [
       "Calculating Metrics:   0%|          | 0/6 [00:00<?, ?it/s]"
      ]
     },
     "metadata": {},
     "output_type": "display_data"
    },
    {
     "data": {
      "application/vnd.jupyter.widget-view+json": {
       "model_id": "22cc89a5472f4638ba73670626cb8736",
       "version_major": 2,
       "version_minor": 0
      },
      "text/plain": [
       "Calculating Metrics:   0%|          | 0/6 [00:00<?, ?it/s]"
      ]
     },
     "metadata": {},
     "output_type": "display_data"
    },
    {
     "data": {
      "application/vnd.jupyter.widget-view+json": {
       "model_id": "7342ae3bd1044947a005cccd90aa2d02",
       "version_major": 2,
       "version_minor": 0
      },
      "text/plain": [
       "Calculating Metrics:   0%|          | 0/6 [00:00<?, ?it/s]"
      ]
     },
     "metadata": {},
     "output_type": "display_data"
    },
    {
     "data": {
      "application/vnd.jupyter.widget-view+json": {
       "model_id": "4956c99d5a8f4862be71e27a3ab5acb3",
       "version_major": 2,
       "version_minor": 0
      },
      "text/plain": [
       "Calculating Metrics:   0%|          | 0/6 [00:00<?, ?it/s]"
      ]
     },
     "metadata": {},
     "output_type": "display_data"
    },
    {
     "data": {
      "application/vnd.jupyter.widget-view+json": {
       "model_id": "56479eff2f7b43b48a5da980ead431a8",
       "version_major": 2,
       "version_minor": 0
      },
      "text/plain": [
       "Calculating Metrics:   0%|          | 0/6 [00:00<?, ?it/s]"
      ]
     },
     "metadata": {},
     "output_type": "display_data"
    },
    {
     "data": {
      "application/vnd.jupyter.widget-view+json": {
       "model_id": "a8df8f9a38fe48cdb66fbab4174581ab",
       "version_major": 2,
       "version_minor": 0
      },
      "text/plain": [
       "Calculating Metrics:   0%|          | 0/6 [00:00<?, ?it/s]"
      ]
     },
     "metadata": {},
     "output_type": "display_data"
    },
    {
     "data": {
      "application/vnd.jupyter.widget-view+json": {
       "model_id": "16a98a9a0d504f03b090afa24f5d322f",
       "version_major": 2,
       "version_minor": 0
      },
      "text/plain": [
       "Calculating Metrics:   0%|          | 0/6 [00:00<?, ?it/s]"
      ]
     },
     "metadata": {},
     "output_type": "display_data"
    },
    {
     "data": {
      "application/vnd.jupyter.widget-view+json": {
       "model_id": "8b50506740fd4a1ca5f90468adf601ce",
       "version_major": 2,
       "version_minor": 0
      },
      "text/plain": [
       "Calculating Metrics:   0%|          | 0/6 [00:00<?, ?it/s]"
      ]
     },
     "metadata": {},
     "output_type": "display_data"
    },
    {
     "data": {
      "application/vnd.jupyter.widget-view+json": {
       "model_id": "cdb95df2da3248cfab149ce6a4d9d3d3",
       "version_major": 2,
       "version_minor": 0
      },
      "text/plain": [
       "Calculating Metrics:   0%|          | 0/6 [00:00<?, ?it/s]"
      ]
     },
     "metadata": {},
     "output_type": "display_data"
    },
    {
     "data": {
      "application/vnd.jupyter.widget-view+json": {
       "model_id": "4a7aa05a36f4482e89aeae1bb52cade7",
       "version_major": 2,
       "version_minor": 0
      },
      "text/plain": [
       "Calculating Metrics:   0%|          | 0/6 [00:00<?, ?it/s]"
      ]
     },
     "metadata": {},
     "output_type": "display_data"
    },
    {
     "data": {
      "application/vnd.jupyter.widget-view+json": {
       "model_id": "78096941add64a0d90b8cab3c097c06f",
       "version_major": 2,
       "version_minor": 0
      },
      "text/plain": [
       "Calculating Metrics:   0%|          | 0/6 [00:00<?, ?it/s]"
      ]
     },
     "metadata": {},
     "output_type": "display_data"
    },
    {
     "data": {
      "application/vnd.jupyter.widget-view+json": {
       "model_id": "7ef6654dbbd446d981e349b40a22bb5a",
       "version_major": 2,
       "version_minor": 0
      },
      "text/plain": [
       "Calculating Metrics:   0%|          | 0/6 [00:00<?, ?it/s]"
      ]
     },
     "metadata": {},
     "output_type": "display_data"
    },
    {
     "data": {
      "application/vnd.jupyter.widget-view+json": {
       "model_id": "a7f221dff5f044cfb47b4402e05c4e4a",
       "version_major": 2,
       "version_minor": 0
      },
      "text/plain": [
       "Calculating Metrics:   0%|          | 0/6 [00:00<?, ?it/s]"
      ]
     },
     "metadata": {},
     "output_type": "display_data"
    },
    {
     "data": {
      "application/vnd.jupyter.widget-view+json": {
       "model_id": "a90a798e1a1946aea55e6d71dbe054b9",
       "version_major": 2,
       "version_minor": 0
      },
      "text/plain": [
       "Calculating Metrics:   0%|          | 0/6 [00:00<?, ?it/s]"
      ]
     },
     "metadata": {},
     "output_type": "display_data"
    },
    {
     "data": {
      "application/vnd.jupyter.widget-view+json": {
       "model_id": "47db141d0b114e62abb912f17567f826",
       "version_major": 2,
       "version_minor": 0
      },
      "text/plain": [
       "Calculating Metrics:   0%|          | 0/6 [00:00<?, ?it/s]"
      ]
     },
     "metadata": {},
     "output_type": "display_data"
    },
    {
     "data": {
      "application/vnd.jupyter.widget-view+json": {
       "model_id": "b45ba7931de446419b0af7ab6ee776bf",
       "version_major": 2,
       "version_minor": 0
      },
      "text/plain": [
       "Calculating Metrics:   0%|          | 0/6 [00:00<?, ?it/s]"
      ]
     },
     "metadata": {},
     "output_type": "display_data"
    },
    {
     "data": {
      "application/vnd.jupyter.widget-view+json": {
       "model_id": "26a64fc1e69049e898459fb242bb9cca",
       "version_major": 2,
       "version_minor": 0
      },
      "text/plain": [
       "Calculating Metrics:   0%|          | 0/6 [00:00<?, ?it/s]"
      ]
     },
     "metadata": {},
     "output_type": "display_data"
    },
    {
     "data": {
      "application/vnd.jupyter.widget-view+json": {
       "model_id": "34f6f6eaf916435db288070d98ee26df",
       "version_major": 2,
       "version_minor": 0
      },
      "text/plain": [
       "Calculating Metrics:   0%|          | 0/6 [00:00<?, ?it/s]"
      ]
     },
     "metadata": {},
     "output_type": "display_data"
    },
    {
     "data": {
      "application/vnd.jupyter.widget-view+json": {
       "model_id": "3c7473ed1a804ff999c06f91a1cee301",
       "version_major": 2,
       "version_minor": 0
      },
      "text/plain": [
       "Calculating Metrics:   0%|          | 0/6 [00:00<?, ?it/s]"
      ]
     },
     "metadata": {},
     "output_type": "display_data"
    },
    {
     "data": {
      "application/vnd.jupyter.widget-view+json": {
       "model_id": "6c4de868874c41b4a5a28c50749e7148",
       "version_major": 2,
       "version_minor": 0
      },
      "text/plain": [
       "Calculating Metrics:   0%|          | 0/6 [00:00<?, ?it/s]"
      ]
     },
     "metadata": {},
     "output_type": "display_data"
    }
   ],
   "source": [
    "validate_ge_origination()"
   ]
  },
  {
   "cell_type": "code",
   "execution_count": 15,
   "id": "e944853f",
   "metadata": {},
   "outputs": [],
   "source": [
    "checkpoint = context.add_or_update_checkpoint(\n",
    "    name=\"Freddie_Mac_Origination_v1\",\n",
    "    validator=validator\n",
    ")"
   ]
  },
  {
   "cell_type": "code",
   "execution_count": 16,
   "id": "687fa030",
   "metadata": {},
   "outputs": [
    {
     "data": {
      "application/vnd.jupyter.widget-view+json": {
       "model_id": "8abdb9ed5583434080cb5e9856d98fb8",
       "version_major": 2,
       "version_minor": 0
      },
      "text/plain": [
       "Calculating Metrics:   0%|          | 0/259 [00:00<?, ?it/s]"
      ]
     },
     "metadata": {},
     "output_type": "display_data"
    }
   ],
   "source": [
    "checkpoint_result = checkpoint.run(run_name=\"Manual_run\")"
   ]
  },
  {
   "cell_type": "code",
   "execution_count": 17,
   "id": "c0208bf4",
   "metadata": {},
   "outputs": [
    {
     "data": {
      "text/plain": [
       "{'local_site': 'file:///Users/shruti/Desktop/Assignment_1/Part_2/GEX_Origination/gx/uncommitted/data_docs/local_site/index.html'}"
      ]
     },
     "execution_count": 17,
     "metadata": {},
     "output_type": "execute_result"
    }
   ],
   "source": [
    "context.build_data_docs()"
   ]
  },
  {
   "cell_type": "code",
   "execution_count": null,
   "id": "1dda6dc3",
   "metadata": {},
   "outputs": [],
   "source": []
  }
 ],
 "metadata": {
  "kernelspec": {
   "display_name": ".venv",
   "language": "python",
   "name": "python3"
  },
  "language_info": {
   "codemirror_mode": {
    "name": "ipython",
    "version": 3
   },
   "file_extension": ".py",
   "mimetype": "text/x-python",
   "name": "python",
   "nbconvert_exporter": "python",
   "pygments_lexer": "ipython3",
   "version": "3.8.18"
  }
 },
 "nbformat": 4,
 "nbformat_minor": 5
}
