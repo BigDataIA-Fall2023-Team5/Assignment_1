{
 "cells": [
  {
   "cell_type": "code",
   "execution_count": 1,
   "id": "14634814",
   "metadata": {},
   "outputs": [],
   "source": [
    "import os\n",
    "import pandas as pd\n",
    "import great_expectations as gx\n",
    "from great_expectations.data_context import FileDataContext"
   ]
  },
  {
   "cell_type": "code",
   "execution_count": 2,
   "id": "c12a7301",
   "metadata": {},
   "outputs": [],
   "source": [
    "import streamlit as st\n",
    "import numpy as np\n",
    "from io import StringIO"
   ]
  },
  {
   "cell_type": "code",
   "execution_count": 3,
   "id": "9f84e117",
   "metadata": {},
   "outputs": [],
   "source": [
    "path_to_repo_dir=\"/Users/shruti/Desktop/Assignment_1/Part_2/GEX_Monthly\" #local path to csv\n",
    "path_to_data_dir=f\"{path_to_repo_dir}/gx/data\" \n",
    "expectation_suite_name=\"GE_Suite\" "
   ]
  },
  {
   "cell_type": "code",
   "execution_count": 4,
   "id": "5775882d",
   "metadata": {},
   "outputs": [],
   "source": [
    "context = FileDataContext.create(project_root_dir=path_to_repo_dir)"
   ]
  },
  {
   "cell_type": "code",
   "execution_count": 5,
   "id": "3edfabc3",
   "metadata": {},
   "outputs": [],
   "source": [
    "os.mkdir(path_to_data_dir)\n",
    "\n",
    "df = pd.read_csv('/Users/shruti/Desktop/Assignment_1/Part_2/datasets/historical_data_2021Q1.txt', delimiter=\"|\", header = None)\n",
    "\n"
   ]
  },
  {
   "cell_type": "code",
   "execution_count": 6,
   "id": "de48b47d",
   "metadata": {},
   "outputs": [],
   "source": [
    "df.columns=['Loan_Sequence_Number','Monthly_Reporting_Period','Current_Actual_UPB','Current_Loan_Delinquency_Status','Loan_Age','Remaining_Months_to_Legal_Maturity','Defect_Settlement_Date','Modification_Flag','Zero_Balance_Code','Zero_Balance_Effective_Date','Current_Interest_Rate','Current_Deferred_UPB','Due_Date_of_Last_Paid_Installment_(DDLPI)','MI_Recoveries','Net_Sales_Proceeds','Non_MI_Recoveries','Expenses','Legal_Costs','Maintenance_and_Preservation_Costs','Taxes_and_Insurance','Miscellaneous_Expenses','Actual_Loss_Calculation','Modification_Cost','Step_Modification_Flag','Deferred_Payment_Plan','Estimated_Loan_to_Value_(ELTV)','Zero_Balance_Removal_UPB','Delinquent_Accrued_Interest','Delinquency_Due_to_Disaster','Borrower_Assistance_Status_Code','Current_Month_Modification_Cost','Interest_Bearing_UPB']\n",
    "\n",
    "# Save the DataFrame as a CSV file\n",
    "df.to_csv(f\"{path_to_repo_dir}/gx/data/historical_data_2022Q1.csv\", index=False)"
   ]
  },
  {
   "cell_type": "code",
   "execution_count": 7,
   "id": "caabc39e",
   "metadata": {},
   "outputs": [
    {
     "data": {
      "text/html": [
       "<div>\n",
       "<style scoped>\n",
       "    .dataframe tbody tr th:only-of-type {\n",
       "        vertical-align: middle;\n",
       "    }\n",
       "\n",
       "    .dataframe tbody tr th {\n",
       "        vertical-align: top;\n",
       "    }\n",
       "\n",
       "    .dataframe thead th {\n",
       "        text-align: right;\n",
       "    }\n",
       "</style>\n",
       "<table border=\"1\" class=\"dataframe\">\n",
       "  <thead>\n",
       "    <tr style=\"text-align: right;\">\n",
       "      <th></th>\n",
       "      <th>Loan_Sequence_Number</th>\n",
       "      <th>Monthly_Reporting_Period</th>\n",
       "      <th>Current_Actual_UPB</th>\n",
       "      <th>Current_Loan_Delinquency_Status</th>\n",
       "      <th>Loan_Age</th>\n",
       "      <th>Remaining_Months_to_Legal_Maturity</th>\n",
       "      <th>Defect_Settlement_Date</th>\n",
       "      <th>Modification_Flag</th>\n",
       "      <th>Zero_Balance_Code</th>\n",
       "      <th>Zero_Balance_Effective_Date</th>\n",
       "      <th>...</th>\n",
       "      <th>Modification_Cost</th>\n",
       "      <th>Step_Modification_Flag</th>\n",
       "      <th>Deferred_Payment_Plan</th>\n",
       "      <th>Estimated_Loan_to_Value_(ELTV)</th>\n",
       "      <th>Zero_Balance_Removal_UPB</th>\n",
       "      <th>Delinquent_Accrued_Interest</th>\n",
       "      <th>Delinquency_Due_to_Disaster</th>\n",
       "      <th>Borrower_Assistance_Status_Code</th>\n",
       "      <th>Current_Month_Modification_Cost</th>\n",
       "      <th>Interest_Bearing_UPB</th>\n",
       "    </tr>\n",
       "  </thead>\n",
       "  <tbody>\n",
       "    <tr>\n",
       "      <th>0</th>\n",
       "      <td>725</td>\n",
       "      <td>202103</td>\n",
       "      <td>Y</td>\n",
       "      <td>205102</td>\n",
       "      <td>15804.0</td>\n",
       "      <td>0</td>\n",
       "      <td>1</td>\n",
       "      <td>P</td>\n",
       "      <td>80</td>\n",
       "      <td>30</td>\n",
       "      <td>...</td>\n",
       "      <td>1</td>\n",
       "      <td>WELLS FARGO BANK, N.A.</td>\n",
       "      <td>WELLS FARGO BANK, N.A.</td>\n",
       "      <td>NaN</td>\n",
       "      <td>NaN</td>\n",
       "      <td>9</td>\n",
       "      <td>NaN</td>\n",
       "      <td>2</td>\n",
       "      <td>N</td>\n",
       "      <td>7</td>\n",
       "    </tr>\n",
       "    <tr>\n",
       "      <th>1</th>\n",
       "      <td>737</td>\n",
       "      <td>202103</td>\n",
       "      <td>N</td>\n",
       "      <td>205102</td>\n",
       "      <td>NaN</td>\n",
       "      <td>0</td>\n",
       "      <td>1</td>\n",
       "      <td>P</td>\n",
       "      <td>74</td>\n",
       "      <td>27</td>\n",
       "      <td>...</td>\n",
       "      <td>2</td>\n",
       "      <td>Other sellers</td>\n",
       "      <td>U.S. BANK N.A.</td>\n",
       "      <td>NaN</td>\n",
       "      <td>NaN</td>\n",
       "      <td>9</td>\n",
       "      <td>NaN</td>\n",
       "      <td>2</td>\n",
       "      <td>N</td>\n",
       "      <td>7</td>\n",
       "    </tr>\n",
       "    <tr>\n",
       "      <th>2</th>\n",
       "      <td>744</td>\n",
       "      <td>202105</td>\n",
       "      <td>N</td>\n",
       "      <td>204104</td>\n",
       "      <td>48864.0</td>\n",
       "      <td>6</td>\n",
       "      <td>1</td>\n",
       "      <td>P</td>\n",
       "      <td>85</td>\n",
       "      <td>34</td>\n",
       "      <td>...</td>\n",
       "      <td>1</td>\n",
       "      <td>Other sellers</td>\n",
       "      <td>U.S. BANK N.A.</td>\n",
       "      <td>NaN</td>\n",
       "      <td>NaN</td>\n",
       "      <td>9</td>\n",
       "      <td>NaN</td>\n",
       "      <td>1</td>\n",
       "      <td>N</td>\n",
       "      <td>Y</td>\n",
       "    </tr>\n",
       "    <tr>\n",
       "      <th>3</th>\n",
       "      <td>676</td>\n",
       "      <td>202104</td>\n",
       "      <td>N</td>\n",
       "      <td>204103</td>\n",
       "      <td>NaN</td>\n",
       "      <td>0</td>\n",
       "      <td>1</td>\n",
       "      <td>P</td>\n",
       "      <td>79</td>\n",
       "      <td>23</td>\n",
       "      <td>...</td>\n",
       "      <td>2</td>\n",
       "      <td>Other sellers</td>\n",
       "      <td>U.S. BANK N.A.</td>\n",
       "      <td>NaN</td>\n",
       "      <td>NaN</td>\n",
       "      <td>9</td>\n",
       "      <td>NaN</td>\n",
       "      <td>2</td>\n",
       "      <td>N</td>\n",
       "      <td>7</td>\n",
       "    </tr>\n",
       "    <tr>\n",
       "      <th>4</th>\n",
       "      <td>765</td>\n",
       "      <td>202103</td>\n",
       "      <td>N</td>\n",
       "      <td>203602</td>\n",
       "      <td>12700.0</td>\n",
       "      <td>0</td>\n",
       "      <td>1</td>\n",
       "      <td>S</td>\n",
       "      <td>60</td>\n",
       "      <td>43</td>\n",
       "      <td>...</td>\n",
       "      <td>2</td>\n",
       "      <td>Other sellers</td>\n",
       "      <td>Other servicers</td>\n",
       "      <td>NaN</td>\n",
       "      <td>NaN</td>\n",
       "      <td>9</td>\n",
       "      <td>NaN</td>\n",
       "      <td>1</td>\n",
       "      <td>N</td>\n",
       "      <td>7</td>\n",
       "    </tr>\n",
       "  </tbody>\n",
       "</table>\n",
       "<p>5 rows × 32 columns</p>\n",
       "</div>"
      ],
      "text/plain": [
       "   Loan_Sequence_Number  Monthly_Reporting_Period Current_Actual_UPB  \\\n",
       "0                   725                    202103                  Y   \n",
       "1                   737                    202103                  N   \n",
       "2                   744                    202105                  N   \n",
       "3                   676                    202104                  N   \n",
       "4                   765                    202103                  N   \n",
       "\n",
       "   Current_Loan_Delinquency_Status  Loan_Age  \\\n",
       "0                           205102   15804.0   \n",
       "1                           205102       NaN   \n",
       "2                           204104   48864.0   \n",
       "3                           204103       NaN   \n",
       "4                           203602   12700.0   \n",
       "\n",
       "   Remaining_Months_to_Legal_Maturity  Defect_Settlement_Date  \\\n",
       "0                                   0                       1   \n",
       "1                                   0                       1   \n",
       "2                                   6                       1   \n",
       "3                                   0                       1   \n",
       "4                                   0                       1   \n",
       "\n",
       "  Modification_Flag  Zero_Balance_Code  Zero_Balance_Effective_Date  ...  \\\n",
       "0                 P                 80                           30  ...   \n",
       "1                 P                 74                           27  ...   \n",
       "2                 P                 85                           34  ...   \n",
       "3                 P                 79                           23  ...   \n",
       "4                 S                 60                           43  ...   \n",
       "\n",
       "   Modification_Cost  Step_Modification_Flag   Deferred_Payment_Plan  \\\n",
       "0                  1  WELLS FARGO BANK, N.A.  WELLS FARGO BANK, N.A.   \n",
       "1                  2           Other sellers          U.S. BANK N.A.   \n",
       "2                  1           Other sellers          U.S. BANK N.A.   \n",
       "3                  2           Other sellers          U.S. BANK N.A.   \n",
       "4                  2           Other sellers         Other servicers   \n",
       "\n",
       "  Estimated_Loan_to_Value_(ELTV) Zero_Balance_Removal_UPB  \\\n",
       "0                            NaN                      NaN   \n",
       "1                            NaN                      NaN   \n",
       "2                            NaN                      NaN   \n",
       "3                            NaN                      NaN   \n",
       "4                            NaN                      NaN   \n",
       "\n",
       "  Delinquent_Accrued_Interest Delinquency_Due_to_Disaster  \\\n",
       "0                           9                         NaN   \n",
       "1                           9                         NaN   \n",
       "2                           9                         NaN   \n",
       "3                           9                         NaN   \n",
       "4                           9                         NaN   \n",
       "\n",
       "  Borrower_Assistance_Status_Code  Current_Month_Modification_Cost  \\\n",
       "0                               2                                N   \n",
       "1                               2                                N   \n",
       "2                               1                                N   \n",
       "3                               2                                N   \n",
       "4                               1                                N   \n",
       "\n",
       "  Interest_Bearing_UPB  \n",
       "0                    7  \n",
       "1                    7  \n",
       "2                    Y  \n",
       "3                    7  \n",
       "4                    7  \n",
       "\n",
       "[5 rows x 32 columns]"
      ]
     },
     "execution_count": 7,
     "metadata": {},
     "output_type": "execute_result"
    }
   ],
   "source": [
    "df.head()"
   ]
  },
  {
   "cell_type": "code",
   "execution_count": 8,
   "id": "6889a27e",
   "metadata": {},
   "outputs": [],
   "source": [
    "# Give your Datasource a name\n",
    "datasource_name = \"Local_FileSystem_Source\"\n",
    "datasource = context.sources.add_pandas_filesystem(name=datasource_name, base_directory=path_to_data_dir)\n",
    "\n",
    "# Give your first Asset a name\n",
    "asset_name = \"Freddie_Mac\"\n",
    "batching_regex = r\"historical_data_\\d{4}Q\\d.csv\" #change this\n",
    "\n",
    "asset = datasource.add_csv_asset(name=asset_name,batching_regex=batching_regex)\n",
    "\n",
    "# Build batch request\n",
    "batch_request = asset.build_batch_request()"
   ]
  },
  {
   "cell_type": "markdown",
   "id": "b9a3404e",
   "metadata": {},
   "source": [
    "Create expectations suite"
   ]
  },
  {
   "cell_type": "code",
   "execution_count": 9,
   "id": "2c89495e",
   "metadata": {},
   "outputs": [],
   "source": [
    "data_asset = context.get_datasource(datasource_name).get_asset(asset_name)\n",
    "batch_request = data_asset.build_batch_request()"
   ]
  },
  {
   "cell_type": "code",
   "execution_count": 10,
   "metadata": {},
   "outputs": [
    {
     "data": {
      "text/plain": [
       "[]"
      ]
     },
     "execution_count": 10,
     "metadata": {},
     "output_type": "execute_result"
    }
   ],
   "source": [
    "context.list_expectation_suite_names()"
   ]
  },
  {
   "cell_type": "code",
   "execution_count": 11,
   "id": "b711dcce",
   "metadata": {},
   "outputs": [
    {
     "data": {
      "text/plain": [
       "{\n",
       "  \"expectation_suite_name\": \"GE_Suite\",\n",
       "  \"ge_cloud_id\": null,\n",
       "  \"expectations\": [],\n",
       "  \"data_asset_type\": null,\n",
       "  \"meta\": {\n",
       "    \"great_expectations_version\": \"0.17.19\"\n",
       "  }\n",
       "}"
      ]
     },
     "execution_count": 11,
     "metadata": {},
     "output_type": "execute_result"
    }
   ],
   "source": [
    "context. add_or_update_expectation_suite(expectation_suite_name)"
   ]
  },
  {
   "cell_type": "code",
   "execution_count": 12,
   "id": "82c9d439",
   "metadata": {},
   "outputs": [
    {
     "data": {
      "application/vnd.jupyter.widget-view+json": {
       "model_id": "ed52e760341b46df915731c442a4b2d1",
       "version_major": 2,
       "version_minor": 0
      },
      "text/plain": [
       "Calculating Metrics:   0%|          | 0/1 [00:00<?, ?it/s]"
      ]
     },
     "metadata": {},
     "output_type": "display_data"
    },
    {
     "data": {
      "text/html": [
       "<div>\n",
       "<style scoped>\n",
       "    .dataframe tbody tr th:only-of-type {\n",
       "        vertical-align: middle;\n",
       "    }\n",
       "\n",
       "    .dataframe tbody tr th {\n",
       "        vertical-align: top;\n",
       "    }\n",
       "\n",
       "    .dataframe thead th {\n",
       "        text-align: right;\n",
       "    }\n",
       "</style>\n",
       "<table border=\"1\" class=\"dataframe\">\n",
       "  <thead>\n",
       "    <tr style=\"text-align: right;\">\n",
       "      <th></th>\n",
       "      <th>Loan_Sequence_Number</th>\n",
       "      <th>Monthly_Reporting_Period</th>\n",
       "      <th>Current_Actual_UPB</th>\n",
       "      <th>Current_Loan_Delinquency_Status</th>\n",
       "      <th>Loan_Age</th>\n",
       "      <th>Remaining_Months_to_Legal_Maturity</th>\n",
       "      <th>Defect_Settlement_Date</th>\n",
       "      <th>Modification_Flag</th>\n",
       "      <th>Zero_Balance_Code</th>\n",
       "      <th>Zero_Balance_Effective_Date</th>\n",
       "      <th>...</th>\n",
       "      <th>Modification_Cost</th>\n",
       "      <th>Step_Modification_Flag</th>\n",
       "      <th>Deferred_Payment_Plan</th>\n",
       "      <th>Estimated_Loan_to_Value_(ELTV)</th>\n",
       "      <th>Zero_Balance_Removal_UPB</th>\n",
       "      <th>Delinquent_Accrued_Interest</th>\n",
       "      <th>Delinquency_Due_to_Disaster</th>\n",
       "      <th>Borrower_Assistance_Status_Code</th>\n",
       "      <th>Current_Month_Modification_Cost</th>\n",
       "      <th>Interest_Bearing_UPB</th>\n",
       "    </tr>\n",
       "  </thead>\n",
       "  <tbody>\n",
       "    <tr>\n",
       "      <th>0</th>\n",
       "      <td>725</td>\n",
       "      <td>202103</td>\n",
       "      <td>Y</td>\n",
       "      <td>205102</td>\n",
       "      <td>15804.0</td>\n",
       "      <td>0</td>\n",
       "      <td>1</td>\n",
       "      <td>P</td>\n",
       "      <td>80</td>\n",
       "      <td>30</td>\n",
       "      <td>...</td>\n",
       "      <td>1</td>\n",
       "      <td>WELLS FARGO BANK, N.A.</td>\n",
       "      <td>WELLS FARGO BANK, N.A.</td>\n",
       "      <td>NaN</td>\n",
       "      <td>NaN</td>\n",
       "      <td>9</td>\n",
       "      <td>NaN</td>\n",
       "      <td>2</td>\n",
       "      <td>N</td>\n",
       "      <td>7</td>\n",
       "    </tr>\n",
       "    <tr>\n",
       "      <th>1</th>\n",
       "      <td>737</td>\n",
       "      <td>202103</td>\n",
       "      <td>N</td>\n",
       "      <td>205102</td>\n",
       "      <td>NaN</td>\n",
       "      <td>0</td>\n",
       "      <td>1</td>\n",
       "      <td>P</td>\n",
       "      <td>74</td>\n",
       "      <td>27</td>\n",
       "      <td>...</td>\n",
       "      <td>2</td>\n",
       "      <td>Other sellers</td>\n",
       "      <td>U.S. BANK N.A.</td>\n",
       "      <td>NaN</td>\n",
       "      <td>NaN</td>\n",
       "      <td>9</td>\n",
       "      <td>NaN</td>\n",
       "      <td>2</td>\n",
       "      <td>N</td>\n",
       "      <td>7</td>\n",
       "    </tr>\n",
       "    <tr>\n",
       "      <th>2</th>\n",
       "      <td>744</td>\n",
       "      <td>202105</td>\n",
       "      <td>N</td>\n",
       "      <td>204104</td>\n",
       "      <td>48864.0</td>\n",
       "      <td>6</td>\n",
       "      <td>1</td>\n",
       "      <td>P</td>\n",
       "      <td>85</td>\n",
       "      <td>34</td>\n",
       "      <td>...</td>\n",
       "      <td>1</td>\n",
       "      <td>Other sellers</td>\n",
       "      <td>U.S. BANK N.A.</td>\n",
       "      <td>NaN</td>\n",
       "      <td>NaN</td>\n",
       "      <td>9</td>\n",
       "      <td>NaN</td>\n",
       "      <td>1</td>\n",
       "      <td>N</td>\n",
       "      <td>Y</td>\n",
       "    </tr>\n",
       "    <tr>\n",
       "      <th>3</th>\n",
       "      <td>676</td>\n",
       "      <td>202104</td>\n",
       "      <td>N</td>\n",
       "      <td>204103</td>\n",
       "      <td>NaN</td>\n",
       "      <td>0</td>\n",
       "      <td>1</td>\n",
       "      <td>P</td>\n",
       "      <td>79</td>\n",
       "      <td>23</td>\n",
       "      <td>...</td>\n",
       "      <td>2</td>\n",
       "      <td>Other sellers</td>\n",
       "      <td>U.S. BANK N.A.</td>\n",
       "      <td>NaN</td>\n",
       "      <td>NaN</td>\n",
       "      <td>9</td>\n",
       "      <td>NaN</td>\n",
       "      <td>2</td>\n",
       "      <td>N</td>\n",
       "      <td>7</td>\n",
       "    </tr>\n",
       "    <tr>\n",
       "      <th>4</th>\n",
       "      <td>765</td>\n",
       "      <td>202103</td>\n",
       "      <td>N</td>\n",
       "      <td>203602</td>\n",
       "      <td>12700.0</td>\n",
       "      <td>0</td>\n",
       "      <td>1</td>\n",
       "      <td>S</td>\n",
       "      <td>60</td>\n",
       "      <td>43</td>\n",
       "      <td>...</td>\n",
       "      <td>2</td>\n",
       "      <td>Other sellers</td>\n",
       "      <td>Other servicers</td>\n",
       "      <td>NaN</td>\n",
       "      <td>NaN</td>\n",
       "      <td>9</td>\n",
       "      <td>NaN</td>\n",
       "      <td>1</td>\n",
       "      <td>N</td>\n",
       "      <td>7</td>\n",
       "    </tr>\n",
       "  </tbody>\n",
       "</table>\n",
       "<p>5 rows × 32 columns</p>\n",
       "</div>"
      ],
      "text/plain": [
       "   Loan_Sequence_Number  Monthly_Reporting_Period Current_Actual_UPB  \\\n",
       "0                   725                    202103                  Y   \n",
       "1                   737                    202103                  N   \n",
       "2                   744                    202105                  N   \n",
       "3                   676                    202104                  N   \n",
       "4                   765                    202103                  N   \n",
       "\n",
       "   Current_Loan_Delinquency_Status  Loan_Age  \\\n",
       "0                           205102   15804.0   \n",
       "1                           205102       NaN   \n",
       "2                           204104   48864.0   \n",
       "3                           204103       NaN   \n",
       "4                           203602   12700.0   \n",
       "\n",
       "   Remaining_Months_to_Legal_Maturity  Defect_Settlement_Date  \\\n",
       "0                                   0                       1   \n",
       "1                                   0                       1   \n",
       "2                                   6                       1   \n",
       "3                                   0                       1   \n",
       "4                                   0                       1   \n",
       "\n",
       "  Modification_Flag  Zero_Balance_Code  Zero_Balance_Effective_Date  ...  \\\n",
       "0                 P                 80                           30  ...   \n",
       "1                 P                 74                           27  ...   \n",
       "2                 P                 85                           34  ...   \n",
       "3                 P                 79                           23  ...   \n",
       "4                 S                 60                           43  ...   \n",
       "\n",
       "   Modification_Cost  Step_Modification_Flag   Deferred_Payment_Plan  \\\n",
       "0                  1  WELLS FARGO BANK, N.A.  WELLS FARGO BANK, N.A.   \n",
       "1                  2           Other sellers          U.S. BANK N.A.   \n",
       "2                  1           Other sellers          U.S. BANK N.A.   \n",
       "3                  2           Other sellers          U.S. BANK N.A.   \n",
       "4                  2           Other sellers         Other servicers   \n",
       "\n",
       "  Estimated_Loan_to_Value_(ELTV) Zero_Balance_Removal_UPB  \\\n",
       "0                            NaN                      NaN   \n",
       "1                            NaN                      NaN   \n",
       "2                            NaN                      NaN   \n",
       "3                            NaN                      NaN   \n",
       "4                            NaN                      NaN   \n",
       "\n",
       "  Delinquent_Accrued_Interest Delinquency_Due_to_Disaster  \\\n",
       "0                           9                         NaN   \n",
       "1                           9                         NaN   \n",
       "2                           9                         NaN   \n",
       "3                           9                         NaN   \n",
       "4                           9                         NaN   \n",
       "\n",
       "  Borrower_Assistance_Status_Code  Current_Month_Modification_Cost  \\\n",
       "0                               2                                N   \n",
       "1                               2                                N   \n",
       "2                               1                                N   \n",
       "3                               2                                N   \n",
       "4                               1                                N   \n",
       "\n",
       "  Interest_Bearing_UPB  \n",
       "0                    7  \n",
       "1                    7  \n",
       "2                    Y  \n",
       "3                    7  \n",
       "4                    7  \n",
       "\n",
       "[5 rows x 32 columns]"
      ]
     },
     "execution_count": 12,
     "metadata": {},
     "output_type": "execute_result"
    }
   ],
   "source": [
    "validator = context.get_validator(batch_request=batch_request, expectation_suite_name=expectation_suite_name)\n",
    "validator.head()"
   ]
  },
  {
   "cell_type": "markdown",
   "id": "9743d367",
   "metadata": {},
   "source": [
    "Validators for schema"
   ]
  },
  {
   "cell_type": "code",
   "execution_count": 13,
   "id": "f375ef8f",
   "metadata": {},
   "outputs": [],
   "source": [
    "def validate_ge_monthly():\n",
    "    #Schema Check\n",
    "    validator.expect_column_values_to_be_of_type(\"Loan_Sequence_Number\", \"str\")\n",
    "    validator.expect_column_values_to_be_of_type(\"Monthly_Reporting_Period\", \"datetime\")\n",
    "    validator.expect_column_values_to_be_of_type(\"Current_Actual_UPB\", \"float\")\n",
    "    validator.expect_column_values_to_be_of_type(\"Current_Loan_Delinquency_Status\", \"str\")\n",
    "    validator.expect_column_values_to_be_of_type(\"Loan_Age\", \"int\")\n",
    "    validator.expect_column_values_to_be_of_type(\"Remaining_Months_to_Legal_Maturity\", \"int\")\n",
    "    validator.expect_column_values_to_be_of_type(\"Defect_Settlement_Date\", \"datetime\")\n",
    "    validator.expect_column_values_to_be_of_type(\"Modification_Flag\", \"str\")\n",
    "    validator.expect_column_values_to_be_of_type(\"Zero_Balance_Code\", \"int\")\n",
    "    validator.expect_column_values_to_be_of_type(\"Zero_Balance_Effective_Date\", \"datetime\")\n",
    "    validator.expect_column_values_to_be_of_type(\"Current_Interest_Rate\", \"float\")\n",
    "    validator.expect_column_values_to_be_of_type(\"Current_Deferred_UPB\", \"int\")\n",
    "    validator.expect_column_values_to_be_of_type(\"Due_Date_of_Last_Paid_Installment_(DDLPI)\", \"datetime\")\n",
    "    validator.expect_column_values_to_be_of_type(\"MI_Recoveries\", \"float\")\n",
    "    validator.expect_column_values_to_be_of_type(\"Net_Sales_Proceeds\", \"str\")\n",
    "    validator.expect_column_values_to_be_of_type(\"Non_MI_Recoveries\", \"float\")\n",
    "    validator.expect_column_values_to_be_of_type(\"Expenses\", \"float\")\n",
    "    validator.expect_column_values_to_be_of_type(\"Legal_Costs\", \"float\")\n",
    "    validator.expect_column_values_to_be_of_type(\"Maintenance_and_Preservation_Costs\", \"float\")\n",
    "    validator.expect_column_values_to_be_of_type(\"Taxes_and_Insurance\", \"float\")\n",
    "    validator.expect_column_values_to_be_of_type(\"Miscellaneous_Expenses\", \"float\")\n",
    "    validator.expect_column_values_to_be_of_type(\"Actual_Loss_Calculation\", \"float\")\n",
    "    validator.expect_column_values_to_be_of_type(\"Modification_Cost\", \"float\")\n",
    "    validator.expect_column_values_to_be_of_type(\"Step_Modification_Flag\", \"str\")\n",
    "    validator.expect_column_values_to_be_of_type(\"Deferred_Payment_Plan\", \"str\")\n",
    "    validator.expect_column_values_to_be_of_type(\"Estimated_Loan_to_Value_(ELTV)\", \"int\")\n",
    "    validator.expect_column_values_to_be_of_type(\"Zero_Balance_Removal_UPB\", \"float\")\n",
    "    validator.expect_column_values_to_be_of_type(\"Delinquent_Accrued_Interest\", \"float\")\n",
    "    validator.expect_column_values_to_be_of_type(\"Delinquency_Due_to_Disaster\", \"str\")\n",
    "    validator.expect_column_values_to_be_of_type(\"Borrower_Assistance_Status_Code\", \"str\")\n",
    "    validator.expect_column_values_to_be_of_type(\"Current_Month_Modification_Cost\", \"float\")\n",
    "    validator.expect_column_values_to_be_of_type(\"Interest_Bearing_UPB\", \"float\")\n",
    "\n",
    "    #other validations\n",
    "    validator.expect_column_values_to_be_unique(\"Loan_Sequence_Number\")  #Loan seq number will be unique\n",
    "    validator.expect_column_values_to_match_regex(\"Loan_Sequence_Number\", regex=r'^P\\d{2}Qn[a-zA-Z0-9]{7}$')\n",
    "    validator.expect_column_values_to_match_regex(\"Current_Actual_UPB\", regex=r'^\\d{10}\\.\\d{2}$')\n",
    "    validator.expect_column_values_to_match_regex(\"Current_Interest_Rate\", regex=r'^\\d{5}\\.\\d{3}$')\n",
    "    validator.expect_column_values_to_match_regex(\"MI_Recoveries\", regex=r'^\\d{10}\\.\\d{2}$')\n",
    "    validator.expect_column_values_to_match_regex(\"Non_MI_Recoveries\", regex=r'^\\d{10}\\.\\d{2}$')\n",
    "    validator.expect_column_values_to_match_regex(\"Expenses\", regex=r'^\\d{10}\\.\\d{2}$')\n",
    "    validator.expect_column_values_to_match_regex(\"Legal_Costs\", regex=r'^\\d{10}\\.\\d{2}$')\n",
    "    validator.expect_column_values_to_match_regex(\"Maintenance_and_Preservation_Costs\", regex=r'^\\d{10}\\.\\d{2}$')\n",
    "    validator.expect_column_values_to_match_regex(\"Miscellaneous_Expenses\", regex=r'^\\d{10}\\.\\d{2}$')\n",
    "    validator.expect_column_values_to_match_regex(\"Taxes_and_Insurance\", regex=r'^\\d{10}\\.\\d{2}$')\n",
    "    validator.expect_column_values_to_match_regex(\"Actual_Loss_Calculation\", regex=r'^\\d{10}\\.\\d{2}$')\n",
    "    validator.expect_column_values_to_match_regex(\"Modification_Cost\", regex=r'^\\d{10}\\.\\d{2}$')\n",
    "    validator.expect_column_values_to_match_regex(\"Zero_Balance_Removal_UPB\", regex=r'^\\d{10}\\.\\d{2}$')\n",
    "    validator.expect_column_values_to_match_regex(\"Delinquent_Accrued_Interest\", regex=r'^\\d{10}\\.\\d{2}$')\n",
    "    validator.expect_column_values_to_match_regex(\"Current_Month_Modification_Cost\", regex=r'^\\d{10}\\.\\d{2}$')\n",
    "    validator.expect_column_values_to_match_regex(\"Interest_Bearing_UPB\", regex=r'^\\d{10}\\.\\d{2}$')\n",
    "    validator.expect_column_value_lengths_to_be_between(\"Zero_Balance_Removal_UPB\", min_value=1, max_value=12)\n",
    "    validator.expect_column_value_lengths_to_be_between(\"Current_Deferred_UPB\", min_value=1, max_value=12)\n",
    "    validator.expect_column_values_to_be_in_set(\"MI_Recoveries\", [\"B\", \"R\", \"C\"])\n",
    "    validator.expect_column_values_to_be_in_set(\"Modification_Flag\", [\"I\", \"P\", \"S\"])\n",
    "    \n",
    "\n",
    "    #For null value check\n",
    "    for column in df.columns:\n",
    "        validator.expect_column_values_to_not_be_null(column)\n",
    "\n",
    "    validator.save_expectation_suite()"
   ]
  },
  {
   "cell_type": "code",
   "execution_count": 14,
   "id": "1a15220f",
   "metadata": {},
   "outputs": [
    {
     "data": {
      "application/vnd.jupyter.widget-view+json": {
       "model_id": "43a49d4178be4f4d9f349d2cb1280eac",
       "version_major": 2,
       "version_minor": 0
      },
      "text/plain": [
       "Calculating Metrics:   0%|          | 0/1 [00:00<?, ?it/s]"
      ]
     },
     "metadata": {},
     "output_type": "display_data"
    },
    {
     "data": {
      "application/vnd.jupyter.widget-view+json": {
       "model_id": "ed88655e7d16451193a3f6535b7b6023",
       "version_major": 2,
       "version_minor": 0
      },
      "text/plain": [
       "Calculating Metrics:   0%|          | 0/1 [00:00<?, ?it/s]"
      ]
     },
     "metadata": {},
     "output_type": "display_data"
    },
    {
     "data": {
      "application/vnd.jupyter.widget-view+json": {
       "model_id": "f0a83abf674743a097027caa7e5d9028",
       "version_major": 2,
       "version_minor": 0
      },
      "text/plain": [
       "Calculating Metrics:   0%|          | 0/8 [00:00<?, ?it/s]"
      ]
     },
     "metadata": {},
     "output_type": "display_data"
    },
    {
     "data": {
      "application/vnd.jupyter.widget-view+json": {
       "model_id": "618beb678e484663afd0c78084e4ec6c",
       "version_major": 2,
       "version_minor": 0
      },
      "text/plain": [
       "Calculating Metrics:   0%|          | 0/1 [00:00<?, ?it/s]"
      ]
     },
     "metadata": {},
     "output_type": "display_data"
    },
    {
     "data": {
      "application/vnd.jupyter.widget-view+json": {
       "model_id": "476cffdf57234f48bddbdabec3e489ff",
       "version_major": 2,
       "version_minor": 0
      },
      "text/plain": [
       "Calculating Metrics:   0%|          | 0/1 [00:00<?, ?it/s]"
      ]
     },
     "metadata": {},
     "output_type": "display_data"
    },
    {
     "data": {
      "application/vnd.jupyter.widget-view+json": {
       "model_id": "8fc0a1a52933442bae2d6c3f402cc397",
       "version_major": 2,
       "version_minor": 0
      },
      "text/plain": [
       "Calculating Metrics:   0%|          | 0/1 [00:00<?, ?it/s]"
      ]
     },
     "metadata": {},
     "output_type": "display_data"
    },
    {
     "data": {
      "application/vnd.jupyter.widget-view+json": {
       "model_id": "435feaea2db6494f8d78f5c63bc174ce",
       "version_major": 2,
       "version_minor": 0
      },
      "text/plain": [
       "Calculating Metrics:   0%|          | 0/1 [00:00<?, ?it/s]"
      ]
     },
     "metadata": {},
     "output_type": "display_data"
    },
    {
     "data": {
      "application/vnd.jupyter.widget-view+json": {
       "model_id": "b55cde4a4588469297ca8536c1dbfeaa",
       "version_major": 2,
       "version_minor": 0
      },
      "text/plain": [
       "Calculating Metrics:   0%|          | 0/8 [00:00<?, ?it/s]"
      ]
     },
     "metadata": {},
     "output_type": "display_data"
    },
    {
     "data": {
      "application/vnd.jupyter.widget-view+json": {
       "model_id": "f7a5b8b816f448f288851e2c4782b8d5",
       "version_major": 2,
       "version_minor": 0
      },
      "text/plain": [
       "Calculating Metrics:   0%|          | 0/1 [00:00<?, ?it/s]"
      ]
     },
     "metadata": {},
     "output_type": "display_data"
    },
    {
     "data": {
      "application/vnd.jupyter.widget-view+json": {
       "model_id": "e710aabb061440c9881c450653095375",
       "version_major": 2,
       "version_minor": 0
      },
      "text/plain": [
       "Calculating Metrics:   0%|          | 0/1 [00:00<?, ?it/s]"
      ]
     },
     "metadata": {},
     "output_type": "display_data"
    },
    {
     "data": {
      "application/vnd.jupyter.widget-view+json": {
       "model_id": "9ac50ab74ff446398793a5aa77a35727",
       "version_major": 2,
       "version_minor": 0
      },
      "text/plain": [
       "Calculating Metrics:   0%|          | 0/1 [00:00<?, ?it/s]"
      ]
     },
     "metadata": {},
     "output_type": "display_data"
    },
    {
     "data": {
      "application/vnd.jupyter.widget-view+json": {
       "model_id": "c836fcfc145843859178f1cf51eb0001",
       "version_major": 2,
       "version_minor": 0
      },
      "text/plain": [
       "Calculating Metrics:   0%|          | 0/1 [00:00<?, ?it/s]"
      ]
     },
     "metadata": {},
     "output_type": "display_data"
    },
    {
     "data": {
      "application/vnd.jupyter.widget-view+json": {
       "model_id": "82c8098e37a04a6985b4a55c7160188e",
       "version_major": 2,
       "version_minor": 0
      },
      "text/plain": [
       "Calculating Metrics:   0%|          | 0/1 [00:00<?, ?it/s]"
      ]
     },
     "metadata": {},
     "output_type": "display_data"
    },
    {
     "data": {
      "application/vnd.jupyter.widget-view+json": {
       "model_id": "0e6c78ecabfc40788821eb580dae4c93",
       "version_major": 2,
       "version_minor": 0
      },
      "text/plain": [
       "Calculating Metrics:   0%|          | 0/8 [00:00<?, ?it/s]"
      ]
     },
     "metadata": {},
     "output_type": "display_data"
    },
    {
     "data": {
      "application/vnd.jupyter.widget-view+json": {
       "model_id": "26f021d1c6ed4652978d0f0fedd74610",
       "version_major": 2,
       "version_minor": 0
      },
      "text/plain": [
       "Calculating Metrics:   0%|          | 0/8 [00:00<?, ?it/s]"
      ]
     },
     "metadata": {},
     "output_type": "display_data"
    },
    {
     "data": {
      "application/vnd.jupyter.widget-view+json": {
       "model_id": "853f7b688fc345b984c8ecc9715a7ad9",
       "version_major": 2,
       "version_minor": 0
      },
      "text/plain": [
       "Calculating Metrics:   0%|          | 0/8 [00:00<?, ?it/s]"
      ]
     },
     "metadata": {},
     "output_type": "display_data"
    },
    {
     "data": {
      "application/vnd.jupyter.widget-view+json": {
       "model_id": "9628669d5e174e7db0df19e2c86ca910",
       "version_major": 2,
       "version_minor": 0
      },
      "text/plain": [
       "Calculating Metrics:   0%|          | 0/8 [00:00<?, ?it/s]"
      ]
     },
     "metadata": {},
     "output_type": "display_data"
    },
    {
     "data": {
      "application/vnd.jupyter.widget-view+json": {
       "model_id": "a518763d75294df0b7d0b18a4fe3f37e",
       "version_major": 2,
       "version_minor": 0
      },
      "text/plain": [
       "Calculating Metrics:   0%|          | 0/8 [00:00<?, ?it/s]"
      ]
     },
     "metadata": {},
     "output_type": "display_data"
    },
    {
     "data": {
      "application/vnd.jupyter.widget-view+json": {
       "model_id": "c7841c2d2b4b4a16b2d178aa6c7c3c68",
       "version_major": 2,
       "version_minor": 0
      },
      "text/plain": [
       "Calculating Metrics:   0%|          | 0/1 [00:00<?, ?it/s]"
      ]
     },
     "metadata": {},
     "output_type": "display_data"
    },
    {
     "data": {
      "application/vnd.jupyter.widget-view+json": {
       "model_id": "dea03e843a8948ac9fbfe8037184c397",
       "version_major": 2,
       "version_minor": 0
      },
      "text/plain": [
       "Calculating Metrics:   0%|          | 0/8 [00:00<?, ?it/s]"
      ]
     },
     "metadata": {},
     "output_type": "display_data"
    },
    {
     "data": {
      "application/vnd.jupyter.widget-view+json": {
       "model_id": "41ae34d486ac408784267f7d527a04f9",
       "version_major": 2,
       "version_minor": 0
      },
      "text/plain": [
       "Calculating Metrics:   0%|          | 0/8 [00:00<?, ?it/s]"
      ]
     },
     "metadata": {},
     "output_type": "display_data"
    },
    {
     "data": {
      "application/vnd.jupyter.widget-view+json": {
       "model_id": "939c26e3310e4d418023a8c87e9bc87d",
       "version_major": 2,
       "version_minor": 0
      },
      "text/plain": [
       "Calculating Metrics:   0%|          | 0/1 [00:00<?, ?it/s]"
      ]
     },
     "metadata": {},
     "output_type": "display_data"
    },
    {
     "data": {
      "application/vnd.jupyter.widget-view+json": {
       "model_id": "066a306137de4948b8b9369b6c3906ab",
       "version_major": 2,
       "version_minor": 0
      },
      "text/plain": [
       "Calculating Metrics:   0%|          | 0/1 [00:00<?, ?it/s]"
      ]
     },
     "metadata": {},
     "output_type": "display_data"
    },
    {
     "data": {
      "application/vnd.jupyter.widget-view+json": {
       "model_id": "e24dc0801e26428594c2885508eec4a0",
       "version_major": 2,
       "version_minor": 0
      },
      "text/plain": [
       "Calculating Metrics:   0%|          | 0/8 [00:00<?, ?it/s]"
      ]
     },
     "metadata": {},
     "output_type": "display_data"
    },
    {
     "data": {
      "application/vnd.jupyter.widget-view+json": {
       "model_id": "6f93848e9c1d4088b7a9362682fa4498",
       "version_major": 2,
       "version_minor": 0
      },
      "text/plain": [
       "Calculating Metrics:   0%|          | 0/8 [00:00<?, ?it/s]"
      ]
     },
     "metadata": {},
     "output_type": "display_data"
    },
    {
     "data": {
      "application/vnd.jupyter.widget-view+json": {
       "model_id": "adb193aaf4d343ecbc7b012582c3cfc8",
       "version_major": 2,
       "version_minor": 0
      },
      "text/plain": [
       "Calculating Metrics:   0%|          | 0/8 [00:00<?, ?it/s]"
      ]
     },
     "metadata": {},
     "output_type": "display_data"
    },
    {
     "data": {
      "application/vnd.jupyter.widget-view+json": {
       "model_id": "f16e1552bdb745249031e45df0e5f633",
       "version_major": 2,
       "version_minor": 0
      },
      "text/plain": [
       "Calculating Metrics:   0%|          | 0/1 [00:00<?, ?it/s]"
      ]
     },
     "metadata": {},
     "output_type": "display_data"
    },
    {
     "data": {
      "application/vnd.jupyter.widget-view+json": {
       "model_id": "65c213b8daf4444d90d33cf9b70dd318",
       "version_major": 2,
       "version_minor": 0
      },
      "text/plain": [
       "Calculating Metrics:   0%|          | 0/8 [00:00<?, ?it/s]"
      ]
     },
     "metadata": {},
     "output_type": "display_data"
    },
    {
     "data": {
      "application/vnd.jupyter.widget-view+json": {
       "model_id": "6b33f188b8724dd586245abbbbed0b85",
       "version_major": 2,
       "version_minor": 0
      },
      "text/plain": [
       "Calculating Metrics:   0%|          | 0/1 [00:00<?, ?it/s]"
      ]
     },
     "metadata": {},
     "output_type": "display_data"
    },
    {
     "data": {
      "application/vnd.jupyter.widget-view+json": {
       "model_id": "0550f8bc3ae14f30a92f28b275d62e59",
       "version_major": 2,
       "version_minor": 0
      },
      "text/plain": [
       "Calculating Metrics:   0%|          | 0/1 [00:00<?, ?it/s]"
      ]
     },
     "metadata": {},
     "output_type": "display_data"
    },
    {
     "data": {
      "application/vnd.jupyter.widget-view+json": {
       "model_id": "26b3e2b37c1344b1a3692687b45251f8",
       "version_major": 2,
       "version_minor": 0
      },
      "text/plain": [
       "Calculating Metrics:   0%|          | 0/8 [00:00<?, ?it/s]"
      ]
     },
     "metadata": {},
     "output_type": "display_data"
    },
    {
     "data": {
      "application/vnd.jupyter.widget-view+json": {
       "model_id": "1fb0f5362dc746029646f79ebfbaafa0",
       "version_major": 2,
       "version_minor": 0
      },
      "text/plain": [
       "Calculating Metrics:   0%|          | 0/8 [00:00<?, ?it/s]"
      ]
     },
     "metadata": {},
     "output_type": "display_data"
    },
    {
     "data": {
      "application/vnd.jupyter.widget-view+json": {
       "model_id": "5c425549e58946c789c9501ae7f9086e",
       "version_major": 2,
       "version_minor": 0
      },
      "text/plain": [
       "Calculating Metrics:   0%|          | 0/8 [00:00<?, ?it/s]"
      ]
     },
     "metadata": {},
     "output_type": "display_data"
    },
    {
     "data": {
      "application/vnd.jupyter.widget-view+json": {
       "model_id": "cf71695d4c7148fe9f1c96a2061e0ef2",
       "version_major": 2,
       "version_minor": 0
      },
      "text/plain": [
       "Calculating Metrics:   0%|          | 0/8 [00:00<?, ?it/s]"
      ]
     },
     "metadata": {},
     "output_type": "display_data"
    },
    {
     "data": {
      "application/vnd.jupyter.widget-view+json": {
       "model_id": "92362fb380b141179a8ee746901580bb",
       "version_major": 2,
       "version_minor": 0
      },
      "text/plain": [
       "Calculating Metrics:   0%|          | 0/8 [00:00<?, ?it/s]"
      ]
     },
     "metadata": {},
     "output_type": "display_data"
    },
    {
     "data": {
      "application/vnd.jupyter.widget-view+json": {
       "model_id": "7e33af2725d142de8a042bb58f89c6eb",
       "version_major": 2,
       "version_minor": 0
      },
      "text/plain": [
       "Calculating Metrics:   0%|          | 0/8 [00:00<?, ?it/s]"
      ]
     },
     "metadata": {},
     "output_type": "display_data"
    },
    {
     "data": {
      "application/vnd.jupyter.widget-view+json": {
       "model_id": "68e1bf85475f44018cfb18e7a0633277",
       "version_major": 2,
       "version_minor": 0
      },
      "text/plain": [
       "Calculating Metrics:   0%|          | 0/8 [00:00<?, ?it/s]"
      ]
     },
     "metadata": {},
     "output_type": "display_data"
    },
    {
     "data": {
      "application/vnd.jupyter.widget-view+json": {
       "model_id": "38ac048241384738a5ee8a403db101e0",
       "version_major": 2,
       "version_minor": 0
      },
      "text/plain": [
       "Calculating Metrics:   0%|          | 0/8 [00:00<?, ?it/s]"
      ]
     },
     "metadata": {},
     "output_type": "display_data"
    },
    {
     "data": {
      "application/vnd.jupyter.widget-view+json": {
       "model_id": "0491666dacc7452f89ad98dc65d17b01",
       "version_major": 2,
       "version_minor": 0
      },
      "text/plain": [
       "Calculating Metrics:   0%|          | 0/8 [00:00<?, ?it/s]"
      ]
     },
     "metadata": {},
     "output_type": "display_data"
    },
    {
     "data": {
      "application/vnd.jupyter.widget-view+json": {
       "model_id": "2c99f76eee2143bb99d585cf91d24faf",
       "version_major": 2,
       "version_minor": 0
      },
      "text/plain": [
       "Calculating Metrics:   0%|          | 0/8 [00:00<?, ?it/s]"
      ]
     },
     "metadata": {},
     "output_type": "display_data"
    },
    {
     "data": {
      "application/vnd.jupyter.widget-view+json": {
       "model_id": "3b29096c619f46f4a24047fb6f996e92",
       "version_major": 2,
       "version_minor": 0
      },
      "text/plain": [
       "Calculating Metrics:   0%|          | 0/8 [00:00<?, ?it/s]"
      ]
     },
     "metadata": {},
     "output_type": "display_data"
    },
    {
     "data": {
      "application/vnd.jupyter.widget-view+json": {
       "model_id": "5fe39ddd62dd4ba09e4caa85dad7075e",
       "version_major": 2,
       "version_minor": 0
      },
      "text/plain": [
       "Calculating Metrics:   0%|          | 0/8 [00:00<?, ?it/s]"
      ]
     },
     "metadata": {},
     "output_type": "display_data"
    },
    {
     "data": {
      "application/vnd.jupyter.widget-view+json": {
       "model_id": "ba0355fd26604876964d6f60795ad91d",
       "version_major": 2,
       "version_minor": 0
      },
      "text/plain": [
       "Calculating Metrics:   0%|          | 0/8 [00:00<?, ?it/s]"
      ]
     },
     "metadata": {},
     "output_type": "display_data"
    },
    {
     "data": {
      "application/vnd.jupyter.widget-view+json": {
       "model_id": "d699769d851348b2aae4c8d481a9df02",
       "version_major": 2,
       "version_minor": 0
      },
      "text/plain": [
       "Calculating Metrics:   0%|          | 0/8 [00:00<?, ?it/s]"
      ]
     },
     "metadata": {},
     "output_type": "display_data"
    },
    {
     "data": {
      "application/vnd.jupyter.widget-view+json": {
       "model_id": "ecdb2be8cb0842389cc69ed72fff1cd7",
       "version_major": 2,
       "version_minor": 0
      },
      "text/plain": [
       "Calculating Metrics:   0%|          | 0/8 [00:00<?, ?it/s]"
      ]
     },
     "metadata": {},
     "output_type": "display_data"
    },
    {
     "data": {
      "application/vnd.jupyter.widget-view+json": {
       "model_id": "68b6eec092c548769d6f68f614f3b3c8",
       "version_major": 2,
       "version_minor": 0
      },
      "text/plain": [
       "Calculating Metrics:   0%|          | 0/8 [00:00<?, ?it/s]"
      ]
     },
     "metadata": {},
     "output_type": "display_data"
    },
    {
     "data": {
      "application/vnd.jupyter.widget-view+json": {
       "model_id": "bdd046def01046c1a1cfbebd2a8d9341",
       "version_major": 2,
       "version_minor": 0
      },
      "text/plain": [
       "Calculating Metrics:   0%|          | 0/8 [00:00<?, ?it/s]"
      ]
     },
     "metadata": {},
     "output_type": "display_data"
    },
    {
     "data": {
      "application/vnd.jupyter.widget-view+json": {
       "model_id": "8019d46d65214b64874eeda56a3cee3c",
       "version_major": 2,
       "version_minor": 0
      },
      "text/plain": [
       "Calculating Metrics:   0%|          | 0/8 [00:00<?, ?it/s]"
      ]
     },
     "metadata": {},
     "output_type": "display_data"
    },
    {
     "data": {
      "application/vnd.jupyter.widget-view+json": {
       "model_id": "058a2a19b3764bea91d593efd5d61798",
       "version_major": 2,
       "version_minor": 0
      },
      "text/plain": [
       "Calculating Metrics:   0%|          | 0/8 [00:00<?, ?it/s]"
      ]
     },
     "metadata": {},
     "output_type": "display_data"
    },
    {
     "data": {
      "application/vnd.jupyter.widget-view+json": {
       "model_id": "2de95b36156443f5920d5423d081ef3e",
       "version_major": 2,
       "version_minor": 0
      },
      "text/plain": [
       "Calculating Metrics:   0%|          | 0/9 [00:00<?, ?it/s]"
      ]
     },
     "metadata": {},
     "output_type": "display_data"
    },
    {
     "data": {
      "application/vnd.jupyter.widget-view+json": {
       "model_id": "22b1965f55e549c8ae1b68a57d6e9d17",
       "version_major": 2,
       "version_minor": 0
      },
      "text/plain": [
       "Calculating Metrics:   0%|          | 0/9 [00:00<?, ?it/s]"
      ]
     },
     "metadata": {},
     "output_type": "display_data"
    },
    {
     "data": {
      "application/vnd.jupyter.widget-view+json": {
       "model_id": "85cc63fc32a84f4bb7e4d763ee61a209",
       "version_major": 2,
       "version_minor": 0
      },
      "text/plain": [
       "Calculating Metrics:   0%|          | 0/8 [00:00<?, ?it/s]"
      ]
     },
     "metadata": {},
     "output_type": "display_data"
    },
    {
     "data": {
      "application/vnd.jupyter.widget-view+json": {
       "model_id": "8064ae31d0fc4746b9864127c99f0d71",
       "version_major": 2,
       "version_minor": 0
      },
      "text/plain": [
       "Calculating Metrics:   0%|          | 0/8 [00:00<?, ?it/s]"
      ]
     },
     "metadata": {},
     "output_type": "display_data"
    },
    {
     "data": {
      "application/vnd.jupyter.widget-view+json": {
       "model_id": "2bd7ec1c39ff4be985a7f83de3241fa3",
       "version_major": 2,
       "version_minor": 0
      },
      "text/plain": [
       "Calculating Metrics:   0%|          | 0/6 [00:00<?, ?it/s]"
      ]
     },
     "metadata": {},
     "output_type": "display_data"
    },
    {
     "data": {
      "application/vnd.jupyter.widget-view+json": {
       "model_id": "6e9c0971ddf845d892162e99f1f17810",
       "version_major": 2,
       "version_minor": 0
      },
      "text/plain": [
       "Calculating Metrics:   0%|          | 0/6 [00:00<?, ?it/s]"
      ]
     },
     "metadata": {},
     "output_type": "display_data"
    },
    {
     "data": {
      "application/vnd.jupyter.widget-view+json": {
       "model_id": "aaf8e43742c4476b8fc8b59e7eacddf1",
       "version_major": 2,
       "version_minor": 0
      },
      "text/plain": [
       "Calculating Metrics:   0%|          | 0/6 [00:00<?, ?it/s]"
      ]
     },
     "metadata": {},
     "output_type": "display_data"
    },
    {
     "data": {
      "application/vnd.jupyter.widget-view+json": {
       "model_id": "7c135b32c1184d81af4bfbd048fe68c2",
       "version_major": 2,
       "version_minor": 0
      },
      "text/plain": [
       "Calculating Metrics:   0%|          | 0/6 [00:00<?, ?it/s]"
      ]
     },
     "metadata": {},
     "output_type": "display_data"
    },
    {
     "data": {
      "application/vnd.jupyter.widget-view+json": {
       "model_id": "be72e1a4d2154673a8c29d6984b57d35",
       "version_major": 2,
       "version_minor": 0
      },
      "text/plain": [
       "Calculating Metrics:   0%|          | 0/6 [00:00<?, ?it/s]"
      ]
     },
     "metadata": {},
     "output_type": "display_data"
    },
    {
     "data": {
      "application/vnd.jupyter.widget-view+json": {
       "model_id": "2ad83aba57724a61b8467197904cc15f",
       "version_major": 2,
       "version_minor": 0
      },
      "text/plain": [
       "Calculating Metrics:   0%|          | 0/6 [00:00<?, ?it/s]"
      ]
     },
     "metadata": {},
     "output_type": "display_data"
    },
    {
     "data": {
      "application/vnd.jupyter.widget-view+json": {
       "model_id": "48dda1dd64b346298a512c0449508fa5",
       "version_major": 2,
       "version_minor": 0
      },
      "text/plain": [
       "Calculating Metrics:   0%|          | 0/6 [00:00<?, ?it/s]"
      ]
     },
     "metadata": {},
     "output_type": "display_data"
    },
    {
     "data": {
      "application/vnd.jupyter.widget-view+json": {
       "model_id": "b9584ef2e0d04e5db4963e8cba5dc53f",
       "version_major": 2,
       "version_minor": 0
      },
      "text/plain": [
       "Calculating Metrics:   0%|          | 0/6 [00:00<?, ?it/s]"
      ]
     },
     "metadata": {},
     "output_type": "display_data"
    },
    {
     "data": {
      "application/vnd.jupyter.widget-view+json": {
       "model_id": "de08063b7dc94f9cb8a465b91d71f087",
       "version_major": 2,
       "version_minor": 0
      },
      "text/plain": [
       "Calculating Metrics:   0%|          | 0/6 [00:00<?, ?it/s]"
      ]
     },
     "metadata": {},
     "output_type": "display_data"
    },
    {
     "data": {
      "application/vnd.jupyter.widget-view+json": {
       "model_id": "0de7be667c174b3686581c2634cbeb9e",
       "version_major": 2,
       "version_minor": 0
      },
      "text/plain": [
       "Calculating Metrics:   0%|          | 0/6 [00:00<?, ?it/s]"
      ]
     },
     "metadata": {},
     "output_type": "display_data"
    },
    {
     "data": {
      "application/vnd.jupyter.widget-view+json": {
       "model_id": "b48cc4aa84194d2e9ea615db0b3a2a2b",
       "version_major": 2,
       "version_minor": 0
      },
      "text/plain": [
       "Calculating Metrics:   0%|          | 0/6 [00:00<?, ?it/s]"
      ]
     },
     "metadata": {},
     "output_type": "display_data"
    },
    {
     "data": {
      "application/vnd.jupyter.widget-view+json": {
       "model_id": "f95800aa4b60478fbe1042ae05ffd06a",
       "version_major": 2,
       "version_minor": 0
      },
      "text/plain": [
       "Calculating Metrics:   0%|          | 0/6 [00:00<?, ?it/s]"
      ]
     },
     "metadata": {},
     "output_type": "display_data"
    },
    {
     "data": {
      "application/vnd.jupyter.widget-view+json": {
       "model_id": "89fc46241e154b9c8558f8e78e5f4da1",
       "version_major": 2,
       "version_minor": 0
      },
      "text/plain": [
       "Calculating Metrics:   0%|          | 0/6 [00:00<?, ?it/s]"
      ]
     },
     "metadata": {},
     "output_type": "display_data"
    },
    {
     "data": {
      "application/vnd.jupyter.widget-view+json": {
       "model_id": "fb83fa6266394fbc96f130b9d3513406",
       "version_major": 2,
       "version_minor": 0
      },
      "text/plain": [
       "Calculating Metrics:   0%|          | 0/6 [00:00<?, ?it/s]"
      ]
     },
     "metadata": {},
     "output_type": "display_data"
    },
    {
     "data": {
      "application/vnd.jupyter.widget-view+json": {
       "model_id": "22baf3048fc248fd96a1240905266dba",
       "version_major": 2,
       "version_minor": 0
      },
      "text/plain": [
       "Calculating Metrics:   0%|          | 0/6 [00:00<?, ?it/s]"
      ]
     },
     "metadata": {},
     "output_type": "display_data"
    },
    {
     "data": {
      "application/vnd.jupyter.widget-view+json": {
       "model_id": "0ae7725305a743d7b06f2b58b338360b",
       "version_major": 2,
       "version_minor": 0
      },
      "text/plain": [
       "Calculating Metrics:   0%|          | 0/6 [00:00<?, ?it/s]"
      ]
     },
     "metadata": {},
     "output_type": "display_data"
    },
    {
     "data": {
      "application/vnd.jupyter.widget-view+json": {
       "model_id": "ff4a917465854c5aa0ba6f3d479c9bd6",
       "version_major": 2,
       "version_minor": 0
      },
      "text/plain": [
       "Calculating Metrics:   0%|          | 0/6 [00:00<?, ?it/s]"
      ]
     },
     "metadata": {},
     "output_type": "display_data"
    },
    {
     "data": {
      "application/vnd.jupyter.widget-view+json": {
       "model_id": "e71c81d7d9bb4bccbc4ac2eff077268b",
       "version_major": 2,
       "version_minor": 0
      },
      "text/plain": [
       "Calculating Metrics:   0%|          | 0/6 [00:00<?, ?it/s]"
      ]
     },
     "metadata": {},
     "output_type": "display_data"
    },
    {
     "data": {
      "application/vnd.jupyter.widget-view+json": {
       "model_id": "38596b2b8fe240878850a436ed23b9d5",
       "version_major": 2,
       "version_minor": 0
      },
      "text/plain": [
       "Calculating Metrics:   0%|          | 0/6 [00:00<?, ?it/s]"
      ]
     },
     "metadata": {},
     "output_type": "display_data"
    },
    {
     "data": {
      "application/vnd.jupyter.widget-view+json": {
       "model_id": "40f66bc59ae948fc8cf0cf980ef42e73",
       "version_major": 2,
       "version_minor": 0
      },
      "text/plain": [
       "Calculating Metrics:   0%|          | 0/6 [00:00<?, ?it/s]"
      ]
     },
     "metadata": {},
     "output_type": "display_data"
    },
    {
     "data": {
      "application/vnd.jupyter.widget-view+json": {
       "model_id": "cd49d7adfac24cbdb4e4da14a662ee12",
       "version_major": 2,
       "version_minor": 0
      },
      "text/plain": [
       "Calculating Metrics:   0%|          | 0/6 [00:00<?, ?it/s]"
      ]
     },
     "metadata": {},
     "output_type": "display_data"
    },
    {
     "data": {
      "application/vnd.jupyter.widget-view+json": {
       "model_id": "9a71ece46d304779a657fd563829b635",
       "version_major": 2,
       "version_minor": 0
      },
      "text/plain": [
       "Calculating Metrics:   0%|          | 0/6 [00:00<?, ?it/s]"
      ]
     },
     "metadata": {},
     "output_type": "display_data"
    },
    {
     "data": {
      "application/vnd.jupyter.widget-view+json": {
       "model_id": "bdb7593f239d45a3907dd49cadb2bf66",
       "version_major": 2,
       "version_minor": 0
      },
      "text/plain": [
       "Calculating Metrics:   0%|          | 0/6 [00:00<?, ?it/s]"
      ]
     },
     "metadata": {},
     "output_type": "display_data"
    },
    {
     "data": {
      "application/vnd.jupyter.widget-view+json": {
       "model_id": "5a1df5edd19c41f6aeb5b18da674f7b3",
       "version_major": 2,
       "version_minor": 0
      },
      "text/plain": [
       "Calculating Metrics:   0%|          | 0/6 [00:00<?, ?it/s]"
      ]
     },
     "metadata": {},
     "output_type": "display_data"
    },
    {
     "data": {
      "application/vnd.jupyter.widget-view+json": {
       "model_id": "4f88b1a2b19b4251aee47557b11eeb5b",
       "version_major": 2,
       "version_minor": 0
      },
      "text/plain": [
       "Calculating Metrics:   0%|          | 0/6 [00:00<?, ?it/s]"
      ]
     },
     "metadata": {},
     "output_type": "display_data"
    },
    {
     "data": {
      "application/vnd.jupyter.widget-view+json": {
       "model_id": "2ac6b7850ec44fea9ec9229e4c570658",
       "version_major": 2,
       "version_minor": 0
      },
      "text/plain": [
       "Calculating Metrics:   0%|          | 0/6 [00:00<?, ?it/s]"
      ]
     },
     "metadata": {},
     "output_type": "display_data"
    },
    {
     "data": {
      "application/vnd.jupyter.widget-view+json": {
       "model_id": "381427a4f4054753aaf27e9635b9c859",
       "version_major": 2,
       "version_minor": 0
      },
      "text/plain": [
       "Calculating Metrics:   0%|          | 0/6 [00:00<?, ?it/s]"
      ]
     },
     "metadata": {},
     "output_type": "display_data"
    },
    {
     "data": {
      "application/vnd.jupyter.widget-view+json": {
       "model_id": "9fd7f545799e4ce09744d7c48708aa3c",
       "version_major": 2,
       "version_minor": 0
      },
      "text/plain": [
       "Calculating Metrics:   0%|          | 0/6 [00:00<?, ?it/s]"
      ]
     },
     "metadata": {},
     "output_type": "display_data"
    },
    {
     "data": {
      "application/vnd.jupyter.widget-view+json": {
       "model_id": "190b5763559f40888e3fd3b16819b599",
       "version_major": 2,
       "version_minor": 0
      },
      "text/plain": [
       "Calculating Metrics:   0%|          | 0/6 [00:00<?, ?it/s]"
      ]
     },
     "metadata": {},
     "output_type": "display_data"
    },
    {
     "data": {
      "application/vnd.jupyter.widget-view+json": {
       "model_id": "1370fb46d1f74299914ebd77e08b0a02",
       "version_major": 2,
       "version_minor": 0
      },
      "text/plain": [
       "Calculating Metrics:   0%|          | 0/6 [00:00<?, ?it/s]"
      ]
     },
     "metadata": {},
     "output_type": "display_data"
    },
    {
     "data": {
      "application/vnd.jupyter.widget-view+json": {
       "model_id": "75c9fe86cce3433ebc7af13d7e595d86",
       "version_major": 2,
       "version_minor": 0
      },
      "text/plain": [
       "Calculating Metrics:   0%|          | 0/6 [00:00<?, ?it/s]"
      ]
     },
     "metadata": {},
     "output_type": "display_data"
    },
    {
     "data": {
      "application/vnd.jupyter.widget-view+json": {
       "model_id": "bf6d7dc9022f400f98cd8441614c1f5e",
       "version_major": 2,
       "version_minor": 0
      },
      "text/plain": [
       "Calculating Metrics:   0%|          | 0/6 [00:00<?, ?it/s]"
      ]
     },
     "metadata": {},
     "output_type": "display_data"
    }
   ],
   "source": [
    "validate_ge_monthly()"
   ]
  },
  {
   "cell_type": "code",
   "execution_count": 15,
   "id": "e944853f",
   "metadata": {},
   "outputs": [],
   "source": [
    "checkpoint = context.add_or_update_checkpoint(\n",
    "    name=\"Freddie_Mac_Monthly_v1\",\n",
    "    validator=validator\n",
    ")"
   ]
  },
  {
   "cell_type": "code",
   "execution_count": 16,
   "id": "687fa030",
   "metadata": {},
   "outputs": [
    {
     "data": {
      "application/vnd.jupyter.widget-view+json": {
       "model_id": "3ea2218f670046189e1e7f60b26e407e",
       "version_major": 2,
       "version_minor": 0
      },
      "text/plain": [
       "Calculating Metrics:   0%|          | 0/192 [00:00<?, ?it/s]"
      ]
     },
     "metadata": {},
     "output_type": "display_data"
    }
   ],
   "source": [
    "checkpoint_result = checkpoint.run(run_name=\"Manual_run\")"
   ]
  },
  {
   "cell_type": "code",
   "execution_count": 17,
   "id": "c0208bf4",
   "metadata": {},
   "outputs": [
    {
     "data": {
      "text/plain": [
       "{'local_site': 'file:///Users/shruti/Desktop/Assignment_1/Part_2/GEX_Monthly/gx/uncommitted/data_docs/local_site/index.html'}"
      ]
     },
     "execution_count": 17,
     "metadata": {},
     "output_type": "execute_result"
    }
   ],
   "source": [
    "context.build_data_docs()"
   ]
  },
  {
   "cell_type": "code",
   "execution_count": null,
   "id": "1dda6dc3",
   "metadata": {},
   "outputs": [],
   "source": []
  }
 ],
 "metadata": {
  "kernelspec": {
   "display_name": ".venv",
   "language": "python",
   "name": "python3"
  },
  "language_info": {
   "codemirror_mode": {
    "name": "ipython",
    "version": 3
   },
   "file_extension": ".py",
   "mimetype": "text/x-python",
   "name": "python",
   "nbconvert_exporter": "python",
   "pygments_lexer": "ipython3",
   "version": "3.8.18"
  }
 },
 "nbformat": 4,
 "nbformat_minor": 5
}
