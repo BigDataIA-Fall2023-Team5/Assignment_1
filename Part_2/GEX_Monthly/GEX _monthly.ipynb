{
 "cells": [
  {
   "cell_type": "code",
   "execution_count": 1,
   "id": "14634814",
   "metadata": {},
   "outputs": [],
   "source": [
    "import os\n",
    "import pandas as pd\n",
    "import great_expectations as gx\n",
    "from great_expectations.data_context import FileDataContext"
   ]
  },
  {
   "cell_type": "code",
   "execution_count": 2,
   "id": "c12a7301",
   "metadata": {},
   "outputs": [],
   "source": [
    "import streamlit as st\n",
    "import numpy as np\n",
    "from io import StringIO"
   ]
  },
  {
   "cell_type": "code",
   "execution_count": 3,
   "id": "9f84e117",
   "metadata": {},
   "outputs": [],
   "source": [
    "path_to_repo_dir=\"/Users/shruti/Desktop/Assignment_1/Part_2/GEX_Monthly\" #local path to csv\n",
    "path_to_data_dir=f\"{path_to_repo_dir}/gx/data\" \n",
    "expectation_suite_name=\"GE_Suite\" "
   ]
  },
  {
   "cell_type": "code",
   "execution_count": 4,
   "id": "5775882d",
   "metadata": {},
   "outputs": [],
   "source": [
    "context = FileDataContext.create(project_root_dir=path_to_repo_dir)"
   ]
  },
  {
   "cell_type": "code",
   "execution_count": 5,
   "id": "3edfabc3",
   "metadata": {},
   "outputs": [],
   "source": [
    "os.mkdir(path_to_data_dir)\n",
    "\n",
    "df = pd.read_csv('/Users/shruti/Desktop/Assignment_1/Part_2/datasets/historical_data_2021Q1.txt', delimiter=\"|\", header = None)\n",
    "\n"
   ]
  },
  {
   "cell_type": "code",
   "execution_count": 6,
   "id": "de48b47d",
   "metadata": {},
   "outputs": [],
   "source": [
    "df.columns=['Loan_Sequence_Number','Monthly_Reporting_Period','Current_Actual_UPB','Current_Loan_Delinquency_Status','Loan_Age','Remaining_Months_to_Legal_Maturity','Defect_Settlement_Date','Modification_Flag','Zero_Balance_Code','Zero_Balance_Effective_Date','Current_Interest_Rate','Current_Deferred_UPB','Due_Date_of_Last_Paid_Installment_(DDLPI)','MI_Recoveries','Net_Sales_Proceeds','Non_MI_Recoveries','Expenses','Legal_Costs','Maintenance_and_Preservation_Costs','Taxes_and_Insurance','Miscellaneous_Expenses','Actual_Loss_Calculation','Modification_Cost','Step_Modification_Flag','Deferred_Payment_Plan','Estimated_Loan_to_Value_(ELTV)','Zero_Balance_Removal_UPB','Delinquent_Accrued_Interest','Delinquency_Due_to_Disaster','Borrower_Assistance_Status_Code','Current_Month_Modification_Cost','Interest_Bearing_UPB']\n",
    "\n",
    "# Save the DataFrame as a CSV file\n",
    "df.to_csv(f\"{path_to_repo_dir}/gx/data/historical_data_2022Q1.csv\", index=False)"
   ]
  },
  {
   "cell_type": "code",
   "execution_count": 7,
   "id": "caabc39e",
   "metadata": {},
   "outputs": [
    {
     "data": {
      "text/html": [
       "<div>\n",
       "<style scoped>\n",
       "    .dataframe tbody tr th:only-of-type {\n",
       "        vertical-align: middle;\n",
       "    }\n",
       "\n",
       "    .dataframe tbody tr th {\n",
       "        vertical-align: top;\n",
       "    }\n",
       "\n",
       "    .dataframe thead th {\n",
       "        text-align: right;\n",
       "    }\n",
       "</style>\n",
       "<table border=\"1\" class=\"dataframe\">\n",
       "  <thead>\n",
       "    <tr style=\"text-align: right;\">\n",
       "      <th></th>\n",
       "      <th>Loan_Sequence_Number</th>\n",
       "      <th>Monthly_Reporting_Period</th>\n",
       "      <th>Current_Actual_UPB</th>\n",
       "      <th>Current_Loan_Delinquency_Status</th>\n",
       "      <th>Loan_Age</th>\n",
       "      <th>Remaining_Months_to_Legal_Maturity</th>\n",
       "      <th>Defect_Settlement_Date</th>\n",
       "      <th>Modification_Flag</th>\n",
       "      <th>Zero_Balance_Code</th>\n",
       "      <th>Zero_Balance_Effective_Date</th>\n",
       "      <th>...</th>\n",
       "      <th>Modification_Cost</th>\n",
       "      <th>Step_Modification_Flag</th>\n",
       "      <th>Deferred_Payment_Plan</th>\n",
       "      <th>Estimated_Loan_to_Value_(ELTV)</th>\n",
       "      <th>Zero_Balance_Removal_UPB</th>\n",
       "      <th>Delinquent_Accrued_Interest</th>\n",
       "      <th>Delinquency_Due_to_Disaster</th>\n",
       "      <th>Borrower_Assistance_Status_Code</th>\n",
       "      <th>Current_Month_Modification_Cost</th>\n",
       "      <th>Interest_Bearing_UPB</th>\n",
       "    </tr>\n",
       "  </thead>\n",
       "  <tbody>\n",
       "    <tr>\n",
       "      <th>0</th>\n",
       "      <td>725</td>\n",
       "      <td>202103</td>\n",
       "      <td>Y</td>\n",
       "      <td>205102</td>\n",
       "      <td>15804.0</td>\n",
       "      <td>0</td>\n",
       "      <td>1</td>\n",
       "      <td>P</td>\n",
       "      <td>80</td>\n",
       "      <td>30</td>\n",
       "      <td>...</td>\n",
       "      <td>1</td>\n",
       "      <td>WELLS FARGO BANK, N.A.</td>\n",
       "      <td>WELLS FARGO BANK, N.A.</td>\n",
       "      <td>NaN</td>\n",
       "      <td>NaN</td>\n",
       "      <td>9</td>\n",
       "      <td>NaN</td>\n",
       "      <td>2</td>\n",
       "      <td>N</td>\n",
       "      <td>7</td>\n",
       "    </tr>\n",
       "    <tr>\n",
       "      <th>1</th>\n",
       "      <td>737</td>\n",
       "      <td>202103</td>\n",
       "      <td>N</td>\n",
       "      <td>205102</td>\n",
       "      <td>NaN</td>\n",
       "      <td>0</td>\n",
       "      <td>1</td>\n",
       "      <td>P</td>\n",
       "      <td>74</td>\n",
       "      <td>27</td>\n",
       "      <td>...</td>\n",
       "      <td>2</td>\n",
       "      <td>Other sellers</td>\n",
       "      <td>U.S. BANK N.A.</td>\n",
       "      <td>NaN</td>\n",
       "      <td>NaN</td>\n",
       "      <td>9</td>\n",
       "      <td>NaN</td>\n",
       "      <td>2</td>\n",
       "      <td>N</td>\n",
       "      <td>7</td>\n",
       "    </tr>\n",
       "    <tr>\n",
       "      <th>2</th>\n",
       "      <td>744</td>\n",
       "      <td>202105</td>\n",
       "      <td>N</td>\n",
       "      <td>204104</td>\n",
       "      <td>48864.0</td>\n",
       "      <td>6</td>\n",
       "      <td>1</td>\n",
       "      <td>P</td>\n",
       "      <td>85</td>\n",
       "      <td>34</td>\n",
       "      <td>...</td>\n",
       "      <td>1</td>\n",
       "      <td>Other sellers</td>\n",
       "      <td>U.S. BANK N.A.</td>\n",
       "      <td>NaN</td>\n",
       "      <td>NaN</td>\n",
       "      <td>9</td>\n",
       "      <td>NaN</td>\n",
       "      <td>1</td>\n",
       "      <td>N</td>\n",
       "      <td>Y</td>\n",
       "    </tr>\n",
       "    <tr>\n",
       "      <th>3</th>\n",
       "      <td>676</td>\n",
       "      <td>202104</td>\n",
       "      <td>N</td>\n",
       "      <td>204103</td>\n",
       "      <td>NaN</td>\n",
       "      <td>0</td>\n",
       "      <td>1</td>\n",
       "      <td>P</td>\n",
       "      <td>79</td>\n",
       "      <td>23</td>\n",
       "      <td>...</td>\n",
       "      <td>2</td>\n",
       "      <td>Other sellers</td>\n",
       "      <td>U.S. BANK N.A.</td>\n",
       "      <td>NaN</td>\n",
       "      <td>NaN</td>\n",
       "      <td>9</td>\n",
       "      <td>NaN</td>\n",
       "      <td>2</td>\n",
       "      <td>N</td>\n",
       "      <td>7</td>\n",
       "    </tr>\n",
       "    <tr>\n",
       "      <th>4</th>\n",
       "      <td>765</td>\n",
       "      <td>202103</td>\n",
       "      <td>N</td>\n",
       "      <td>203602</td>\n",
       "      <td>12700.0</td>\n",
       "      <td>0</td>\n",
       "      <td>1</td>\n",
       "      <td>S</td>\n",
       "      <td>60</td>\n",
       "      <td>43</td>\n",
       "      <td>...</td>\n",
       "      <td>2</td>\n",
       "      <td>Other sellers</td>\n",
       "      <td>Other servicers</td>\n",
       "      <td>NaN</td>\n",
       "      <td>NaN</td>\n",
       "      <td>9</td>\n",
       "      <td>NaN</td>\n",
       "      <td>1</td>\n",
       "      <td>N</td>\n",
       "      <td>7</td>\n",
       "    </tr>\n",
       "  </tbody>\n",
       "</table>\n",
       "<p>5 rows × 32 columns</p>\n",
       "</div>"
      ],
      "text/plain": [
       "   Loan_Sequence_Number  Monthly_Reporting_Period Current_Actual_UPB  \\\n",
       "0                   725                    202103                  Y   \n",
       "1                   737                    202103                  N   \n",
       "2                   744                    202105                  N   \n",
       "3                   676                    202104                  N   \n",
       "4                   765                    202103                  N   \n",
       "\n",
       "   Current_Loan_Delinquency_Status  Loan_Age  \\\n",
       "0                           205102   15804.0   \n",
       "1                           205102       NaN   \n",
       "2                           204104   48864.0   \n",
       "3                           204103       NaN   \n",
       "4                           203602   12700.0   \n",
       "\n",
       "   Remaining_Months_to_Legal_Maturity  Defect_Settlement_Date  \\\n",
       "0                                   0                       1   \n",
       "1                                   0                       1   \n",
       "2                                   6                       1   \n",
       "3                                   0                       1   \n",
       "4                                   0                       1   \n",
       "\n",
       "  Modification_Flag  Zero_Balance_Code  Zero_Balance_Effective_Date  ...  \\\n",
       "0                 P                 80                           30  ...   \n",
       "1                 P                 74                           27  ...   \n",
       "2                 P                 85                           34  ...   \n",
       "3                 P                 79                           23  ...   \n",
       "4                 S                 60                           43  ...   \n",
       "\n",
       "   Modification_Cost  Step_Modification_Flag   Deferred_Payment_Plan  \\\n",
       "0                  1  WELLS FARGO BANK, N.A.  WELLS FARGO BANK, N.A.   \n",
       "1                  2           Other sellers          U.S. BANK N.A.   \n",
       "2                  1           Other sellers          U.S. BANK N.A.   \n",
       "3                  2           Other sellers          U.S. BANK N.A.   \n",
       "4                  2           Other sellers         Other servicers   \n",
       "\n",
       "  Estimated_Loan_to_Value_(ELTV) Zero_Balance_Removal_UPB  \\\n",
       "0                            NaN                      NaN   \n",
       "1                            NaN                      NaN   \n",
       "2                            NaN                      NaN   \n",
       "3                            NaN                      NaN   \n",
       "4                            NaN                      NaN   \n",
       "\n",
       "  Delinquent_Accrued_Interest Delinquency_Due_to_Disaster  \\\n",
       "0                           9                         NaN   \n",
       "1                           9                         NaN   \n",
       "2                           9                         NaN   \n",
       "3                           9                         NaN   \n",
       "4                           9                         NaN   \n",
       "\n",
       "  Borrower_Assistance_Status_Code  Current_Month_Modification_Cost  \\\n",
       "0                               2                                N   \n",
       "1                               2                                N   \n",
       "2                               1                                N   \n",
       "3                               2                                N   \n",
       "4                               1                                N   \n",
       "\n",
       "  Interest_Bearing_UPB  \n",
       "0                    7  \n",
       "1                    7  \n",
       "2                    Y  \n",
       "3                    7  \n",
       "4                    7  \n",
       "\n",
       "[5 rows x 32 columns]"
      ]
     },
     "execution_count": 7,
     "metadata": {},
     "output_type": "execute_result"
    }
   ],
   "source": [
    "df.head()"
   ]
  },
  {
   "cell_type": "code",
   "execution_count": 8,
   "id": "6889a27e",
   "metadata": {},
   "outputs": [],
   "source": [
    "# Give your Datasource a name\n",
    "datasource_name = \"Local_FileSystem_Source\"\n",
    "datasource = context.sources.add_pandas_filesystem(name=datasource_name, base_directory=path_to_data_dir)\n",
    "\n",
    "# Give your first Asset a name\n",
    "asset_name = \"Freddie_Mac\"\n",
    "batching_regex = r\"historical_data_\\d{4}Q\\d.csv\" #change this\n",
    "\n",
    "asset = datasource.add_csv_asset(name=asset_name,batching_regex=batching_regex)\n",
    "\n",
    "# Build batch request\n",
    "batch_request = asset.build_batch_request()"
   ]
  },
  {
   "cell_type": "markdown",
   "id": "b9a3404e",
   "metadata": {},
   "source": [
    "Create expectations suite"
   ]
  },
  {
   "cell_type": "code",
   "execution_count": 9,
   "id": "2c89495e",
   "metadata": {},
   "outputs": [],
   "source": [
    "data_asset = context.get_datasource(datasource_name).get_asset(asset_name)\n",
    "batch_request = data_asset.build_batch_request()"
   ]
  },
  {
   "cell_type": "code",
   "execution_count": 10,
   "metadata": {},
   "outputs": [
    {
     "data": {
      "text/plain": [
       "[]"
      ]
     },
     "execution_count": 10,
     "metadata": {},
     "output_type": "execute_result"
    }
   ],
   "source": [
    "context.list_expectation_suite_names()"
   ]
  },
  {
   "cell_type": "code",
   "execution_count": 11,
   "id": "b711dcce",
   "metadata": {},
   "outputs": [
    {
     "data": {
      "text/plain": [
       "{\n",
       "  \"expectation_suite_name\": \"GE_Suite\",\n",
       "  \"ge_cloud_id\": null,\n",
       "  \"expectations\": [],\n",
       "  \"data_asset_type\": null,\n",
       "  \"meta\": {\n",
       "    \"great_expectations_version\": \"0.17.19\"\n",
       "  }\n",
       "}"
      ]
     },
     "execution_count": 11,
     "metadata": {},
     "output_type": "execute_result"
    }
   ],
   "source": [
    "context. add_or_update_expectation_suite(expectation_suite_name)"
   ]
  },
  {
   "cell_type": "code",
   "execution_count": 12,
   "id": "82c9d439",
   "metadata": {},
   "outputs": [
    {
     "data": {
      "application/vnd.jupyter.widget-view+json": {
       "model_id": "fe9abdbb67ab434f880a80c2bec4bf4f",
       "version_major": 2,
       "version_minor": 0
      },
      "text/plain": [
       "Calculating Metrics:   0%|          | 0/1 [00:00<?, ?it/s]"
      ]
     },
     "metadata": {},
     "output_type": "display_data"
    },
    {
     "data": {
      "text/html": [
       "<div>\n",
       "<style scoped>\n",
       "    .dataframe tbody tr th:only-of-type {\n",
       "        vertical-align: middle;\n",
       "    }\n",
       "\n",
       "    .dataframe tbody tr th {\n",
       "        vertical-align: top;\n",
       "    }\n",
       "\n",
       "    .dataframe thead th {\n",
       "        text-align: right;\n",
       "    }\n",
       "</style>\n",
       "<table border=\"1\" class=\"dataframe\">\n",
       "  <thead>\n",
       "    <tr style=\"text-align: right;\">\n",
       "      <th></th>\n",
       "      <th>Loan_Sequence_Number</th>\n",
       "      <th>Monthly_Reporting_Period</th>\n",
       "      <th>Current_Actual_UPB</th>\n",
       "      <th>Current_Loan_Delinquency_Status</th>\n",
       "      <th>Loan_Age</th>\n",
       "      <th>Remaining_Months_to_Legal_Maturity</th>\n",
       "      <th>Defect_Settlement_Date</th>\n",
       "      <th>Modification_Flag</th>\n",
       "      <th>Zero_Balance_Code</th>\n",
       "      <th>Zero_Balance_Effective_Date</th>\n",
       "      <th>...</th>\n",
       "      <th>Modification_Cost</th>\n",
       "      <th>Step_Modification_Flag</th>\n",
       "      <th>Deferred_Payment_Plan</th>\n",
       "      <th>Estimated_Loan_to_Value_(ELTV)</th>\n",
       "      <th>Zero_Balance_Removal_UPB</th>\n",
       "      <th>Delinquent_Accrued_Interest</th>\n",
       "      <th>Delinquency_Due_to_Disaster</th>\n",
       "      <th>Borrower_Assistance_Status_Code</th>\n",
       "      <th>Current_Month_Modification_Cost</th>\n",
       "      <th>Interest_Bearing_UPB</th>\n",
       "    </tr>\n",
       "  </thead>\n",
       "  <tbody>\n",
       "    <tr>\n",
       "      <th>0</th>\n",
       "      <td>725</td>\n",
       "      <td>202103</td>\n",
       "      <td>Y</td>\n",
       "      <td>205102</td>\n",
       "      <td>15804.0</td>\n",
       "      <td>0</td>\n",
       "      <td>1</td>\n",
       "      <td>P</td>\n",
       "      <td>80</td>\n",
       "      <td>30</td>\n",
       "      <td>...</td>\n",
       "      <td>1</td>\n",
       "      <td>WELLS FARGO BANK, N.A.</td>\n",
       "      <td>WELLS FARGO BANK, N.A.</td>\n",
       "      <td>NaN</td>\n",
       "      <td>NaN</td>\n",
       "      <td>9</td>\n",
       "      <td>NaN</td>\n",
       "      <td>2</td>\n",
       "      <td>N</td>\n",
       "      <td>7</td>\n",
       "    </tr>\n",
       "    <tr>\n",
       "      <th>1</th>\n",
       "      <td>737</td>\n",
       "      <td>202103</td>\n",
       "      <td>N</td>\n",
       "      <td>205102</td>\n",
       "      <td>NaN</td>\n",
       "      <td>0</td>\n",
       "      <td>1</td>\n",
       "      <td>P</td>\n",
       "      <td>74</td>\n",
       "      <td>27</td>\n",
       "      <td>...</td>\n",
       "      <td>2</td>\n",
       "      <td>Other sellers</td>\n",
       "      <td>U.S. BANK N.A.</td>\n",
       "      <td>NaN</td>\n",
       "      <td>NaN</td>\n",
       "      <td>9</td>\n",
       "      <td>NaN</td>\n",
       "      <td>2</td>\n",
       "      <td>N</td>\n",
       "      <td>7</td>\n",
       "    </tr>\n",
       "    <tr>\n",
       "      <th>2</th>\n",
       "      <td>744</td>\n",
       "      <td>202105</td>\n",
       "      <td>N</td>\n",
       "      <td>204104</td>\n",
       "      <td>48864.0</td>\n",
       "      <td>6</td>\n",
       "      <td>1</td>\n",
       "      <td>P</td>\n",
       "      <td>85</td>\n",
       "      <td>34</td>\n",
       "      <td>...</td>\n",
       "      <td>1</td>\n",
       "      <td>Other sellers</td>\n",
       "      <td>U.S. BANK N.A.</td>\n",
       "      <td>NaN</td>\n",
       "      <td>NaN</td>\n",
       "      <td>9</td>\n",
       "      <td>NaN</td>\n",
       "      <td>1</td>\n",
       "      <td>N</td>\n",
       "      <td>Y</td>\n",
       "    </tr>\n",
       "    <tr>\n",
       "      <th>3</th>\n",
       "      <td>676</td>\n",
       "      <td>202104</td>\n",
       "      <td>N</td>\n",
       "      <td>204103</td>\n",
       "      <td>NaN</td>\n",
       "      <td>0</td>\n",
       "      <td>1</td>\n",
       "      <td>P</td>\n",
       "      <td>79</td>\n",
       "      <td>23</td>\n",
       "      <td>...</td>\n",
       "      <td>2</td>\n",
       "      <td>Other sellers</td>\n",
       "      <td>U.S. BANK N.A.</td>\n",
       "      <td>NaN</td>\n",
       "      <td>NaN</td>\n",
       "      <td>9</td>\n",
       "      <td>NaN</td>\n",
       "      <td>2</td>\n",
       "      <td>N</td>\n",
       "      <td>7</td>\n",
       "    </tr>\n",
       "    <tr>\n",
       "      <th>4</th>\n",
       "      <td>765</td>\n",
       "      <td>202103</td>\n",
       "      <td>N</td>\n",
       "      <td>203602</td>\n",
       "      <td>12700.0</td>\n",
       "      <td>0</td>\n",
       "      <td>1</td>\n",
       "      <td>S</td>\n",
       "      <td>60</td>\n",
       "      <td>43</td>\n",
       "      <td>...</td>\n",
       "      <td>2</td>\n",
       "      <td>Other sellers</td>\n",
       "      <td>Other servicers</td>\n",
       "      <td>NaN</td>\n",
       "      <td>NaN</td>\n",
       "      <td>9</td>\n",
       "      <td>NaN</td>\n",
       "      <td>1</td>\n",
       "      <td>N</td>\n",
       "      <td>7</td>\n",
       "    </tr>\n",
       "  </tbody>\n",
       "</table>\n",
       "<p>5 rows × 32 columns</p>\n",
       "</div>"
      ],
      "text/plain": [
       "   Loan_Sequence_Number  Monthly_Reporting_Period Current_Actual_UPB  \\\n",
       "0                   725                    202103                  Y   \n",
       "1                   737                    202103                  N   \n",
       "2                   744                    202105                  N   \n",
       "3                   676                    202104                  N   \n",
       "4                   765                    202103                  N   \n",
       "\n",
       "   Current_Loan_Delinquency_Status  Loan_Age  \\\n",
       "0                           205102   15804.0   \n",
       "1                           205102       NaN   \n",
       "2                           204104   48864.0   \n",
       "3                           204103       NaN   \n",
       "4                           203602   12700.0   \n",
       "\n",
       "   Remaining_Months_to_Legal_Maturity  Defect_Settlement_Date  \\\n",
       "0                                   0                       1   \n",
       "1                                   0                       1   \n",
       "2                                   6                       1   \n",
       "3                                   0                       1   \n",
       "4                                   0                       1   \n",
       "\n",
       "  Modification_Flag  Zero_Balance_Code  Zero_Balance_Effective_Date  ...  \\\n",
       "0                 P                 80                           30  ...   \n",
       "1                 P                 74                           27  ...   \n",
       "2                 P                 85                           34  ...   \n",
       "3                 P                 79                           23  ...   \n",
       "4                 S                 60                           43  ...   \n",
       "\n",
       "   Modification_Cost  Step_Modification_Flag   Deferred_Payment_Plan  \\\n",
       "0                  1  WELLS FARGO BANK, N.A.  WELLS FARGO BANK, N.A.   \n",
       "1                  2           Other sellers          U.S. BANK N.A.   \n",
       "2                  1           Other sellers          U.S. BANK N.A.   \n",
       "3                  2           Other sellers          U.S. BANK N.A.   \n",
       "4                  2           Other sellers         Other servicers   \n",
       "\n",
       "  Estimated_Loan_to_Value_(ELTV) Zero_Balance_Removal_UPB  \\\n",
       "0                            NaN                      NaN   \n",
       "1                            NaN                      NaN   \n",
       "2                            NaN                      NaN   \n",
       "3                            NaN                      NaN   \n",
       "4                            NaN                      NaN   \n",
       "\n",
       "  Delinquent_Accrued_Interest Delinquency_Due_to_Disaster  \\\n",
       "0                           9                         NaN   \n",
       "1                           9                         NaN   \n",
       "2                           9                         NaN   \n",
       "3                           9                         NaN   \n",
       "4                           9                         NaN   \n",
       "\n",
       "  Borrower_Assistance_Status_Code  Current_Month_Modification_Cost  \\\n",
       "0                               2                                N   \n",
       "1                               2                                N   \n",
       "2                               1                                N   \n",
       "3                               2                                N   \n",
       "4                               1                                N   \n",
       "\n",
       "  Interest_Bearing_UPB  \n",
       "0                    7  \n",
       "1                    7  \n",
       "2                    Y  \n",
       "3                    7  \n",
       "4                    7  \n",
       "\n",
       "[5 rows x 32 columns]"
      ]
     },
     "execution_count": 12,
     "metadata": {},
     "output_type": "execute_result"
    }
   ],
   "source": [
    "validator = context.get_validator(batch_request=batch_request, expectation_suite_name=expectation_suite_name)\n",
    "validator.head()"
   ]
  },
  {
   "cell_type": "markdown",
   "id": "9743d367",
   "metadata": {},
   "source": [
    "Validators for schema"
   ]
  },
  {
   "cell_type": "code",
   "execution_count": 13,
   "id": "99bf4cb8",
   "metadata": {},
   "outputs": [],
   "source": [
    "def validate_ge_origination():\n",
    "\n",
    "    #schema check\n",
    "\n",
    "    validator.expect_column_values_to_be_of_type(\"First_Payment_Date\", \"datetime\")\n",
    "    validator.expect_column_values_to_be_of_type(\"First_Time_Homebuyer_Flag\", \"str\")\n",
    "    validator.expect_column_values_to_be_of_type(\"Maturity_Date\", \"datetime\")\n",
    "    validator.expect_column_values_to_be_of_type(\"MSA\", \"int\")\n",
    "    validator.expect_column_values_to_be_of_type(\"MI\", \"int\")\n",
    "    validator.expect_column_values_to_be_of_type(\"Number_of_Units\", \"int\")\n",
    "    validator.expect_column_values_to_be_of_type(\"Occupancy_Status\", \"str\")\n",
    "    validator.expect_column_values_to_be_of_type(\"CLTV\", \"float\")\n",
    "    validator.expect_column_values_to_be_of_type(\"DTI\", \"float\")\n",
    "    validator.expect_column_values_to_be_of_type(\"UPB\", \"int\")\n",
    "    validator.expect_column_values_to_be_of_type(\"LTV\", \"float\")\n",
    "    validator.expect_column_values_to_be_of_type(\"Original_Interest_Rate\", \"float\")\n",
    "\n",
    "    validator.expect_column_values_to_be_of_type(\"Channel\", \"str\")\n",
    "\n",
    "    validator.expect_column_values_to_be_of_type(\"PPM\", \"str\")\n",
    "\n",
    "    validator.expect_column_values_to_be_of_type(\"Amortization\", \"str\")\n",
    "\n",
    "    validator.expect_column_values_to_be_of_type(\"Property_State\", \"str\")\n",
    "\n",
    "    validator.expect_column_values_to_be_of_type(\"Property_Type\", \"str\")\n",
    "\n",
    "    validator.expect_column_values_to_be_of_type(\"Postal_Code\", \"int\")\n",
    "\n",
    "    validator.expect_column_values_to_be_of_type(\"Loan_Sequence_Number\", \"str\")\n",
    "\n",
    "    validator.expect_column_values_to_be_of_type(\"Loan_Purpose\", \"str\")\n",
    "\n",
    "    validator.expect_column_values_to_be_of_type(\"Original_Loan_Term\", \"int\")\n",
    "\n",
    "    validator.expect_column_values_to_be_of_type(\"Number_of_Borrowers\", \"int\")\n",
    "\n",
    "    validator.expect_column_values_to_be_of_type(\"Seller_Name\", \"str\")\n",
    "\n",
    "    validator.expect_column_values_to_be_of_type(\"Servicer_Name\", \"str\")\n",
    "\n",
    "    validator.expect_column_values_to_be_of_type(\"Super_Conforming_Flag\", \"str\")\n",
    "\n",
    "    validator.expect_column_values_to_be_of_type(\"HARP\", \"str\")\n",
    "\n",
    "    validator.expect_column_values_to_be_of_type(\"Program_Indicator\", \"str\")\n",
    "\n",
    "    validator.expect_column_values_to_be_of_type(\"HARP_Indicator\", \"str\")\n",
    "\n",
    "    validator.expect_column_values_to_be_of_type(\"Property_Valuation_Method\", \"int\")\n",
    "\n",
    "    validator.expect_column_values_to_be_of_type(\"nterest_Only\", \"str\")\n",
    "\n",
    "    validator.expect_column_values_to_be_of_type(\"Mortgage_Insurance_Cancellation_Indicator\", \"str\")\n",
    "\n",
    " \n",
    "\n",
    " \n",
    "\n",
    "    #Validation\n",
    "\n",
    "    validator.expect_column_values_to_be_in_set (\"First_Time_Homebuyer_Flag\", [\"Y\",\"N\"])\n",
    "\n",
    "    validator.expect_column_values_to_be_in_set(\"Occupancy_Status\", [\"P\", \"I\", \"S\"])\n",
    "\n",
    "    validator.expect_column_values_to_be_in_set(\"Channel\", [\"B\", \"R\", \"C\"])\n",
    "\n",
    "    validator.expect_column_values_to_match_regex(\"Loan_Sequence_Number\", regex=r'^P\\d{2}Qn[a-zA-Z0-9]{7}$')\n",
    "\n",
    "    validator.expect_column_values_to_match_regex(\"HARP_Indicator\", regex=r'^P\\d{2}Qn[a-zA-Z0-9]{7}$')\n",
    "\n",
    "    validator.expect_column_value_lengths_to_be_between(\"Credit_Score\", min_value=1, max_value=4)\n",
    "\n",
    "    validator.expect_column_value_lengths_to_be_between(\"UPB\", min_value=1, max_value=12)\n",
    "\n",
    "    validator.expect_column_values_to_be_in_set(\"Amortization\", [\"FRM\", \"ARM\"])\n",
    "\n",
    "    validator.expect_column_values_to_match_regex(\"Postal_Code\", r\"^\\d{5}$\")\n",
    "\n",
    "    validator.expect_column_values_to_match_regex(\"Original_Interest_Rate\", regex=r'^\\d{3}\\.\\d{3}$')\n",
    "\n",
    "    expected_states = [\"AL\", \"AK\", \"AZ\", \"AR\", \"CA\", \"CO\", \"CT\", \"DE\", \"FL\", \"GA\", \"HI\", \"ID\", \"IL\", \"IN\", \"IA\", \"KS\", \"KY\", \"LA\", \"ME\", \"MD\", \"MA\", \"MI\", \"MN\", \"MS\", \"MO\", \"MT\", \"NE\", \"NV\", \"NH\", \"NJ\", \"NM\", \"NY\", \"NC\", \"ND\", \"OH\", \"OK\", \"OR\", \"PA\", \"RI\", \"SC\", \"SD\", \"TN\", \"TX\", \"UT\", \"VT\", \"VA\", \"WA\", \"WV\", \"WI\", \"WY\"]\n",
    "\n",
    "    validator.expect_column_values_to_be_in_set(\"Property_State\", value_set=expected_states)\n",
    "\n",
    "    \n",
    "\n",
    "    #Missing data\n",
    "\n",
    "    for column in df.columns:\n",
    "\n",
    "        validator.expect_column_values_to_not_be_null(column)\n",
    "\n",
    " \n",
    "\n",
    " \n",
    "\n",
    "    validator.save_expectation_suite()\n",
    "\n",
    " \n",
    "\n"
   ]
  },
  {
   "cell_type": "code",
   "execution_count": 14,
   "id": "f375ef8f",
   "metadata": {},
   "outputs": [],
   "source": [
    "def validate_ge_monthly():\n",
    "    #Schema Check\n",
    "    validator.expect_column_values_to_be_of_type(\"Loan_Sequence_Number\", \"str\")\n",
    "    validator.expect_column_values_to_be_of_type(\"Monthly_Reporting_Period\", \"datetime\")\n",
    "    validator.expect_column_values_to_be_of_type(\"Current_Actual_UPB\", \"float\")\n",
    "    validator.expect_column_values_to_be_of_type(\"Current_Loan_Delinquency_Status\", \"str\")\n",
    "    validator.expect_column_values_to_be_of_type(\"Loan_Age\", \"int\")\n",
    "    validator.expect_column_values_to_be_of_type(\"Remaining_Months_to_Legal_Maturity\", \"int\")\n",
    "    validator.expect_column_values_to_be_of_type(\"Defect_Settlement_Date\", \"datetime\")\n",
    "    validator.expect_column_values_to_be_of_type(\"Modification_Flag\", \"str\")\n",
    "    validator.expect_column_values_to_be_of_type(\"Zero_Balance_Code\", \"int\")\n",
    "    validator.expect_column_values_to_be_of_type(\"Zero_Balance_Effective_Date\", \"datetime\")\n",
    "    validator.expect_column_values_to_be_of_type(\"Current_Interest_Rate\", \"float\")\n",
    "    validator.expect_column_values_to_be_of_type(\"Current_Deferred_UPB\", \"int\")\n",
    "    validator.expect_column_values_to_be_of_type(\"Due_Date_of_Last_Paid_Installment_(DDLPI)\", \"datetime\")\n",
    "    validator.expect_column_values_to_be_of_type(\"MI_Recoveries\", \"float\")\n",
    "    validator.expect_column_values_to_be_of_type(\"Net_Sales_Proceeds\", \"str\")\n",
    "    validator.expect_column_values_to_be_of_type(\"Non_MI_Recoveries\", \"float\")\n",
    "    validator.expect_column_values_to_be_of_type(\"Expenses\", \"float\")\n",
    "    validator.expect_column_values_to_be_of_type(\"Legal_Costs\", \"float\")\n",
    "    validator.expect_column_values_to_be_of_type(\"Maintenance_and_Preservation_Costs\", \"float\")\n",
    "    validator.expect_column_values_to_be_of_type(\"Taxes_and_Insurance\", \"float\")\n",
    "    validator.expect_column_values_to_be_of_type(\"Miscellaneous_Expenses\", \"float\")\n",
    "    validator.expect_column_values_to_be_of_type(\"Actual_Loss_Calculation\", \"float\")\n",
    "    validator.expect_column_values_to_be_of_type(\"Modification_Cost\", \"float\")\n",
    "    validator.expect_column_values_to_be_of_type(\"Step_Modification_Flag\", \"str\")\n",
    "    validator.expect_column_values_to_be_of_type(\"Deferred_Payment_Plan\", \"str\")\n",
    "    validator.expect_column_values_to_be_of_type(\"Estimated_Loan_to_Value_(ELTV)\", \"int\")\n",
    "    validator.expect_column_values_to_be_of_type(\"Zero_Balance_Removal_UPB\", \"float\")\n",
    "    validator.expect_column_values_to_be_of_type(\"Delinquent_Accrued_Interest\", \"float\")\n",
    "    validator.expect_column_values_to_be_of_type(\"Delinquency_Due_to_Disaster\", \"str\")\n",
    "    validator.expect_column_values_to_be_of_type(\"Borrower_Assistance_Status_Code\", \"str\")\n",
    "    validator.expect_column_values_to_be_of_type(\"Current_Month_Modification_Cost\", \"float\")\n",
    "    validator.expect_column_values_to_be_of_type(\"Interest_Bearing_UPB\", \"float\")\n",
    "\n",
    "    #other validations\n",
    "    validator.expect_column_values_to_be_unique(\"Loan_Sequence_Number\")  #Loan seq number will be unique\n",
    "    validator.expect_column_values_to_match_regex(\"Loan_Sequence_Number\", regex=r'^P\\d{2}Qn[a-zA-Z0-9]{7}$')\n",
    "    validator.expect_column_values_to_match_regex(\"Current_Actual_UPB\", regex=r'^\\d{10}\\.\\d{2}$')\n",
    "    validator.expect_column_values_to_match_regex(\"Current_Interest_Rate\", regex=r'^\\d{5}\\.\\d{3}$')\n",
    "    validator.expect_column_values_to_match_regex(\"MI_Recoveries\", regex=r'^\\d{10}\\.\\d{2}$')\n",
    "    validator.expect_column_values_to_match_regex(\"Non_MI_Recoveries\", regex=r'^\\d{10}\\.\\d{2}$')\n",
    "    validator.expect_column_values_to_match_regex(\"Expenses\", regex=r'^\\d{10}\\.\\d{2}$')\n",
    "    validator.expect_column_values_to_match_regex(\"Legal_Costs\", regex=r'^\\d{10}\\.\\d{2}$')\n",
    "    validator.expect_column_values_to_match_regex(\"Maintenance_and_Preservation_Costs\", regex=r'^\\d{10}\\.\\d{2}$')\n",
    "    validator.expect_column_values_to_match_regex(\"Miscellaneous_Expenses\", regex=r'^\\d{10}\\.\\d{2}$')\n",
    "    validator.expect_column_values_to_match_regex(\"Taxes_and_Insurance\", regex=r'^\\d{10}\\.\\d{2}$')\n",
    "    validator.expect_column_values_to_match_regex(\"Actual_Loss_Calculation\", regex=r'^\\d{10}\\.\\d{2}$')\n",
    "    validator.expect_column_values_to_match_regex(\"Modification_Cost\", regex=r'^\\d{10}\\.\\d{2}$')\n",
    "    validator.expect_column_values_to_match_regex(\"Zero_Balance_Removal_UPB\", regex=r'^\\d{10}\\.\\d{2}$')\n",
    "    validator.expect_column_values_to_match_regex(\"Delinquent_Accrued_Interest\", regex=r'^\\d{10}\\.\\d{2}$')\n",
    "    validator.expect_column_values_to_match_regex(\"Current_Month_Modification_Cost\", regex=r'^\\d{10}\\.\\d{2}$')\n",
    "    validator.expect_column_values_to_match_regex(\"Interest_Bearing_UPB\", regex=r'^\\d{10}\\.\\d{2}$')\n",
    "    validator.expect_column_value_lengths_to_be_between(\"Zero_Balance_Removal_UPB\", min_value=1, max_value=12)\n",
    "    validator.expect_column_value_lengths_to_be_between(\"Current_Deferred_UPB\", min_value=1, max_value=12)\n",
    "    validator.expect_column_values_to_be_in_set(\"MI_Recoveries\", [\"B\", \"R\", \"C\"])\n",
    "    validator.expect_column_values_to_be_in_set(\"Modification_Flag\", [\"I\", \"P\", \"S\"])\n",
    "    \n",
    "\n",
    "    #For null value check\n",
    "    for column in df.columns:\n",
    "        validator.expect_column_values_to_not_be_null(column)\n",
    "\n",
    "    validator.save_expectation_suite()"
   ]
  },
  {
   "cell_type": "code",
   "execution_count": 15,
   "id": "1a15220f",
   "metadata": {},
   "outputs": [
    {
     "data": {
      "application/vnd.jupyter.widget-view+json": {
       "model_id": "70193d8c91994b4aa00cbff5f8c97cf6",
       "version_major": 2,
       "version_minor": 0
      },
      "text/plain": [
       "Calculating Metrics:   0%|          | 0/1 [00:00<?, ?it/s]"
      ]
     },
     "metadata": {},
     "output_type": "display_data"
    },
    {
     "data": {
      "application/vnd.jupyter.widget-view+json": {
       "model_id": "38bebe18004748e28b9003c0ad36625d",
       "version_major": 2,
       "version_minor": 0
      },
      "text/plain": [
       "Calculating Metrics:   0%|          | 0/1 [00:00<?, ?it/s]"
      ]
     },
     "metadata": {},
     "output_type": "display_data"
    },
    {
     "data": {
      "application/vnd.jupyter.widget-view+json": {
       "model_id": "bfb4b8cc07d2471d91d1ecc2eb8ed285",
       "version_major": 2,
       "version_minor": 0
      },
      "text/plain": [
       "Calculating Metrics:   0%|          | 0/8 [00:00<?, ?it/s]"
      ]
     },
     "metadata": {},
     "output_type": "display_data"
    },
    {
     "data": {
      "application/vnd.jupyter.widget-view+json": {
       "model_id": "243bb787b93f49fda3908f136fb369a4",
       "version_major": 2,
       "version_minor": 0
      },
      "text/plain": [
       "Calculating Metrics:   0%|          | 0/1 [00:00<?, ?it/s]"
      ]
     },
     "metadata": {},
     "output_type": "display_data"
    },
    {
     "data": {
      "application/vnd.jupyter.widget-view+json": {
       "model_id": "d3efb5b728ab463a9a5ad3a5acd5732c",
       "version_major": 2,
       "version_minor": 0
      },
      "text/plain": [
       "Calculating Metrics:   0%|          | 0/1 [00:00<?, ?it/s]"
      ]
     },
     "metadata": {},
     "output_type": "display_data"
    },
    {
     "data": {
      "application/vnd.jupyter.widget-view+json": {
       "model_id": "3320174f8bf246c295770d344ee3ed54",
       "version_major": 2,
       "version_minor": 0
      },
      "text/plain": [
       "Calculating Metrics:   0%|          | 0/1 [00:00<?, ?it/s]"
      ]
     },
     "metadata": {},
     "output_type": "display_data"
    },
    {
     "data": {
      "application/vnd.jupyter.widget-view+json": {
       "model_id": "839fb301c1d84e0797b0a9ff826210ff",
       "version_major": 2,
       "version_minor": 0
      },
      "text/plain": [
       "Calculating Metrics:   0%|          | 0/1 [00:00<?, ?it/s]"
      ]
     },
     "metadata": {},
     "output_type": "display_data"
    },
    {
     "data": {
      "application/vnd.jupyter.widget-view+json": {
       "model_id": "f4240a9f4d93427ab1d5235af49b58fc",
       "version_major": 2,
       "version_minor": 0
      },
      "text/plain": [
       "Calculating Metrics:   0%|          | 0/8 [00:00<?, ?it/s]"
      ]
     },
     "metadata": {},
     "output_type": "display_data"
    },
    {
     "data": {
      "application/vnd.jupyter.widget-view+json": {
       "model_id": "15a3df81365846e5b91143d38e4c83d5",
       "version_major": 2,
       "version_minor": 0
      },
      "text/plain": [
       "Calculating Metrics:   0%|          | 0/1 [00:00<?, ?it/s]"
      ]
     },
     "metadata": {},
     "output_type": "display_data"
    },
    {
     "data": {
      "application/vnd.jupyter.widget-view+json": {
       "model_id": "d39898450efc48598538770aedf50a47",
       "version_major": 2,
       "version_minor": 0
      },
      "text/plain": [
       "Calculating Metrics:   0%|          | 0/1 [00:00<?, ?it/s]"
      ]
     },
     "metadata": {},
     "output_type": "display_data"
    },
    {
     "data": {
      "application/vnd.jupyter.widget-view+json": {
       "model_id": "c3a5b62ebea3413f89c6a6b182f198c1",
       "version_major": 2,
       "version_minor": 0
      },
      "text/plain": [
       "Calculating Metrics:   0%|          | 0/1 [00:00<?, ?it/s]"
      ]
     },
     "metadata": {},
     "output_type": "display_data"
    },
    {
     "data": {
      "application/vnd.jupyter.widget-view+json": {
       "model_id": "8906ff7aefea4c438082e82eb8dc030b",
       "version_major": 2,
       "version_minor": 0
      },
      "text/plain": [
       "Calculating Metrics:   0%|          | 0/1 [00:00<?, ?it/s]"
      ]
     },
     "metadata": {},
     "output_type": "display_data"
    },
    {
     "data": {
      "application/vnd.jupyter.widget-view+json": {
       "model_id": "fdce64e11ac4415e8ac851b9987a083a",
       "version_major": 2,
       "version_minor": 0
      },
      "text/plain": [
       "Calculating Metrics:   0%|          | 0/1 [00:00<?, ?it/s]"
      ]
     },
     "metadata": {},
     "output_type": "display_data"
    },
    {
     "data": {
      "application/vnd.jupyter.widget-view+json": {
       "model_id": "c25089ce5aa44a5ea6e1f20509bba41d",
       "version_major": 2,
       "version_minor": 0
      },
      "text/plain": [
       "Calculating Metrics:   0%|          | 0/8 [00:00<?, ?it/s]"
      ]
     },
     "metadata": {},
     "output_type": "display_data"
    },
    {
     "data": {
      "application/vnd.jupyter.widget-view+json": {
       "model_id": "cd7298792660484c8d0bb00493bb2f23",
       "version_major": 2,
       "version_minor": 0
      },
      "text/plain": [
       "Calculating Metrics:   0%|          | 0/8 [00:00<?, ?it/s]"
      ]
     },
     "metadata": {},
     "output_type": "display_data"
    },
    {
     "data": {
      "application/vnd.jupyter.widget-view+json": {
       "model_id": "6a610940664b421e8a2cdcf11f7f0771",
       "version_major": 2,
       "version_minor": 0
      },
      "text/plain": [
       "Calculating Metrics:   0%|          | 0/8 [00:00<?, ?it/s]"
      ]
     },
     "metadata": {},
     "output_type": "display_data"
    },
    {
     "data": {
      "application/vnd.jupyter.widget-view+json": {
       "model_id": "cdf636a946474a95b5fd2221ebbe1f29",
       "version_major": 2,
       "version_minor": 0
      },
      "text/plain": [
       "Calculating Metrics:   0%|          | 0/8 [00:00<?, ?it/s]"
      ]
     },
     "metadata": {},
     "output_type": "display_data"
    },
    {
     "data": {
      "application/vnd.jupyter.widget-view+json": {
       "model_id": "3107efe69de5435ebfdd72713cd462e4",
       "version_major": 2,
       "version_minor": 0
      },
      "text/plain": [
       "Calculating Metrics:   0%|          | 0/8 [00:00<?, ?it/s]"
      ]
     },
     "metadata": {},
     "output_type": "display_data"
    },
    {
     "data": {
      "application/vnd.jupyter.widget-view+json": {
       "model_id": "a8887ee94e8b418ab40218bcf48c2e67",
       "version_major": 2,
       "version_minor": 0
      },
      "text/plain": [
       "Calculating Metrics:   0%|          | 0/1 [00:00<?, ?it/s]"
      ]
     },
     "metadata": {},
     "output_type": "display_data"
    },
    {
     "data": {
      "application/vnd.jupyter.widget-view+json": {
       "model_id": "09fe505f3784414cb4d620458fd7c082",
       "version_major": 2,
       "version_minor": 0
      },
      "text/plain": [
       "Calculating Metrics:   0%|          | 0/8 [00:00<?, ?it/s]"
      ]
     },
     "metadata": {},
     "output_type": "display_data"
    },
    {
     "data": {
      "application/vnd.jupyter.widget-view+json": {
       "model_id": "146e5740fa2b439c8ec7d0e97b9a20e5",
       "version_major": 2,
       "version_minor": 0
      },
      "text/plain": [
       "Calculating Metrics:   0%|          | 0/8 [00:00<?, ?it/s]"
      ]
     },
     "metadata": {},
     "output_type": "display_data"
    },
    {
     "data": {
      "application/vnd.jupyter.widget-view+json": {
       "model_id": "9693c79748fd4edf82e0329b4bce630a",
       "version_major": 2,
       "version_minor": 0
      },
      "text/plain": [
       "Calculating Metrics:   0%|          | 0/1 [00:00<?, ?it/s]"
      ]
     },
     "metadata": {},
     "output_type": "display_data"
    },
    {
     "data": {
      "application/vnd.jupyter.widget-view+json": {
       "model_id": "491c51e85ade4ba9bc7c515a69add690",
       "version_major": 2,
       "version_minor": 0
      },
      "text/plain": [
       "Calculating Metrics:   0%|          | 0/1 [00:00<?, ?it/s]"
      ]
     },
     "metadata": {},
     "output_type": "display_data"
    },
    {
     "data": {
      "application/vnd.jupyter.widget-view+json": {
       "model_id": "2ab4243e51c84c918d280cccebef51ea",
       "version_major": 2,
       "version_minor": 0
      },
      "text/plain": [
       "Calculating Metrics:   0%|          | 0/8 [00:00<?, ?it/s]"
      ]
     },
     "metadata": {},
     "output_type": "display_data"
    },
    {
     "data": {
      "application/vnd.jupyter.widget-view+json": {
       "model_id": "fdd4658f0fa44481a59481268b32c0d8",
       "version_major": 2,
       "version_minor": 0
      },
      "text/plain": [
       "Calculating Metrics:   0%|          | 0/8 [00:00<?, ?it/s]"
      ]
     },
     "metadata": {},
     "output_type": "display_data"
    },
    {
     "data": {
      "application/vnd.jupyter.widget-view+json": {
       "model_id": "dbbfbc8003d340f99796445015f2d951",
       "version_major": 2,
       "version_minor": 0
      },
      "text/plain": [
       "Calculating Metrics:   0%|          | 0/8 [00:00<?, ?it/s]"
      ]
     },
     "metadata": {},
     "output_type": "display_data"
    },
    {
     "data": {
      "application/vnd.jupyter.widget-view+json": {
       "model_id": "eeca931d861742a181a4470472adcf88",
       "version_major": 2,
       "version_minor": 0
      },
      "text/plain": [
       "Calculating Metrics:   0%|          | 0/1 [00:00<?, ?it/s]"
      ]
     },
     "metadata": {},
     "output_type": "display_data"
    },
    {
     "data": {
      "application/vnd.jupyter.widget-view+json": {
       "model_id": "eba7efdd63b74ef6abd4afc21d93aac9",
       "version_major": 2,
       "version_minor": 0
      },
      "text/plain": [
       "Calculating Metrics:   0%|          | 0/8 [00:00<?, ?it/s]"
      ]
     },
     "metadata": {},
     "output_type": "display_data"
    },
    {
     "data": {
      "application/vnd.jupyter.widget-view+json": {
       "model_id": "4ef50cc4c20641e688d7886627d623a0",
       "version_major": 2,
       "version_minor": 0
      },
      "text/plain": [
       "Calculating Metrics:   0%|          | 0/1 [00:00<?, ?it/s]"
      ]
     },
     "metadata": {},
     "output_type": "display_data"
    },
    {
     "data": {
      "application/vnd.jupyter.widget-view+json": {
       "model_id": "de53df23ffc449719ddce50e42677de7",
       "version_major": 2,
       "version_minor": 0
      },
      "text/plain": [
       "Calculating Metrics:   0%|          | 0/1 [00:00<?, ?it/s]"
      ]
     },
     "metadata": {},
     "output_type": "display_data"
    },
    {
     "data": {
      "application/vnd.jupyter.widget-view+json": {
       "model_id": "6ba1a1056f2340d386bc4496d8d0213c",
       "version_major": 2,
       "version_minor": 0
      },
      "text/plain": [
       "Calculating Metrics:   0%|          | 0/8 [00:00<?, ?it/s]"
      ]
     },
     "metadata": {},
     "output_type": "display_data"
    },
    {
     "data": {
      "application/vnd.jupyter.widget-view+json": {
       "model_id": "61a192f40e224f238a5efc8e2276bc13",
       "version_major": 2,
       "version_minor": 0
      },
      "text/plain": [
       "Calculating Metrics:   0%|          | 0/8 [00:00<?, ?it/s]"
      ]
     },
     "metadata": {},
     "output_type": "display_data"
    },
    {
     "data": {
      "application/vnd.jupyter.widget-view+json": {
       "model_id": "b1e0d6461a0f4303b409a0e006892f3a",
       "version_major": 2,
       "version_minor": 0
      },
      "text/plain": [
       "Calculating Metrics:   0%|          | 0/8 [00:00<?, ?it/s]"
      ]
     },
     "metadata": {},
     "output_type": "display_data"
    },
    {
     "data": {
      "application/vnd.jupyter.widget-view+json": {
       "model_id": "b87d8c2f5b254412926e68693386496e",
       "version_major": 2,
       "version_minor": 0
      },
      "text/plain": [
       "Calculating Metrics:   0%|          | 0/8 [00:00<?, ?it/s]"
      ]
     },
     "metadata": {},
     "output_type": "display_data"
    },
    {
     "data": {
      "application/vnd.jupyter.widget-view+json": {
       "model_id": "750f0c8f04c4440bbf329048e2fac2c9",
       "version_major": 2,
       "version_minor": 0
      },
      "text/plain": [
       "Calculating Metrics:   0%|          | 0/8 [00:00<?, ?it/s]"
      ]
     },
     "metadata": {},
     "output_type": "display_data"
    },
    {
     "data": {
      "application/vnd.jupyter.widget-view+json": {
       "model_id": "d9a988c9f4c24b28830ab237adad8ee1",
       "version_major": 2,
       "version_minor": 0
      },
      "text/plain": [
       "Calculating Metrics:   0%|          | 0/8 [00:00<?, ?it/s]"
      ]
     },
     "metadata": {},
     "output_type": "display_data"
    },
    {
     "data": {
      "application/vnd.jupyter.widget-view+json": {
       "model_id": "0cfc1428e44f461cb3a2b1521955013b",
       "version_major": 2,
       "version_minor": 0
      },
      "text/plain": [
       "Calculating Metrics:   0%|          | 0/8 [00:00<?, ?it/s]"
      ]
     },
     "metadata": {},
     "output_type": "display_data"
    },
    {
     "data": {
      "application/vnd.jupyter.widget-view+json": {
       "model_id": "b65ee16e74044ec28e267cafa9245e22",
       "version_major": 2,
       "version_minor": 0
      },
      "text/plain": [
       "Calculating Metrics:   0%|          | 0/8 [00:00<?, ?it/s]"
      ]
     },
     "metadata": {},
     "output_type": "display_data"
    },
    {
     "data": {
      "application/vnd.jupyter.widget-view+json": {
       "model_id": "74535459d1454da0be17ed4aae641ab7",
       "version_major": 2,
       "version_minor": 0
      },
      "text/plain": [
       "Calculating Metrics:   0%|          | 0/8 [00:00<?, ?it/s]"
      ]
     },
     "metadata": {},
     "output_type": "display_data"
    },
    {
     "data": {
      "application/vnd.jupyter.widget-view+json": {
       "model_id": "6403e0827af44c35964ffe38f1a84b84",
       "version_major": 2,
       "version_minor": 0
      },
      "text/plain": [
       "Calculating Metrics:   0%|          | 0/8 [00:00<?, ?it/s]"
      ]
     },
     "metadata": {},
     "output_type": "display_data"
    },
    {
     "data": {
      "application/vnd.jupyter.widget-view+json": {
       "model_id": "0af3ed5351d34b48b4150bda4d1ce522",
       "version_major": 2,
       "version_minor": 0
      },
      "text/plain": [
       "Calculating Metrics:   0%|          | 0/8 [00:00<?, ?it/s]"
      ]
     },
     "metadata": {},
     "output_type": "display_data"
    },
    {
     "data": {
      "application/vnd.jupyter.widget-view+json": {
       "model_id": "3f9e38a05c474e38a4a81fc91ccd13d4",
       "version_major": 2,
       "version_minor": 0
      },
      "text/plain": [
       "Calculating Metrics:   0%|          | 0/8 [00:00<?, ?it/s]"
      ]
     },
     "metadata": {},
     "output_type": "display_data"
    },
    {
     "data": {
      "application/vnd.jupyter.widget-view+json": {
       "model_id": "a5edfc3a6c1b4dac8555c83221d2af01",
       "version_major": 2,
       "version_minor": 0
      },
      "text/plain": [
       "Calculating Metrics:   0%|          | 0/8 [00:00<?, ?it/s]"
      ]
     },
     "metadata": {},
     "output_type": "display_data"
    },
    {
     "data": {
      "application/vnd.jupyter.widget-view+json": {
       "model_id": "9b4a7fda4eb641f18c29a918b4f67f9d",
       "version_major": 2,
       "version_minor": 0
      },
      "text/plain": [
       "Calculating Metrics:   0%|          | 0/8 [00:00<?, ?it/s]"
      ]
     },
     "metadata": {},
     "output_type": "display_data"
    },
    {
     "data": {
      "application/vnd.jupyter.widget-view+json": {
       "model_id": "fe3e7f385c6e45d6bbf2255be8d74f7a",
       "version_major": 2,
       "version_minor": 0
      },
      "text/plain": [
       "Calculating Metrics:   0%|          | 0/8 [00:00<?, ?it/s]"
      ]
     },
     "metadata": {},
     "output_type": "display_data"
    },
    {
     "data": {
      "application/vnd.jupyter.widget-view+json": {
       "model_id": "41a2411cab324173ad1cfcef179644ee",
       "version_major": 2,
       "version_minor": 0
      },
      "text/plain": [
       "Calculating Metrics:   0%|          | 0/8 [00:00<?, ?it/s]"
      ]
     },
     "metadata": {},
     "output_type": "display_data"
    },
    {
     "data": {
      "application/vnd.jupyter.widget-view+json": {
       "model_id": "0bb62f40cb6d4091917d9b0920df9f64",
       "version_major": 2,
       "version_minor": 0
      },
      "text/plain": [
       "Calculating Metrics:   0%|          | 0/8 [00:00<?, ?it/s]"
      ]
     },
     "metadata": {},
     "output_type": "display_data"
    },
    {
     "data": {
      "application/vnd.jupyter.widget-view+json": {
       "model_id": "a03e53ca7e664333ab8b56397f8131a1",
       "version_major": 2,
       "version_minor": 0
      },
      "text/plain": [
       "Calculating Metrics:   0%|          | 0/8 [00:00<?, ?it/s]"
      ]
     },
     "metadata": {},
     "output_type": "display_data"
    },
    {
     "data": {
      "application/vnd.jupyter.widget-view+json": {
       "model_id": "cde8746b9d68471b9ebbfdba187ae633",
       "version_major": 2,
       "version_minor": 0
      },
      "text/plain": [
       "Calculating Metrics:   0%|          | 0/8 [00:00<?, ?it/s]"
      ]
     },
     "metadata": {},
     "output_type": "display_data"
    },
    {
     "data": {
      "application/vnd.jupyter.widget-view+json": {
       "model_id": "53de47473d964f3e8bf0813f50868612",
       "version_major": 2,
       "version_minor": 0
      },
      "text/plain": [
       "Calculating Metrics:   0%|          | 0/9 [00:00<?, ?it/s]"
      ]
     },
     "metadata": {},
     "output_type": "display_data"
    },
    {
     "data": {
      "application/vnd.jupyter.widget-view+json": {
       "model_id": "f83dc7a9333d43da93486c38d25a50e4",
       "version_major": 2,
       "version_minor": 0
      },
      "text/plain": [
       "Calculating Metrics:   0%|          | 0/9 [00:00<?, ?it/s]"
      ]
     },
     "metadata": {},
     "output_type": "display_data"
    },
    {
     "data": {
      "application/vnd.jupyter.widget-view+json": {
       "model_id": "3301afbb5b5e45ce813e59f370cb5038",
       "version_major": 2,
       "version_minor": 0
      },
      "text/plain": [
       "Calculating Metrics:   0%|          | 0/8 [00:00<?, ?it/s]"
      ]
     },
     "metadata": {},
     "output_type": "display_data"
    },
    {
     "data": {
      "application/vnd.jupyter.widget-view+json": {
       "model_id": "d13ba548e32548a5802e8e52a13ca8af",
       "version_major": 2,
       "version_minor": 0
      },
      "text/plain": [
       "Calculating Metrics:   0%|          | 0/8 [00:00<?, ?it/s]"
      ]
     },
     "metadata": {},
     "output_type": "display_data"
    },
    {
     "data": {
      "application/vnd.jupyter.widget-view+json": {
       "model_id": "df6607e4e3324b6cb9a3177265dde4d9",
       "version_major": 2,
       "version_minor": 0
      },
      "text/plain": [
       "Calculating Metrics:   0%|          | 0/6 [00:00<?, ?it/s]"
      ]
     },
     "metadata": {},
     "output_type": "display_data"
    },
    {
     "data": {
      "application/vnd.jupyter.widget-view+json": {
       "model_id": "b36b71747e8c4eaaa365c196d68dde23",
       "version_major": 2,
       "version_minor": 0
      },
      "text/plain": [
       "Calculating Metrics:   0%|          | 0/6 [00:00<?, ?it/s]"
      ]
     },
     "metadata": {},
     "output_type": "display_data"
    },
    {
     "data": {
      "application/vnd.jupyter.widget-view+json": {
       "model_id": "2cb34af092194e6da4e282b1d5e37b70",
       "version_major": 2,
       "version_minor": 0
      },
      "text/plain": [
       "Calculating Metrics:   0%|          | 0/6 [00:00<?, ?it/s]"
      ]
     },
     "metadata": {},
     "output_type": "display_data"
    },
    {
     "data": {
      "application/vnd.jupyter.widget-view+json": {
       "model_id": "febd3c0b3891472b8b78ef7aec780ef2",
       "version_major": 2,
       "version_minor": 0
      },
      "text/plain": [
       "Calculating Metrics:   0%|          | 0/6 [00:00<?, ?it/s]"
      ]
     },
     "metadata": {},
     "output_type": "display_data"
    },
    {
     "data": {
      "application/vnd.jupyter.widget-view+json": {
       "model_id": "6d1b11d2635149fd8bc043d11955bc87",
       "version_major": 2,
       "version_minor": 0
      },
      "text/plain": [
       "Calculating Metrics:   0%|          | 0/6 [00:00<?, ?it/s]"
      ]
     },
     "metadata": {},
     "output_type": "display_data"
    },
    {
     "data": {
      "application/vnd.jupyter.widget-view+json": {
       "model_id": "78944452975744b584f3bdc612aaf641",
       "version_major": 2,
       "version_minor": 0
      },
      "text/plain": [
       "Calculating Metrics:   0%|          | 0/6 [00:00<?, ?it/s]"
      ]
     },
     "metadata": {},
     "output_type": "display_data"
    },
    {
     "data": {
      "application/vnd.jupyter.widget-view+json": {
       "model_id": "6d544035f9094f89baf968bd6eddc459",
       "version_major": 2,
       "version_minor": 0
      },
      "text/plain": [
       "Calculating Metrics:   0%|          | 0/6 [00:00<?, ?it/s]"
      ]
     },
     "metadata": {},
     "output_type": "display_data"
    },
    {
     "data": {
      "application/vnd.jupyter.widget-view+json": {
       "model_id": "50824a080587400cafd7e5c8dc4701fc",
       "version_major": 2,
       "version_minor": 0
      },
      "text/plain": [
       "Calculating Metrics:   0%|          | 0/6 [00:00<?, ?it/s]"
      ]
     },
     "metadata": {},
     "output_type": "display_data"
    },
    {
     "data": {
      "application/vnd.jupyter.widget-view+json": {
       "model_id": "0022ffc16dea4507ba1201202c17ac2b",
       "version_major": 2,
       "version_minor": 0
      },
      "text/plain": [
       "Calculating Metrics:   0%|          | 0/6 [00:00<?, ?it/s]"
      ]
     },
     "metadata": {},
     "output_type": "display_data"
    },
    {
     "data": {
      "application/vnd.jupyter.widget-view+json": {
       "model_id": "1fd30d187e9b4feea9f09fc4467ece69",
       "version_major": 2,
       "version_minor": 0
      },
      "text/plain": [
       "Calculating Metrics:   0%|          | 0/6 [00:00<?, ?it/s]"
      ]
     },
     "metadata": {},
     "output_type": "display_data"
    },
    {
     "data": {
      "application/vnd.jupyter.widget-view+json": {
       "model_id": "143b5dc31cb842508cadab8b3fbb12e0",
       "version_major": 2,
       "version_minor": 0
      },
      "text/plain": [
       "Calculating Metrics:   0%|          | 0/6 [00:00<?, ?it/s]"
      ]
     },
     "metadata": {},
     "output_type": "display_data"
    },
    {
     "data": {
      "application/vnd.jupyter.widget-view+json": {
       "model_id": "0616fc4bd26048e6928ba70ecc43996a",
       "version_major": 2,
       "version_minor": 0
      },
      "text/plain": [
       "Calculating Metrics:   0%|          | 0/6 [00:00<?, ?it/s]"
      ]
     },
     "metadata": {},
     "output_type": "display_data"
    },
    {
     "data": {
      "application/vnd.jupyter.widget-view+json": {
       "model_id": "292bd42e0af54761a2161f44458b3c3e",
       "version_major": 2,
       "version_minor": 0
      },
      "text/plain": [
       "Calculating Metrics:   0%|          | 0/6 [00:00<?, ?it/s]"
      ]
     },
     "metadata": {},
     "output_type": "display_data"
    },
    {
     "data": {
      "application/vnd.jupyter.widget-view+json": {
       "model_id": "02c528f735224489aefeabc7588d272d",
       "version_major": 2,
       "version_minor": 0
      },
      "text/plain": [
       "Calculating Metrics:   0%|          | 0/6 [00:00<?, ?it/s]"
      ]
     },
     "metadata": {},
     "output_type": "display_data"
    },
    {
     "data": {
      "application/vnd.jupyter.widget-view+json": {
       "model_id": "81a434e45d5448768793606c51114576",
       "version_major": 2,
       "version_minor": 0
      },
      "text/plain": [
       "Calculating Metrics:   0%|          | 0/6 [00:00<?, ?it/s]"
      ]
     },
     "metadata": {},
     "output_type": "display_data"
    },
    {
     "data": {
      "application/vnd.jupyter.widget-view+json": {
       "model_id": "225e6bcb2a884f259e0d6caa131990fc",
       "version_major": 2,
       "version_minor": 0
      },
      "text/plain": [
       "Calculating Metrics:   0%|          | 0/6 [00:00<?, ?it/s]"
      ]
     },
     "metadata": {},
     "output_type": "display_data"
    },
    {
     "data": {
      "application/vnd.jupyter.widget-view+json": {
       "model_id": "0520a2c561c1477ca72ca45aea86e6ef",
       "version_major": 2,
       "version_minor": 0
      },
      "text/plain": [
       "Calculating Metrics:   0%|          | 0/6 [00:00<?, ?it/s]"
      ]
     },
     "metadata": {},
     "output_type": "display_data"
    },
    {
     "data": {
      "application/vnd.jupyter.widget-view+json": {
       "model_id": "d02163257c4a4a1f86cc8ca5cc4aa053",
       "version_major": 2,
       "version_minor": 0
      },
      "text/plain": [
       "Calculating Metrics:   0%|          | 0/6 [00:00<?, ?it/s]"
      ]
     },
     "metadata": {},
     "output_type": "display_data"
    },
    {
     "data": {
      "application/vnd.jupyter.widget-view+json": {
       "model_id": "9b75a9da102040658085f49b42c8708b",
       "version_major": 2,
       "version_minor": 0
      },
      "text/plain": [
       "Calculating Metrics:   0%|          | 0/6 [00:00<?, ?it/s]"
      ]
     },
     "metadata": {},
     "output_type": "display_data"
    },
    {
     "data": {
      "application/vnd.jupyter.widget-view+json": {
       "model_id": "721892dc8f0244eea22b91bf36a8a691",
       "version_major": 2,
       "version_minor": 0
      },
      "text/plain": [
       "Calculating Metrics:   0%|          | 0/6 [00:00<?, ?it/s]"
      ]
     },
     "metadata": {},
     "output_type": "display_data"
    },
    {
     "data": {
      "application/vnd.jupyter.widget-view+json": {
       "model_id": "7574f41a72e443dc9577da35f263bffd",
       "version_major": 2,
       "version_minor": 0
      },
      "text/plain": [
       "Calculating Metrics:   0%|          | 0/6 [00:00<?, ?it/s]"
      ]
     },
     "metadata": {},
     "output_type": "display_data"
    },
    {
     "data": {
      "application/vnd.jupyter.widget-view+json": {
       "model_id": "d701002e3ae44164b501acefee08e751",
       "version_major": 2,
       "version_minor": 0
      },
      "text/plain": [
       "Calculating Metrics:   0%|          | 0/6 [00:00<?, ?it/s]"
      ]
     },
     "metadata": {},
     "output_type": "display_data"
    },
    {
     "data": {
      "application/vnd.jupyter.widget-view+json": {
       "model_id": "6be7a794a2614cab8fe0b7ef61002df4",
       "version_major": 2,
       "version_minor": 0
      },
      "text/plain": [
       "Calculating Metrics:   0%|          | 0/6 [00:00<?, ?it/s]"
      ]
     },
     "metadata": {},
     "output_type": "display_data"
    },
    {
     "data": {
      "application/vnd.jupyter.widget-view+json": {
       "model_id": "641c2c37505a4dc697b4a7027101d357",
       "version_major": 2,
       "version_minor": 0
      },
      "text/plain": [
       "Calculating Metrics:   0%|          | 0/6 [00:00<?, ?it/s]"
      ]
     },
     "metadata": {},
     "output_type": "display_data"
    },
    {
     "data": {
      "application/vnd.jupyter.widget-view+json": {
       "model_id": "21895c30ce3846d7a3ba4d58082bc177",
       "version_major": 2,
       "version_minor": 0
      },
      "text/plain": [
       "Calculating Metrics:   0%|          | 0/6 [00:00<?, ?it/s]"
      ]
     },
     "metadata": {},
     "output_type": "display_data"
    },
    {
     "data": {
      "application/vnd.jupyter.widget-view+json": {
       "model_id": "b141d05d00fc47af9fc5f188d8a03ab7",
       "version_major": 2,
       "version_minor": 0
      },
      "text/plain": [
       "Calculating Metrics:   0%|          | 0/6 [00:00<?, ?it/s]"
      ]
     },
     "metadata": {},
     "output_type": "display_data"
    },
    {
     "data": {
      "application/vnd.jupyter.widget-view+json": {
       "model_id": "157ed94c762a4dae8c0ea8c1451bc81b",
       "version_major": 2,
       "version_minor": 0
      },
      "text/plain": [
       "Calculating Metrics:   0%|          | 0/6 [00:00<?, ?it/s]"
      ]
     },
     "metadata": {},
     "output_type": "display_data"
    },
    {
     "data": {
      "application/vnd.jupyter.widget-view+json": {
       "model_id": "3fd7bb2243a84b6e81e79d0fbce42b33",
       "version_major": 2,
       "version_minor": 0
      },
      "text/plain": [
       "Calculating Metrics:   0%|          | 0/6 [00:00<?, ?it/s]"
      ]
     },
     "metadata": {},
     "output_type": "display_data"
    },
    {
     "data": {
      "application/vnd.jupyter.widget-view+json": {
       "model_id": "a08c8ff0f65248bb969412c669970ccb",
       "version_major": 2,
       "version_minor": 0
      },
      "text/plain": [
       "Calculating Metrics:   0%|          | 0/6 [00:00<?, ?it/s]"
      ]
     },
     "metadata": {},
     "output_type": "display_data"
    },
    {
     "data": {
      "application/vnd.jupyter.widget-view+json": {
       "model_id": "4f9f364f6cd143fca7bb8b31c1ea1a4f",
       "version_major": 2,
       "version_minor": 0
      },
      "text/plain": [
       "Calculating Metrics:   0%|          | 0/6 [00:00<?, ?it/s]"
      ]
     },
     "metadata": {},
     "output_type": "display_data"
    },
    {
     "data": {
      "application/vnd.jupyter.widget-view+json": {
       "model_id": "47260040d1734fa3aa0d93b0afde7878",
       "version_major": 2,
       "version_minor": 0
      },
      "text/plain": [
       "Calculating Metrics:   0%|          | 0/6 [00:00<?, ?it/s]"
      ]
     },
     "metadata": {},
     "output_type": "display_data"
    },
    {
     "data": {
      "application/vnd.jupyter.widget-view+json": {
       "model_id": "089718039334455ca92000d1afff711d",
       "version_major": 2,
       "version_minor": 0
      },
      "text/plain": [
       "Calculating Metrics:   0%|          | 0/6 [00:00<?, ?it/s]"
      ]
     },
     "metadata": {},
     "output_type": "display_data"
    }
   ],
   "source": [
    "validate_ge_monthly()"
   ]
  },
  {
   "cell_type": "code",
   "execution_count": 16,
   "id": "e944853f",
   "metadata": {},
   "outputs": [],
   "source": [
    "checkpoint = context.add_or_update_checkpoint(\n",
    "    name=\"Freddie_Mac_Monthly_v1\",\n",
    "    validator=validator\n",
    ")"
   ]
  },
  {
   "cell_type": "code",
   "execution_count": 17,
   "id": "687fa030",
   "metadata": {},
   "outputs": [
    {
     "data": {
      "application/vnd.jupyter.widget-view+json": {
       "model_id": "63517b5213ed4ca0adf00e4967fdbe23",
       "version_major": 2,
       "version_minor": 0
      },
      "text/plain": [
       "Calculating Metrics:   0%|          | 0/192 [00:00<?, ?it/s]"
      ]
     },
     "metadata": {},
     "output_type": "display_data"
    }
   ],
   "source": [
    "checkpoint_result = checkpoint.run(run_name=\"Manual_run\")"
   ]
  },
  {
   "cell_type": "code",
   "execution_count": 18,
   "id": "c0208bf4",
   "metadata": {},
   "outputs": [
    {
     "data": {
      "text/plain": [
       "{'local_site': 'file:///Users/shruti/Desktop/Assignment_1/Part_2/GEX_Monthly/gx/uncommitted/data_docs/local_site/index.html'}"
      ]
     },
     "execution_count": 18,
     "metadata": {},
     "output_type": "execute_result"
    }
   ],
   "source": [
    "context.build_data_docs()"
   ]
  },
  {
   "cell_type": "code",
   "execution_count": null,
   "id": "1dda6dc3",
   "metadata": {},
   "outputs": [],
   "source": []
  }
 ],
 "metadata": {
  "kernelspec": {
   "display_name": ".venv",
   "language": "python",
   "name": "python3"
  },
  "language_info": {
   "codemirror_mode": {
    "name": "ipython",
    "version": 3
   },
   "file_extension": ".py",
   "mimetype": "text/x-python",
   "name": "python",
   "nbconvert_exporter": "python",
   "pygments_lexer": "ipython3",
   "version": "3.8.18"
  }
 },
 "nbformat": 4,
 "nbformat_minor": 5
}
