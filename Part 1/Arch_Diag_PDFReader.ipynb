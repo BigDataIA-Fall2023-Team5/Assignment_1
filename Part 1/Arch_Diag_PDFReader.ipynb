{
 "cells": [
  {
   "cell_type": "code",
   "execution_count": 1,
   "id": "d5429a34",
   "metadata": {},
   "outputs": [
    {
     "name": "stdout",
     "output_type": "stream",
     "text": [
      "Requirement already satisfied: diagrams in /Users/saniyakapur/opt/anaconda3/envs/NewVirEnv/lib/python3.10/site-packages (0.23.3)\n",
      "Requirement already satisfied: graphviz<0.21.0,>=0.13.2 in /Users/saniyakapur/opt/anaconda3/envs/NewVirEnv/lib/python3.10/site-packages (from diagrams) (0.20.1)\n",
      "Requirement already satisfied: jinja2<4.0,>=2.10 in /Users/saniyakapur/opt/anaconda3/envs/NewVirEnv/lib/python3.10/site-packages (from diagrams) (3.1.2)\n",
      "Requirement already satisfied: typed-ast<2.0.0,>=1.5.4 in /Users/saniyakapur/opt/anaconda3/envs/NewVirEnv/lib/python3.10/site-packages (from diagrams) (1.5.5)\n",
      "Requirement already satisfied: MarkupSafe>=2.0 in /Users/saniyakapur/opt/anaconda3/envs/NewVirEnv/lib/python3.10/site-packages (from jinja2<4.0,>=2.10->diagrams) (2.1.1)\n",
      "Note: you may need to restart the kernel to use updated packages.\n"
     ]
    }
   ],
   "source": [
    "pip install diagrams"
   ]
  },
  {
   "cell_type": "code",
   "execution_count": 2,
   "id": "409007f0",
   "metadata": {},
   "outputs": [],
   "source": [
    "from diagrams import Cluster, Diagram"
   ]
  },
  {
   "cell_type": "code",
   "execution_count": 3,
   "id": "b6460ad5",
   "metadata": {},
   "outputs": [],
   "source": [
    "from diagrams.aws.general import User\n",
    "from diagrams.aws.network import VPCFlowLogs\n",
    "from diagrams.aws.compute import EC2\n",
    "from diagrams.elastic.enterprisesearch import AppSearch"
   ]
  },
  {
   "cell_type": "code",
   "execution_count": 4,
   "id": "7b920464",
   "metadata": {},
   "outputs": [],
   "source": [
    "with Diagram(\"PDF Reader\", show=True):\n",
    "    user = User(\"User\")\n",
    "    url = VPCFlowLogs(\"Request URL\")\n",
    "\n",
    "    with Cluster(\"Services\"):\n",
    "        svc_group = [EC2(\"PyPdf\"),\n",
    "                     EC2(\"Nougat\")]\n",
    "\n",
    "    output = AppSearch(\"Extracted Text\")\n",
    "\n",
    "    user >> url >> svc_group\n",
    "    svc_group >> output\n",
    "    "
   ]
  },
  {
   "cell_type": "code",
   "execution_count": null,
   "id": "b650ce22",
   "metadata": {},
   "outputs": [],
   "source": []
  },
  {
   "cell_type": "code",
   "execution_count": null,
   "id": "4697195e",
   "metadata": {},
   "outputs": [],
   "source": []
  },
  {
   "cell_type": "code",
   "execution_count": null,
   "id": "3b80c667",
   "metadata": {},
   "outputs": [],
   "source": []
  }
 ],
 "metadata": {
  "kernelspec": {
   "display_name": "Python 3 (ipykernel)",
   "language": "python",
   "name": "python3"
  },
  "language_info": {
   "codemirror_mode": {
    "name": "ipython",
    "version": 3
   },
   "file_extension": ".py",
   "mimetype": "text/x-python",
   "name": "python",
   "nbconvert_exporter": "python",
   "pygments_lexer": "ipython3",
   "version": "3.10.13"
  }
 },
 "nbformat": 4,
 "nbformat_minor": 5
}
